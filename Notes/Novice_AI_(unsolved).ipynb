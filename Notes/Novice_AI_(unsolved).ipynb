{
  "nbformat": 4,
  "nbformat_minor": 0,
  "metadata": {
    "colab": {
      "name": "Novice-AI (unsolved).ipynb",
      "version": "0.3.2",
      "provenance": [],
      "collapsed_sections": [
        "AnG7ENvkBw62",
        "T8KSLMloBkRF",
        "9Bh8bvCXo9I1",
        "ftrHe7RrrPe4",
        "_Mo_P0GTtAnQ",
        "O9kK72m6ENIe",
        "XQ17JbLMDa4T",
        "QtW0W_QzDoED",
        "mCiLcK2A2kWA"
      ],
      "include_colab_link": true
    },
    "kernelspec": {
      "name": "python3",
      "display_name": "Python 3"
    }
  },
  "cells": [
    {
      "cell_type": "markdown",
      "metadata": {
        "id": "view-in-github",
        "colab_type": "text"
      },
      "source": [
        "<a href=\"https://colab.research.google.com/github/ingus-t/SPAI/blob/master/Notes/Novice_AI_(unsolved).ipynb\" target=\"_parent\"><img src=\"https://colab.research.google.com/assets/colab-badge.svg\" alt=\"Open In Colab\"/></a>"
      ]
    },
    {
      "cell_type": "code",
      "metadata": {
        "id": "Fo0XdTdDEfjm",
        "colab_type": "code",
        "colab": {}
      },
      "source": [
        "import functools"
      ],
      "execution_count": 0,
      "outputs": []
    },
    {
      "cell_type": "markdown",
      "metadata": {
        "id": "E4fTWloZ7guG",
        "colab_type": "text"
      },
      "source": [
        "# PyTorch Beast"
      ]
    },
    {
      "cell_type": "markdown",
      "metadata": {
        "id": "GhKIi9iq4qFp",
        "colab_type": "text"
      },
      "source": [
        "# Week 1\n",
        "- Quiz"
      ]
    },
    {
      "cell_type": "markdown",
      "metadata": {
        "id": "AnG7ENvkBw62",
        "colab_type": "text"
      },
      "source": [
        "# Week 2\n",
        "\n",
        "- Pseudocode and time complexity for 3 programming problems\n",
        "- First 20 videos of 5th chapter of - **Intro to PyTorch** https://classroom.udacity.com/courses/ud188\n",
        "- Stanford's CS230 - **Deep Learning** (Lecture 2,3,6)  http://cs230.stanford.edu/lecture/\n",
        "- Pybyte exercises"
      ]
    },
    {
      "cell_type": "markdown",
      "metadata": {
        "id": "T8KSLMloBkRF",
        "colab_type": "text"
      },
      "source": [
        "## Pseudocode (for 3 programming problems)"
      ]
    },
    {
      "cell_type": "markdown",
      "metadata": {
        "id": "wXOwvCAJB92I",
        "colab_type": "text"
      },
      "source": [
        "Create a valid approach to solve these questions, write pseudocode and give its time complexity if possible. Don't code. We don't need your code at all.\n",
        "\n",
        "https://www.hackerearth.com/practice/basic-programming/input-output/basics-of-input-output/practice-problems/algorithm/seating-arrangement-1/\n",
        "https://www.hackerearth.com/practice/basic-programming/operators/basics-of-operators/practice-problems/algorithm/let-us-understand-computer-78476e7a/\n",
        "https://www.hackerearth.com/practice/basic-programming/complexity-analysis/time-and-space-complexity/practice-problems/algorithm/vowel-game-f1a1047c/\n",
        "\n",
        "\n",
        "What is time complexity?\n",
        "\n",
        "https://www.hackerearth.com/practice/basic-programming/complexity-analysis/time-and-space-complexity/tutorial/\n",
        "https://towardsdatascience.com/understanding-time-complexity-with-python-examples-2bda6e8158a7\n",
        "\n",
        "What is pseudocode?\n",
        "\n",
        "https://www.geeksforgeeks.org/how-to-write-a-pseudo-code/"
      ]
    },
    {
      "cell_type": "markdown",
      "metadata": {
        "id": "9Bh8bvCXo9I1",
        "colab_type": "text"
      },
      "source": [
        "## Pybyte #1 (Data types and conversion)"
      ]
    },
    {
      "cell_type": "markdown",
      "metadata": {
        "id": "bs2RN9NupDxL",
        "colab_type": "text"
      },
      "source": [
        "### What is this number, `156256362E-4`, in python?"
      ]
    },
    {
      "cell_type": "code",
      "metadata": {
        "id": "-IPoMD-TpmGY",
        "colab_type": "code",
        "colab": {}
      },
      "source": [
        ""
      ],
      "execution_count": 0,
      "outputs": []
    },
    {
      "cell_type": "markdown",
      "metadata": {
        "id": "rxLsksAso1ip",
        "colab_type": "text"
      },
      "source": [
        "### What will the outcome of  `int(\"4.567\")` be? Why did you get the outcome you got?"
      ]
    },
    {
      "cell_type": "code",
      "metadata": {
        "id": "4XA7-gE6pnkF",
        "colab_type": "code",
        "colab": {}
      },
      "source": [
        ""
      ],
      "execution_count": 0,
      "outputs": []
    },
    {
      "cell_type": "markdown",
      "metadata": {
        "id": "GJCAaOJFpd0U",
        "colab_type": "text"
      },
      "source": [
        "### Can you convert `\"abcdeghij\"` into a list of characters?"
      ]
    },
    {
      "cell_type": "code",
      "metadata": {
        "id": "pOanOV5ypkuF",
        "colab_type": "code",
        "colab": {}
      },
      "source": [
        "string = \"abcdeghij\""
      ],
      "execution_count": 0,
      "outputs": []
    },
    {
      "cell_type": "markdown",
      "metadata": {
        "id": "yCIE3573pink",
        "colab_type": "text"
      },
      "source": [
        "### What is the boolean equivalent of `\"a boy\"`?"
      ]
    },
    {
      "cell_type": "code",
      "metadata": {
        "id": "4MmL_JncplOr",
        "colab_type": "code",
        "colab": {}
      },
      "source": [
        ""
      ],
      "execution_count": 0,
      "outputs": []
    },
    {
      "cell_type": "markdown",
      "metadata": {
        "id": "JxUgpcvTp65c",
        "colab_type": "text"
      },
      "source": [
        "### Extra information about data types and converson between them\n",
        "*  integer\n",
        "*  float\n",
        "*  string\n",
        "*  boolean\n",
        "*  tuples and lists\n",
        "*  dictionary\n",
        "*  set\n",
        "\n",
        "https://github.com/ayivima/AI-SURFS/blob/master/Python_Basics/Getting_Started.md"
      ]
    },
    {
      "cell_type": "code",
      "metadata": {
        "id": "wsEnhOnPqGxn",
        "colab_type": "code",
        "colab": {}
      },
      "source": [
        ""
      ],
      "execution_count": 0,
      "outputs": []
    },
    {
      "cell_type": "markdown",
      "metadata": {
        "id": "ftrHe7RrrPe4",
        "colab_type": "text"
      },
      "source": [
        "## Pybyte #3  (+ another pybyte)"
      ]
    },
    {
      "cell_type": "markdown",
      "metadata": {
        "id": "ZPtq5hIDrReZ",
        "colab_type": "text"
      },
      "source": [
        "Recollect these:\n",
        "\n",
        "`[1]` - **a scalar**\n",
        "\n",
        "`[1,2,3]` - **rank one tensor**, also called **vector**\n",
        "\n",
        "`[[1,2],[3,4],[5,6]]` - **rank two tensor**, also called **matrix or dyad**\n",
        "\n",
        "`[[[1,2],[3,4],[5,6]],[[1,2],[3,4],[5,6]]]` - **rank three tensor** also called triad\n",
        "\n",
        "Objectives:\n",
        "- List and tuple operations in python\n",
        "- List comprehensions\n",
        "- Deeper understanding of core tensor arithmetic concepts.\n"
      ]
    },
    {
      "cell_type": "markdown",
      "metadata": {
        "id": "bIuLTRblsLW_",
        "colab_type": "text"
      },
      "source": [
        "### Sum all the numbers in the triad"
      ]
    },
    {
      "cell_type": "code",
      "metadata": {
        "id": "17iCXQyEsPLT",
        "colab_type": "code",
        "colab": {}
      },
      "source": [
        "# The task is to sum all the numbers in the triad `a`.\n",
        "# Write two separate codes using `for...loop`,\n",
        "# And a second using `list comprehension`.\n",
        "# No external libraries.\n",
        "\n",
        "a = [[[1,2],[3,4],[5,6]],[[1,2],[3,4],[5,6]]]"
      ],
      "execution_count": 0,
      "outputs": []
    },
    {
      "cell_type": "markdown",
      "metadata": {
        "id": "TGHrYMNOslz_",
        "colab_type": "text"
      },
      "source": [
        "### Array transformation (flattening)"
      ]
    },
    {
      "cell_type": "code",
      "metadata": {
        "id": "8S0MzfpPsoeY",
        "colab_type": "code",
        "colab": {}
      },
      "source": [
        "# We have an array of arrays of arrays stored in `arr`, `arr2`, `arr3` as shown below.\n",
        "# But, we want to transform that into a single array, which still has all the numbers in `arr`.\n",
        "# Let's attempt at writing code that does this transformation on the arrays.\n",
        "\n",
        "# Expected outputs:\n",
        "# [1,2,3,4]\n",
        "# [1,2,4]\n",
        "# [1.1, 1.2, 1.3, 1.4, 1.5, 1.6, 1.7, 1.8, 1.9, 2.0, 2.1, 2.2]\n",
        "\n",
        "arr = [[1,2],[3,4]]\n",
        "arr2 = [[1], [2], [4]]\n",
        "arr3 = [[[1.1, 1.2, 1.3], [1.4, 1.5, 1.6]],[[1.7, 1.8, 1.9],[2.0, 2.1, 2.2]]]"
      ],
      "execution_count": 0,
      "outputs": []
    },
    {
      "cell_type": "markdown",
      "metadata": {
        "id": "_Mo_P0GTtAnQ",
        "colab_type": "text"
      },
      "source": [
        "## Pybyte #4 (Data structures and functions)"
      ]
    },
    {
      "cell_type": "markdown",
      "metadata": {
        "id": "3d9WBUyTtivM",
        "colab_type": "text"
      },
      "source": [
        "### Programmatically, find the number of lists in `a`, and the number of items in each sub-list:"
      ]
    },
    {
      "cell_type": "code",
      "metadata": {
        "id": "ClKgi-rKtnlQ",
        "colab_type": "code",
        "colab": {}
      },
      "source": [
        "# Expected output:\n",
        "# Number of lists = 3\n",
        "# number of items in lists = 3, 3, 4\n",
        "\n",
        "a = [[1,2,3],[4,5,6],[7,8,9,4]]"
      ],
      "execution_count": 0,
      "outputs": []
    },
    {
      "cell_type": "markdown",
      "metadata": {
        "id": "0Bf-VHNEuAT8",
        "colab_type": "text"
      },
      "source": [
        "### Repeat it for the 3 following lists"
      ]
    },
    {
      "cell_type": "code",
      "metadata": {
        "id": "_17EneunuBfb",
        "colab_type": "code",
        "colab": {}
      },
      "source": [
        "b = [[2,4,6],[8,10,12]]\n",
        "c = [[1,2],[3,4],[5,6],[7,8]]\n",
        "d = [[5],[6],[8]]"
      ],
      "execution_count": 0,
      "outputs": []
    },
    {
      "cell_type": "markdown",
      "metadata": {
        "id": "3qN4ZFsjuKj4",
        "colab_type": "text"
      },
      "source": [
        "### If you have completed the above tasks, go the extra mile of building a simple function that takes a matrix(list of lists), and returns a tuple containing two items (a, b), where `x` is the number of lists in the matrix, and `y` is the number of items contained in the sub-lists. Pass `b`, `c`, `d` through your function and print out the output."
      ]
    },
    {
      "cell_type": "markdown",
      "metadata": {
        "id": "FhjiC02ttNJx",
        "colab_type": "text"
      },
      "source": [
        "### Resources:\n",
        "\n",
        "- https://www.w3schools.com/python/python_functions.asp\n",
        "- https://www.w3schools.com/python/python_lambda.asp\n",
        "- https://www.w3schools.com/python/python_lists.asp\n",
        "- https://docs.python.org/3/library/stdtypes.html#sequence-types-list-tuple-range\n",
        "- https://www.geeksforgeeks.org/nested-list-comprehensions-in-python/"
      ]
    },
    {
      "cell_type": "markdown",
      "metadata": {
        "id": "O9kK72m6ENIe",
        "colab_type": "text"
      },
      "source": [
        "## Extra pybytes"
      ]
    },
    {
      "cell_type": "markdown",
      "metadata": {
        "id": "BU7oA3aCEupo",
        "colab_type": "text"
      },
      "source": [
        "### what does this do?"
      ]
    },
    {
      "cell_type": "code",
      "metadata": {
        "id": "LX4ynxw5EWMi",
        "colab_type": "code",
        "colab": {}
      },
      "source": [
        "numbers = [1,2,3,4,5]\n",
        "result = functools.reduce(lambda a,b: a*b, numbers)\n",
        "result"
      ],
      "execution_count": 0,
      "outputs": []
    },
    {
      "cell_type": "markdown",
      "metadata": {
        "id": "XQ17JbLMDa4T",
        "colab_type": "text"
      },
      "source": [
        "## PyByte for the weekend"
      ]
    },
    {
      "cell_type": "markdown",
      "metadata": {
        "id": "QtW0W_QzDoED",
        "colab_type": "text"
      },
      "source": [
        "### Use core python to find the shapes of the following."
      ]
    },
    {
      "cell_type": "code",
      "metadata": {
        "id": "8mkYMnR2Drz_",
        "colab_type": "code",
        "colab": {}
      },
      "source": [
        "# HINT: Start from the top-most array, find its length, then move to the next level and repeat till you reach the last level.\n",
        "# FOR EXAMPLE: shape of `k` below is `(2, 2, 2)`\n",
        "\n",
        "k = [\n",
        "    [[1,2],[1,2]],\n",
        "    [[1,2],[1,2]],\n",
        "]\n",
        "\n",
        "X = [\n",
        "    [[1, 2, 3, 5, 4], [2, 7, 3, 5, 4]],\n",
        "    [[3, 2, 0, 5, 4], [2, 7, 3, 5, 4]],\n",
        "    [[1, 2, 0, 5, 2], [2, 7, 1, 2, 4]]\n",
        "]\n",
        "\n",
        "Y = [\n",
        "    [1, 2, 3,],\n",
        "    [3, 2, 0,],\n",
        "    [1, 2, 0,],\n",
        "]"
      ],
      "execution_count": 0,
      "outputs": []
    },
    {
      "cell_type": "markdown",
      "metadata": {
        "id": "mCiLcK2A2kWA",
        "colab_type": "text"
      },
      "source": [
        "## List copying (shallow copy vs deep copy) by Kapil Chandorikar"
      ]
    },
    {
      "cell_type": "markdown",
      "metadata": {
        "id": "1vzwENK52hlR",
        "colab_type": "text"
      },
      "source": [
        "https://secureprivataischolar.slack.com/archives/CL5KWHXR6/p1563734565058400"
      ]
    },
    {
      "cell_type": "code",
      "metadata": {
        "id": "5hxliiBG2hwo",
        "colab_type": "code",
        "colab": {
          "base_uri": "https://localhost:8080/",
          "height": 51
        },
        "outputId": "133835f9-aefd-4d2e-a3ad-daa43225242a"
      },
      "source": [
        "list1 = [10, 20, 30]\n",
        "list2 = list1\n",
        "print(list1, list2)\n",
        "#([10, 20, 30], [10, 20, 30])\n",
        "\n",
        "list1[0] = 99999\n",
        "print(list2)\n",
        "#[99999, 20, 30]\n",
        "\n",
        "# Notice the elements of list2"
      ],
      "execution_count": 2,
      "outputs": [
        {
          "output_type": "stream",
          "text": [
            "[10, 20, 30] [10, 20, 30]\n",
            "[99999, 20, 30]\n"
          ],
          "name": "stdout"
        }
      ]
    },
    {
      "cell_type": "markdown",
      "metadata": {
        "id": "M6woaWW739BM",
        "colab_type": "text"
      },
      "source": [
        "When we use the assignment statement, reference is copied. We do not have two different lists, because both of them (list1 and list2) are referring to the same object in memory.\n",
        "\n",
        "• The correct way to copy a list is using the copy function."
      ]
    },
    {
      "cell_type": "code",
      "metadata": {
        "id": "L2pkRKnG37bm",
        "colab_type": "code",
        "colab": {
          "base_uri": "https://localhost:8080/",
          "height": 51
        },
        "outputId": "01fa3fa8-573b-4d91-89be-4f6873cc343e"
      },
      "source": [
        "list3 = list1.copy()\n",
        "# alternatively\n",
        "# import copy\n",
        "# list3 = copy.copy(list1)\n",
        "\n",
        "print(list1, list3)\n",
        "#([99999, 20, 30], [99999, 20, 30])\n",
        "\n",
        "list1[1] = 88888\n",
        "print(list3)\n",
        "#[99999, 20, 30]"
      ],
      "execution_count": 3,
      "outputs": [
        {
          "output_type": "stream",
          "text": [
            "[99999, 20, 30] [99999, 20, 30]\n",
            "[99999, 20, 30]\n"
          ],
          "name": "stdout"
        }
      ]
    },
    {
      "cell_type": "markdown",
      "metadata": {
        "id": "5Xyj5wl_3_55",
        "colab_type": "text"
      },
      "source": [
        "• This is referred to as creating a shallow copy. A new list object is created and references to all the list elements of list1 are inserted in the list3."
      ]
    },
    {
      "cell_type": "code",
      "metadata": {
        "id": "BQvezVL94BQ3",
        "colab_type": "code",
        "colab": {
          "base_uri": "https://localhost:8080/",
          "height": 51
        },
        "outputId": "ba58217d-9ec5-4f24-b00f-df82b8952a6a"
      },
      "source": [
        "list4 = [list3, 12345]\n",
        "print(list4)\n",
        "#[[99999, 20, 30], 12345]\n",
        "\n",
        "list3[1] = 88888\n",
        "\n",
        "print(list4)\n",
        "#[[99999, 88888, 30], 12345]"
      ],
      "execution_count": 4,
      "outputs": [
        {
          "output_type": "stream",
          "text": [
            "[[99999, 20, 30], 12345]\n",
            "[[99999, 88888, 30], 12345]\n"
          ],
          "name": "stdout"
        }
      ]
    },
    {
      "cell_type": "markdown",
      "metadata": {
        "id": "6SLNGLGt4DoP",
        "colab_type": "text"
      },
      "source": [
        "• If we have a list with its elements as objects, we need to use the deepcopy function, which recursively copies object from the original list to the new list."
      ]
    },
    {
      "cell_type": "code",
      "metadata": {
        "id": "Oz2VO6eP4ETf",
        "colab_type": "code",
        "colab": {}
      },
      "source": [
        "import copy\n",
        "list5 = copy.deepcopy(list4)\n",
        "list4[1] = 6789\n",
        "\n",
        "print(list5)\n",
        "#[[99999, 88888, 30], 6789]"
      ],
      "execution_count": 0,
      "outputs": []
    },
    {
      "cell_type": "markdown",
      "metadata": {
        "id": "durgMRCu4a-R",
        "colab_type": "text"
      },
      "source": [
        "# Week 3"
      ]
    }
  ]
}
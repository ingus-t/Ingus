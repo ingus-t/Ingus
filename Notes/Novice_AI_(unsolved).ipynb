{
  "nbformat": 4,
  "nbformat_minor": 0,
  "metadata": {
    "colab": {
      "name": "Novice-AI (unsolved).ipynb",
      "version": "0.3.2",
      "provenance": [],
      "collapsed_sections": [
        "T8KSLMloBkRF",
        "9Bh8bvCXo9I1",
        "yCIE3573pink",
        "ftrHe7RrrPe4",
        "bIuLTRblsLW_",
        "TGHrYMNOslz_",
        "_Mo_P0GTtAnQ",
        "3d9WBUyTtivM",
        "0Bf-VHNEuAT8",
        "O9kK72m6ENIe",
        "XQ17JbLMDa4T"
      ]
    },
    "kernelspec": {
      "name": "python3",
      "display_name": "Python 3"
    }
  },
  "cells": [
    {
      "cell_type": "code",
      "metadata": {
        "id": "Fo0XdTdDEfjm",
        "colab_type": "code",
        "colab": {}
      },
      "source": [
        "import functools"
      ],
      "execution_count": 0,
      "outputs": []
    },
    {
      "cell_type": "markdown",
      "metadata": {
        "id": "AnG7ENvkBw62",
        "colab_type": "text"
      },
      "source": [
        "# Week 2\n",
        "\n",
        "- Pseudocode and time complexity for 3 programming problems\n",
        "- First 20 videos of 5th chapter of - **Intro to PyTorch** https://classroom.udacity.com/courses/ud188\n",
        "- Stanford's CS230 - **Deep Learning** (Lecture 2,3,6)  http://cs230.stanford.edu/lecture/\n",
        "- Pybyte exercises"
      ]
    },
    {
      "cell_type": "markdown",
      "metadata": {
        "id": "T8KSLMloBkRF",
        "colab_type": "text"
      },
      "source": [
        "# Pseudocode (for 3 programming problems)"
      ]
    },
    {
      "cell_type": "markdown",
      "metadata": {
        "id": "wXOwvCAJB92I",
        "colab_type": "text"
      },
      "source": [
        "Create a valid approach to solve these questions, write pseudocode and give its time complexity if possible. Don't code. We don't need your code at all.\n",
        "\n",
        "https://www.hackerearth.com/practice/basic-programming/input-output/basics-of-input-output/practice-problems/algorithm/seating-arrangement-1/\n",
        "https://www.hackerearth.com/practice/basic-programming/operators/basics-of-operators/practice-problems/algorithm/let-us-understand-computer-78476e7a/\n",
        "https://www.hackerearth.com/practice/basic-programming/complexity-analysis/time-and-space-complexity/practice-problems/algorithm/vowel-game-f1a1047c/\n",
        "\n",
        "\n",
        "What is time complexity?\n",
        "\n",
        "https://www.hackerearth.com/practice/basic-programming/complexity-analysis/time-and-space-complexity/tutorial/\n",
        "https://towardsdatascience.com/understanding-time-complexity-with-python-examples-2bda6e8158a7\n",
        "\n",
        "What is pseudocode?\n",
        "\n",
        "https://www.geeksforgeeks.org/how-to-write-a-pseudo-code/"
      ]
    },
    {
      "cell_type": "markdown",
      "metadata": {
        "id": "9Bh8bvCXo9I1",
        "colab_type": "text"
      },
      "source": [
        "# Pybyte #1 (Data types and conversion)"
      ]
    },
    {
      "cell_type": "markdown",
      "metadata": {
        "id": "bs2RN9NupDxL",
        "colab_type": "text"
      },
      "source": [
        "## What is this number, `156256362E-4`, in python?"
      ]
    },
    {
      "cell_type": "code",
      "metadata": {
        "id": "-IPoMD-TpmGY",
        "colab_type": "code",
        "colab": {}
      },
      "source": [
        ""
      ],
      "execution_count": 0,
      "outputs": []
    },
    {
      "cell_type": "markdown",
      "metadata": {
        "id": "rxLsksAso1ip",
        "colab_type": "text"
      },
      "source": [
        "## What will the outcome of  `int(\"4.567\")` be? Why did you get the outcome you got?"
      ]
    },
    {
      "cell_type": "code",
      "metadata": {
        "id": "4XA7-gE6pnkF",
        "colab_type": "code",
        "colab": {}
      },
      "source": [
        ""
      ],
      "execution_count": 0,
      "outputs": []
    },
    {
      "cell_type": "markdown",
      "metadata": {
        "id": "GJCAaOJFpd0U",
        "colab_type": "text"
      },
      "source": [
        "## Can you convert `\"abcdeghij\"` into a list of characters?"
      ]
    },
    {
      "cell_type": "code",
      "metadata": {
        "id": "pOanOV5ypkuF",
        "colab_type": "code",
        "colab": {}
      },
      "source": [
        "string = \"abcdeghij\""
      ],
      "execution_count": 0,
      "outputs": []
    },
    {
      "cell_type": "markdown",
      "metadata": {
        "id": "yCIE3573pink",
        "colab_type": "text"
      },
      "source": [
        "## What is the boolean equivalent of `\"a boy\"`?"
      ]
    },
    {
      "cell_type": "code",
      "metadata": {
        "id": "4MmL_JncplOr",
        "colab_type": "code",
        "colab": {}
      },
      "source": [
        ""
      ],
      "execution_count": 0,
      "outputs": []
    },
    {
      "cell_type": "markdown",
      "metadata": {
        "id": "JxUgpcvTp65c",
        "colab_type": "text"
      },
      "source": [
        "## Extra information about data types and converson between them\n",
        "*  integer\n",
        "*  float\n",
        "*  string\n",
        "*  boolean\n",
        "*  tuples and lists\n",
        "*  dictionary\n",
        "*  set\n",
        "\n",
        "https://github.com/ayivima/AI-SURFS/blob/master/Python_Basics/Getting_Started.md"
      ]
    },
    {
      "cell_type": "code",
      "metadata": {
        "id": "wsEnhOnPqGxn",
        "colab_type": "code",
        "colab": {}
      },
      "source": [
        ""
      ],
      "execution_count": 0,
      "outputs": []
    },
    {
      "cell_type": "markdown",
      "metadata": {
        "id": "ftrHe7RrrPe4",
        "colab_type": "text"
      },
      "source": [
        "# Pybyte #3  (+ another pybyte)"
      ]
    },
    {
      "cell_type": "markdown",
      "metadata": {
        "id": "ZPtq5hIDrReZ",
        "colab_type": "text"
      },
      "source": [
        "Recollect these:\n",
        "\n",
        "`[1]` - **a scalar**\n",
        "\n",
        "`[1,2,3]` - **rank one tensor**, also called **vector**\n",
        "\n",
        "`[[1,2],[3,4],[5,6]]` - **rank two tensor**, also called **matrix or dyad**\n",
        "\n",
        "`[[[1,2],[3,4],[5,6]],[[1,2],[3,4],[5,6]]]` - **rank three tensor** also called triad\n",
        "\n",
        "Objectives:\n",
        "- List and tuple operations in python\n",
        "- List comprehensions\n",
        "- Deeper understanding of core tensor arithmetic concepts.\n"
      ]
    },
    {
      "cell_type": "markdown",
      "metadata": {
        "id": "bIuLTRblsLW_",
        "colab_type": "text"
      },
      "source": [
        "## Sum all the numbers in the triad"
      ]
    },
    {
      "cell_type": "code",
      "metadata": {
        "id": "17iCXQyEsPLT",
        "colab_type": "code",
        "colab": {}
      },
      "source": [
        "# The task is to sum all the numbers in the triad `a`.\n",
        "# Write two separate codes using `for...loop`,\n",
        "# And a second using `list comprehension`.\n",
        "# No external libraries.\n",
        "\n",
        "a = [[[1,2],[3,4],[5,6]],[[1,2],[3,4],[5,6]]]"
      ],
      "execution_count": 0,
      "outputs": []
    },
    {
      "cell_type": "markdown",
      "metadata": {
        "id": "TGHrYMNOslz_",
        "colab_type": "text"
      },
      "source": [
        "## Array transformation (flattening)"
      ]
    },
    {
      "cell_type": "code",
      "metadata": {
        "id": "8S0MzfpPsoeY",
        "colab_type": "code",
        "colab": {}
      },
      "source": [
        "# We have an array of arrays of arrays stored in `arr`, `arr2`, `arr3` as shown below.\n",
        "# But, we want to transform that into a single array, which still has all the numbers in `arr`.\n",
        "# Let's attempt at writing code that does this transformation on the arrays.\n",
        "\n",
        "# Expected outputs:\n",
        "# [1,2,3,4]\n",
        "# [1,2,4]\n",
        "# [1.1, 1.2, 1.3, 1.4, 1.5, 1.6, 1.7, 1.8, 1.9, 2.0, 2.1, 2.2]\n",
        "\n",
        "arr = [[1,2],[3,4]]\n",
        "arr2 = [[1], [2], [4]]\n",
        "arr3 = [[[1.1, 1.2, 1.3], [1.4, 1.5, 1.6]],[[1.7, 1.8, 1.9],[2.0, 2.1, 2.2]]]"
      ],
      "execution_count": 0,
      "outputs": []
    },
    {
      "cell_type": "markdown",
      "metadata": {
        "id": "_Mo_P0GTtAnQ",
        "colab_type": "text"
      },
      "source": [
        "# Pybyte #4 (Data structures and functions)"
      ]
    },
    {
      "cell_type": "markdown",
      "metadata": {
        "id": "3d9WBUyTtivM",
        "colab_type": "text"
      },
      "source": [
        "## Programmatically, find the number of lists in `a`, and the number of items in each sub-list:"
      ]
    },
    {
      "cell_type": "code",
      "metadata": {
        "id": "ClKgi-rKtnlQ",
        "colab_type": "code",
        "colab": {}
      },
      "source": [
        "# Expected output:\n",
        "# Number of lists = 3\n",
        "# number of items in lists = 3, 3, 4\n",
        "\n",
        "a = [[1,2,3],[4,5,6],[7,8,9,4]]"
      ],
      "execution_count": 0,
      "outputs": []
    },
    {
      "cell_type": "markdown",
      "metadata": {
        "id": "0Bf-VHNEuAT8",
        "colab_type": "text"
      },
      "source": [
        "## Repeat it for the 3 following lists"
      ]
    },
    {
      "cell_type": "code",
      "metadata": {
        "id": "_17EneunuBfb",
        "colab_type": "code",
        "colab": {}
      },
      "source": [
        "b = [[2,4,6],[8,10,12]]\n",
        "c = [[1,2],[3,4],[5,6],[7,8]]\n",
        "d = [[5],[6],[8]]"
      ],
      "execution_count": 0,
      "outputs": []
    },
    {
      "cell_type": "markdown",
      "metadata": {
        "id": "3qN4ZFsjuKj4",
        "colab_type": "text"
      },
      "source": [
        "## If you have completed the above tasks, go the extra mile of building a simple function that takes a matrix(list of lists), and returns a tuple containing two items (a, b), where `x` is the number of lists in the matrix, and `y` is the number of items contained in the sub-lists. Pass `b`, `c`, `d` through your function and print out the output."
      ]
    },
    {
      "cell_type": "markdown",
      "metadata": {
        "id": "FhjiC02ttNJx",
        "colab_type": "text"
      },
      "source": [
        "## Resources:\n",
        "\n",
        "- https://www.w3schools.com/python/python_functions.asp\n",
        "- https://www.w3schools.com/python/python_lambda.asp\n",
        "- https://www.w3schools.com/python/python_lists.asp\n",
        "- https://docs.python.org/3/library/stdtypes.html#sequence-types-list-tuple-range\n",
        "- https://www.geeksforgeeks.org/nested-list-comprehensions-in-python/"
      ]
    },
    {
      "cell_type": "markdown",
      "metadata": {
        "id": "O9kK72m6ENIe",
        "colab_type": "text"
      },
      "source": [
        "# Extra pybytes"
      ]
    },
    {
      "cell_type": "markdown",
      "metadata": {
        "id": "BU7oA3aCEupo",
        "colab_type": "text"
      },
      "source": [
        "## what does this do?"
      ]
    },
    {
      "cell_type": "code",
      "metadata": {
        "id": "LX4ynxw5EWMi",
        "colab_type": "code",
        "colab": {}
      },
      "source": [
        "numbers = [1,2,3,4,5]\n",
        "result = functools.reduce(lambda a,b: a*b, numbers)\n",
        "result"
      ],
      "execution_count": 0,
      "outputs": []
    },
    {
      "cell_type": "markdown",
      "metadata": {
        "id": "XQ17JbLMDa4T",
        "colab_type": "text"
      },
      "source": [
        "# PyByte for the weekend"
      ]
    },
    {
      "cell_type": "markdown",
      "metadata": {
        "id": "QtW0W_QzDoED",
        "colab_type": "text"
      },
      "source": [
        "## Use core python to find the shapes of the following."
      ]
    },
    {
      "cell_type": "code",
      "metadata": {
        "id": "8mkYMnR2Drz_",
        "colab_type": "code",
        "colab": {}
      },
      "source": [
        "# HINT: Start from the top-most array, find its length, then move to the next level and repeat till you reach the last level.\n",
        "# FOR EXAMPLE: shape of `k` below is `(2, 2, 2)`\n",
        "\n",
        "k = [\n",
        "    [[1,2],[1,2]],\n",
        "    [[1,2],[1,2]],\n",
        "]\n",
        "\n",
        "X = [\n",
        "    [[1, 2, 3, 5, 4], [2, 7, 3, 5, 4]],\n",
        "    [[3, 2, 0, 5, 4], [2, 7, 3, 5, 4]],\n",
        "    [[1, 2, 0, 5, 2], [2, 7, 1, 2, 4]]\n",
        "]\n",
        "\n",
        "Y = [\n",
        "    [1, 2, 3,],\n",
        "    [3, 2, 0,],\n",
        "    [1, 2, 0,],\n",
        "]"
      ],
      "execution_count": 0,
      "outputs": []
    }
  ]
}
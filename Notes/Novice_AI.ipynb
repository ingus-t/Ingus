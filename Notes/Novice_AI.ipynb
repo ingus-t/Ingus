{
  "nbformat": 4,
  "nbformat_minor": 0,
  "metadata": {
    "colab": {
      "name": "Novice-AI.ipynb",
      "version": "0.3.2",
      "provenance": [],
      "collapsed_sections": [
        "T8KSLMloBkRF",
        "9Bh8bvCXo9I1",
        "LEuxWJyV08D_",
        "ftrHe7RrrPe4",
        "bIuLTRblsLW_",
        "ojndXyy39s1i",
        "TGHrYMNOslz_",
        "JjxO7YxM9yUd",
        "_Mo_P0GTtAnQ",
        "ZJv3uMJ_M0tm",
        "O9kK72m6ENIe",
        "wcQnD6u4ofXC",
        "XQ17JbLMDa4T",
        "QtW0W_QzDoED",
        "mCiLcK2A2kWA",
        "Gb1M_hXKSm_z",
        "S5eXkfEeky-E",
        "gpq6nPsCr65g",
        "f_u2pje_877b",
        "4oZDP6tnLA0M",
        "H_c5iXJvwfkv",
        "-9AmxpxzdWZ2",
        "akQhKHNtFEib",
        "bc_qShGDa34h",
        "o0A_V0yfbW7F",
        "WAP5-qmCYLCQ"
      ],
      "toc_visible": true,
      "include_colab_link": true
    },
    "kernelspec": {
      "name": "python3",
      "display_name": "Python 3"
    }
  },
  "cells": [
    {
      "cell_type": "markdown",
      "metadata": {
        "id": "view-in-github",
        "colab_type": "text"
      },
      "source": [
        "<a href=\"https://colab.research.google.com/github/ingus-t/SPAI/blob/master/Notes/Novice_AI.ipynb\" target=\"_parent\"><img src=\"https://colab.research.google.com/assets/colab-badge.svg\" alt=\"Open In Colab\"/></a>"
      ]
    },
    {
      "cell_type": "code",
      "metadata": {
        "id": "Fo0XdTdDEfjm",
        "colab_type": "code",
        "colab": {}
      },
      "source": [
        "from functools import reduce\n",
        "import math\n",
        "import numpy as np"
      ],
      "execution_count": 0,
      "outputs": []
    },
    {
      "cell_type": "markdown",
      "metadata": {
        "id": "E4fTWloZ7guG",
        "colab_type": "text"
      },
      "source": [
        "# PyTorch Beast\n",
        "This is a compilation of notes and assignments from **Novice-AI** study group in the **Secure and Private AI challenge**.  \n",
        "Group was started by @SANMITRA.  \n",
        "Nearly all of the information below comes from:  \n",
        "@Stark  \n",
        "@ayivima  "
      ]
    },
    {
      "cell_type": "markdown",
      "metadata": {
        "id": "GhKIi9iq4qFp",
        "colab_type": "text"
      },
      "source": [
        "# Week 1\n",
        "- Quiz"
      ]
    },
    {
      "cell_type": "markdown",
      "metadata": {
        "id": "AnG7ENvkBw62",
        "colab_type": "text"
      },
      "source": [
        "# Week 2\n",
        "\n",
        "- Pseudocode and time complexity for 3 programming problems\n",
        "- First 20 videos of 5th chapter of - **Intro to PyTorch** https://classroom.udacity.com/courses/ud188\n",
        "- Stanford's CS230 - **Deep Learning** (Lecture 2,3,6)  http://cs230.stanford.edu/lecture/\n",
        "- PyByte exercises (1 - 6)"
      ]
    },
    {
      "cell_type": "markdown",
      "metadata": {
        "id": "T8KSLMloBkRF",
        "colab_type": "text"
      },
      "source": [
        "## Pseudocode (for 3 programming problems)"
      ]
    },
    {
      "cell_type": "markdown",
      "metadata": {
        "id": "wXOwvCAJB92I",
        "colab_type": "text"
      },
      "source": [
        "Create a valid approach to solve these questions, write pseudocode and give its time complexity if possible. Don't code. We don't need your code at all.\n",
        "\n",
        "https://www.hackerearth.com/practice/basic-programming/input-output/basics-of-input-output/practice-problems/algorithm/seating-arrangement-1/\n",
        "https://www.hackerearth.com/practice/basic-programming/operators/basics-of-operators/practice-problems/algorithm/let-us-understand-computer-78476e7a/\n",
        "https://www.hackerearth.com/practice/basic-programming/complexity-analysis/time-and-space-complexity/practice-problems/algorithm/vowel-game-f1a1047c/\n",
        "\n",
        "\n",
        "What is time complexity?\n",
        "\n",
        "https://www.hackerearth.com/practice/basic-programming/complexity-analysis/time-and-space-complexity/tutorial/\n",
        "https://towardsdatascience.com/understanding-time-complexity-with-python-examples-2bda6e8158a7\n",
        "\n",
        "What is pseudocode?\n",
        "\n",
        "https://www.geeksforgeeks.org/how-to-write-a-pseudo-code/"
      ]
    },
    {
      "cell_type": "markdown",
      "metadata": {
        "id": "9Bh8bvCXo9I1",
        "colab_type": "text"
      },
      "source": [
        "## PyByte #1 (Data types and conversion)"
      ]
    },
    {
      "cell_type": "markdown",
      "metadata": {
        "id": "bs2RN9NupDxL",
        "colab_type": "text"
      },
      "source": [
        "1. What is this number, `156256362E-4`, in python?\n",
        "2. What will the outcome of  `int(\"4.567\")` be? Why did you get the outcome you got?\n",
        "3. Can you convert `\"abcdeghij\"` into a list of characters?\n",
        "4. What is the boolean equivalent of `\"a boy\"`?"
      ]
    },
    {
      "cell_type": "markdown",
      "metadata": {
        "id": "JxUgpcvTp65c",
        "colab_type": "text"
      },
      "source": [
        "### Extra information about data types and converson between them\n",
        "*  integer\n",
        "*  float\n",
        "*  string\n",
        "*  boolean\n",
        "*  tuples and lists\n",
        "*  dictionary\n",
        "*  set\n",
        "\n",
        "https://github.com/ayivima/AI-SURFS/blob/master/Python_Basics/Getting_Started.md"
      ]
    },
    {
      "cell_type": "markdown",
      "metadata": {
        "id": "LEuxWJyV08D_",
        "colab_type": "text"
      },
      "source": [
        "### Solution"
      ]
    },
    {
      "cell_type": "code",
      "metadata": {
        "id": "-IPoMD-TpmGY",
        "colab_type": "code",
        "colab": {}
      },
      "source": [
        "# 1. 15625.6362 (dot/comma is moved 4 positions to the left)\n",
        "print(156256362E-4)\n",
        "# 2. Error\n",
        "# 3. Yes\n",
        "str = \"abcdeghij\"\n",
        "def split(str): \n",
        "    return [char for char in str]  \n",
        "print(split(str)) \n",
        "# 4. 1?"
      ],
      "execution_count": 0,
      "outputs": []
    },
    {
      "cell_type": "markdown",
      "metadata": {
        "id": "ftrHe7RrrPe4",
        "colab_type": "text"
      },
      "source": [
        "## PyByte #3 (Flattening)"
      ]
    },
    {
      "cell_type": "markdown",
      "metadata": {
        "id": "ZPtq5hIDrReZ",
        "colab_type": "text"
      },
      "source": [
        "Recollect these:\n",
        "\n",
        "`[1]` - **a scalar**\n",
        "\n",
        "`[1,2,3]` - **rank one tensor**, also called **vector**\n",
        "\n",
        "`[[1,2],[3,4],[5,6]]` - **rank two tensor**, also called **matrix or dyad**\n",
        "\n",
        "`[[[1,2],[3,4],[5,6]],[[1,2],[3,4],[5,6]]]` - **rank three tensor** also called triad\n",
        "\n",
        "Objectives:\n",
        "- List and tuple operations in python\n",
        "- List comprehensions\n",
        "- Deeper understanding of core tensor arithmetic concepts.\n"
      ]
    },
    {
      "cell_type": "markdown",
      "metadata": {
        "id": "bIuLTRblsLW_",
        "colab_type": "text"
      },
      "source": [
        "### Sum all the numbers in the triad"
      ]
    },
    {
      "cell_type": "code",
      "metadata": {
        "id": "17iCXQyEsPLT",
        "colab_type": "code",
        "colab": {}
      },
      "source": [
        "# The task is to sum all the numbers in the triad `a`.\n",
        "# Write two separate codes using `for...loop`,\n",
        "# And a second using `list comprehension`.\n",
        "# No external libraries.\n",
        "\n",
        "a = [[[1,2],[3,4],[5,6]],[[1,2],[3,4],[5,6]]]"
      ],
      "execution_count": 0,
      "outputs": []
    },
    {
      "cell_type": "markdown",
      "metadata": {
        "id": "ojndXyy39s1i",
        "colab_type": "text"
      },
      "source": [
        "### Solution"
      ]
    },
    {
      "cell_type": "code",
      "metadata": {
        "id": "bMoj4wlH8DIJ",
        "colab_type": "code",
        "colab": {}
      },
      "source": [
        "# using for loop\n",
        "def sum_numbers(array):\n",
        "  temp_sum = 0\n",
        "  for i in range(0, len(array)):\n",
        "    for j in range(0, len(array[0])):\n",
        "      for k in range(0, len(array[0][0])):\n",
        "        temp_sum += int(array[i][j][k])\n",
        "  return temp_sum\n",
        "sum_numbers(a)\n",
        "\n",
        "# using list comprehension"
      ],
      "execution_count": 0,
      "outputs": []
    },
    {
      "cell_type": "markdown",
      "metadata": {
        "id": "TGHrYMNOslz_",
        "colab_type": "text"
      },
      "source": [
        "### Array transformation (flattening)"
      ]
    },
    {
      "cell_type": "code",
      "metadata": {
        "id": "8S0MzfpPsoeY",
        "colab_type": "code",
        "colab": {}
      },
      "source": [
        "# We have an array of arrays of arrays stored in `arr`, `arr2`, `arr3` as shown below.\n",
        "# But, we want to transform that into a single array, which still has all the numbers in `arr`.\n",
        "# Let's attempt at writing code that does this transformation on the arrays.\n",
        "\n",
        "# Expected outputs:\n",
        "# [1,2,3,4]\n",
        "# [1,2,4]\n",
        "# [1.1, 1.2, 1.3, 1.4, 1.5, 1.6, 1.7, 1.8, 1.9, 2.0, 2.1, 2.2]\n",
        "\n",
        "arr = [[1,2],[3,4]]\n",
        "arr2 = [[1], [2], [4]]\n",
        "arr3 = [[[1.1, 1.2, 1.3], [1.4, 1.5, 1.6]],[[1.7, 1.8, 1.9],[2.0, 2.1, 2.2]]]"
      ],
      "execution_count": 0,
      "outputs": []
    },
    {
      "cell_type": "markdown",
      "metadata": {
        "id": "JjxO7YxM9yUd",
        "colab_type": "text"
      },
      "source": [
        "### Solution"
      ]
    },
    {
      "cell_type": "code",
      "metadata": {
        "id": "Qg_n7OeC9l8Z",
        "colab_type": "code",
        "colab": {}
      },
      "source": [
        "def flatten(array):\n",
        "  flattened_list = [item for sublist in array for item in sublist]\n",
        "  return flattened_list\n",
        "  \n",
        "print(flatten(arr))\n",
        "print(flatten(arr2))\n",
        "arr3 = flatten(arr3)\n",
        "print(flatten(arr3))"
      ],
      "execution_count": 0,
      "outputs": []
    },
    {
      "cell_type": "markdown",
      "metadata": {
        "id": "_Mo_P0GTtAnQ",
        "colab_type": "text"
      },
      "source": [
        "## PyByte #4 (Data structures and functions)"
      ]
    },
    {
      "cell_type": "markdown",
      "metadata": {
        "id": "3d9WBUyTtivM",
        "colab_type": "text"
      },
      "source": [
        "### Programmatically, find the number of lists in `a`, and the number of items in each sub-list:"
      ]
    },
    {
      "cell_type": "code",
      "metadata": {
        "id": "ClKgi-rKtnlQ",
        "colab_type": "code",
        "colab": {}
      },
      "source": [
        "# Expected output:\n",
        "# Number of lists = 3\n",
        "# number of items in lists = 3, 3, 4\n",
        "\n",
        "a = [[1,2,3],[4,5,6],[7,8,9,4]]\n",
        "\n",
        "# repeat it for the 3 following lists\n",
        "b = [[2,4,6],[8,10,12]]\n",
        "c = [[1,2],[3,4],[5,6],[7,8]]\n",
        "d = [[5],[6],[8]]"
      ],
      "execution_count": 0,
      "outputs": []
    },
    {
      "cell_type": "markdown",
      "metadata": {
        "id": "3qN4ZFsjuKj4",
        "colab_type": "text"
      },
      "source": [
        "If you have completed the above tasks, go the extra mile of building a simple function that takes a matrix(list of lists), and returns a tuple containing two items (a, b), where `x` is the number of lists in the matrix, and `y` is the number of items contained in the sub-lists. Pass `b`, `c`, `d` through your function and print out the output."
      ]
    },
    {
      "cell_type": "markdown",
      "metadata": {
        "id": "ZJv3uMJ_M0tm",
        "colab_type": "text"
      },
      "source": [
        "### Solution"
      ]
    },
    {
      "cell_type": "code",
      "metadata": {
        "id": "cdxtt3RDM2v1",
        "colab_type": "code",
        "colab": {}
      },
      "source": [
        "# Ingus - incomplete\n",
        "def sum_numbers(array):\n",
        "  for i in range(0, len(array)):\n",
        "    length_array = []\n",
        "    length = 0\n",
        "    for j in range(0, len(array[0])):\n",
        "      length += 1\n",
        "    length_array.append(length)\n",
        "    \n",
        "  print(len(array), length_array)\n",
        "\n",
        "sum_numbers(a)\n",
        "sum_numbers(b)\n",
        "sum_numbers(c)\n",
        "sum_numbers(d)"
      ],
      "execution_count": 0,
      "outputs": []
    },
    {
      "cell_type": "code",
      "metadata": {
        "id": "tMr2wVr5Rwp8",
        "colab_type": "code",
        "colab": {}
      },
      "source": [
        "# Hung\n",
        "def my_func(arr):\n",
        "  y = [len(ele) for ele in arr]\n",
        "  print( len(arr), y)\n",
        "\n",
        "my_func(a)\n",
        "my_func(b)\n",
        "my_func(c)\n",
        "my_func(d)"
      ],
      "execution_count": 0,
      "outputs": []
    },
    {
      "cell_type": "markdown",
      "metadata": {
        "id": "FhjiC02ttNJx",
        "colab_type": "text"
      },
      "source": [
        "### Resources:\n",
        "\n",
        "- https://www.w3schools.com/python/python_functions.asp\n",
        "- https://www.w3schools.com/python/python_lambda.asp\n",
        "- https://www.w3schools.com/python/python_lists.asp\n",
        "- https://docs.python.org/3/library/stdtypes.html#sequence-types-list-tuple-range\n",
        "- https://www.geeksforgeeks.org/nested-list-comprehensions-in-python/"
      ]
    },
    {
      "cell_type": "markdown",
      "metadata": {
        "id": "O9kK72m6ENIe",
        "colab_type": "text"
      },
      "source": [
        "## Extra PyBytes"
      ]
    },
    {
      "cell_type": "markdown",
      "metadata": {
        "colab_type": "text",
        "id": "eafCx6WeoRm3"
      },
      "source": [
        "What does this do?"
      ]
    },
    {
      "cell_type": "code",
      "metadata": {
        "id": "LX4ynxw5EWMi",
        "colab_type": "code",
        "colab": {}
      },
      "source": [
        "numbers = [1,2,3,4,5]\n",
        "result = reduce(lambda a,b: a*b, numbers)\n",
        "result"
      ],
      "execution_count": 0,
      "outputs": []
    },
    {
      "cell_type": "markdown",
      "metadata": {
        "id": "wcQnD6u4ofXC",
        "colab_type": "text"
      },
      "source": [
        "### Solution"
      ]
    },
    {
      "cell_type": "code",
      "metadata": {
        "id": "OWUfPTdpoitA",
        "colab_type": "code",
        "colab": {}
      },
      "source": [
        "# It is a factorial"
      ],
      "execution_count": 0,
      "outputs": []
    },
    {
      "cell_type": "markdown",
      "metadata": {
        "id": "XQ17JbLMDa4T",
        "colab_type": "text"
      },
      "source": [
        "## PyByte #5 (Find matrix shapes)"
      ]
    },
    {
      "cell_type": "markdown",
      "metadata": {
        "id": "QtW0W_QzDoED",
        "colab_type": "text"
      },
      "source": [
        "### Use core python to find the shapes of the following."
      ]
    },
    {
      "cell_type": "code",
      "metadata": {
        "id": "8mkYMnR2Drz_",
        "colab_type": "code",
        "colab": {}
      },
      "source": [
        "# HINT: Start from the top-most array, find its length, then move to the next level and repeat till you reach the last level.\n",
        "# FOR EXAMPLE: shape of `k` below is `(2, 2, 2)`\n",
        "\n",
        "k = [\n",
        "    [[1,2],[1,2]],\n",
        "    [[1,2],[1,2]],\n",
        "]\n",
        "\n",
        "X = [\n",
        "    [[1, 2, 3, 5, 4], [2, 7, 3, 5, 4]],\n",
        "    [[3, 2, 0, 5, 4], [2, 7, 3, 5, 4]],\n",
        "    [[1, 2, 0, 5, 2], [2, 7, 1, 2, 4]]\n",
        "]\n",
        "\n",
        "Y = [\n",
        "    [1, 2, 3,],\n",
        "    [3, 2, 0,],\n",
        "    [1, 2, 0,],\n",
        "]"
      ],
      "execution_count": 0,
      "outputs": []
    },
    {
      "cell_type": "markdown",
      "metadata": {
        "id": "mCiLcK2A2kWA",
        "colab_type": "text"
      },
      "source": [
        "## List copying (shallow copy vs deep copy) by Kapil Chandorikar"
      ]
    },
    {
      "cell_type": "markdown",
      "metadata": {
        "id": "1vzwENK52hlR",
        "colab_type": "text"
      },
      "source": [
        "https://secureprivataischolar.slack.com/archives/CL5KWHXR6/p1563734565058400"
      ]
    },
    {
      "cell_type": "code",
      "metadata": {
        "id": "5hxliiBG2hwo",
        "colab_type": "code",
        "colab": {
          "base_uri": "https://localhost:8080/",
          "height": 51
        },
        "outputId": "133835f9-aefd-4d2e-a3ad-daa43225242a"
      },
      "source": [
        "list1 = [10, 20, 30]\n",
        "list2 = list1\n",
        "print(list1, list2)\n",
        "#([10, 20, 30], [10, 20, 30])\n",
        "\n",
        "list1[0] = 99999\n",
        "print(list2)\n",
        "#[99999, 20, 30]\n",
        "\n",
        "# Notice the elements of list2"
      ],
      "execution_count": 2,
      "outputs": [
        {
          "output_type": "stream",
          "text": [
            "[10, 20, 30] [10, 20, 30]\n",
            "[99999, 20, 30]\n"
          ],
          "name": "stdout"
        }
      ]
    },
    {
      "cell_type": "markdown",
      "metadata": {
        "id": "M6woaWW739BM",
        "colab_type": "text"
      },
      "source": [
        "When we use the assignment statement, reference is copied. We do not have two different lists, because both of them (list1 and list2) are referring to the same object in memory.\n",
        "\n",
        "• The correct way to copy a list is using the copy function."
      ]
    },
    {
      "cell_type": "code",
      "metadata": {
        "id": "L2pkRKnG37bm",
        "colab_type": "code",
        "colab": {
          "base_uri": "https://localhost:8080/",
          "height": 51
        },
        "outputId": "01fa3fa8-573b-4d91-89be-4f6873cc343e"
      },
      "source": [
        "list3 = list1.copy()\n",
        "# alternatively\n",
        "# import copy\n",
        "# list3 = copy.copy(list1)\n",
        "\n",
        "print(list1, list3)\n",
        "#([99999, 20, 30], [99999, 20, 30])\n",
        "\n",
        "list1[1] = 88888\n",
        "print(list3)\n",
        "#[99999, 20, 30]"
      ],
      "execution_count": 3,
      "outputs": [
        {
          "output_type": "stream",
          "text": [
            "[99999, 20, 30] [99999, 20, 30]\n",
            "[99999, 20, 30]\n"
          ],
          "name": "stdout"
        }
      ]
    },
    {
      "cell_type": "markdown",
      "metadata": {
        "id": "5Xyj5wl_3_55",
        "colab_type": "text"
      },
      "source": [
        "• This is referred to as creating a shallow copy. A new list object is created and references to all the list elements of list1 are inserted in the list3."
      ]
    },
    {
      "cell_type": "code",
      "metadata": {
        "id": "BQvezVL94BQ3",
        "colab_type": "code",
        "colab": {
          "base_uri": "https://localhost:8080/",
          "height": 51
        },
        "outputId": "ba58217d-9ec5-4f24-b00f-df82b8952a6a"
      },
      "source": [
        "list4 = [list3, 12345]\n",
        "print(list4)\n",
        "#[[99999, 20, 30], 12345]\n",
        "\n",
        "list3[1] = 88888\n",
        "\n",
        "print(list4)\n",
        "#[[99999, 88888, 30], 12345]"
      ],
      "execution_count": 4,
      "outputs": [
        {
          "output_type": "stream",
          "text": [
            "[[99999, 20, 30], 12345]\n",
            "[[99999, 88888, 30], 12345]\n"
          ],
          "name": "stdout"
        }
      ]
    },
    {
      "cell_type": "markdown",
      "metadata": {
        "id": "6SLNGLGt4DoP",
        "colab_type": "text"
      },
      "source": [
        "• If we have a list with its elements as objects, we need to use the deepcopy function, which recursively copies object from the original list to the new list."
      ]
    },
    {
      "cell_type": "code",
      "metadata": {
        "id": "Oz2VO6eP4ETf",
        "colab_type": "code",
        "colab": {}
      },
      "source": [
        "import copy\n",
        "list5 = copy.deepcopy(list4)\n",
        "list4[1] = 6789\n",
        "\n",
        "print(list5)\n",
        "#[[99999, 88888, 30], 6789]"
      ],
      "execution_count": 0,
      "outputs": []
    },
    {
      "cell_type": "markdown",
      "metadata": {
        "id": "Gb1M_hXKSm_z",
        "colab_type": "text"
      },
      "source": [
        "## PyByte #6 (mean and standard deviation)"
      ]
    },
    {
      "cell_type": "markdown",
      "metadata": {
        "id": "A5YFTizpS6JQ",
        "colab_type": "text"
      },
      "source": [
        "Our next challenge is to write a function that derives the mean and the standard deviation of an array of numbers.\n",
        "\n",
        "REMEMBER, for\n",
        "\n",
        "X = [a, b, c],\n",
        "\n",
        "MEAN = (a + b + c)/3\n",
        "\n",
        "STANDARD DEVIATION = SQUARE ROOT OF (((a-MEAN)^2 + (b-MEAN)^2 + (c-MEAN)^2)/3)\n",
        "\n",
        "where the denominator `3` represents the count of X\n",
        "\n",
        "After the functions are set, let's test them on these:"
      ]
    },
    {
      "cell_type": "code",
      "metadata": {
        "id": "16oJP1WkSnHF",
        "colab_type": "code",
        "colab": {}
      },
      "source": [
        "P = [3, 4, -2, -1, 9, -20, 7]\n",
        "Q = [10, 20, 0.5, 0.7]\n",
        "R = [9, 6, 5, 3, 2, 1]\n",
        "\n",
        "# Answers:\n",
        "# Array of numbers:[3, 4, -2, -1, 9, -20, 7], Mean:0.0, Standard Deviation:8.94427190999916\n",
        "# Array of numbers:[10, 20, 0.5, 0.7], Mean:7.8, Standard Deviation:8.02153351922187\n",
        "# Array of numbers:[9, 6, 5, 3, 2, 1], Mean:4.333333333333333, Standard Deviation:2.6874192494328497"
      ],
      "execution_count": 0,
      "outputs": []
    },
    {
      "cell_type": "markdown",
      "metadata": {
        "id": "FZ-Kst6ZxoSb",
        "colab_type": "text"
      },
      "source": [
        "### Solution"
      ]
    },
    {
      "cell_type": "code",
      "metadata": {
        "id": "oWq6HijWxqNx",
        "colab_type": "code",
        "colab": {}
      },
      "source": [
        "def standard_deviation(array):\n",
        "  length = len(array)\n",
        "  mean = reduce(lambda a, b : a + b, array)/ length\n",
        "  temp_sum = 0\n",
        "  for i in range(0, len(array)):\n",
        "    temp_sum += (array[i] - mean)**2\n",
        "  sd = math.sqrt(temp_sum / length)\n",
        "  return(sd)\n",
        "\n",
        "standard_deviation(P)"
      ],
      "execution_count": 0,
      "outputs": []
    },
    {
      "cell_type": "code",
      "metadata": {
        "id": "uy4x95zyx7NO",
        "colab_type": "code",
        "colab": {}
      },
      "source": [
        "standard_deviation(Q)"
      ],
      "execution_count": 0,
      "outputs": []
    },
    {
      "cell_type": "code",
      "metadata": {
        "id": "RzZZORJTx7Ui",
        "colab_type": "code",
        "colab": {}
      },
      "source": [
        "standard_deviation(R)"
      ],
      "execution_count": 0,
      "outputs": []
    },
    {
      "cell_type": "markdown",
      "metadata": {
        "id": "durgMRCu4a-R",
        "colab_type": "text"
      },
      "source": [
        "# Week 3\n",
        "- Complete rest of the videos from CNN section of UD188  \n",
        "- Revise lesson number 4 of UD188  \n",
        "- Complete the lecture 6, 7, 8, 9 of Stanford's CS231n http://cs231n.stanford.edu/  \n",
        "- Solve all the PyBytes of this week (7 - 10) and keep contributing by creating your own.  \n",
        "- Join the magic buddy initiative which is going to be revealed right after five days.\n",
        "- DLDANCE: #1 "
      ]
    },
    {
      "cell_type": "markdown",
      "metadata": {
        "id": "S5eXkfEeky-E",
        "colab_type": "text"
      },
      "source": [
        "## PyByte #7 (reshape/view/resize)\n",
        "\n",
        "What is the mystery behind `reshaping`, `view`, `resize`?  \n",
        "Our next challenge is to write a function that changes a matrix to a given shape."
      ]
    },
    {
      "cell_type": "code",
      "metadata": {
        "id": "GFsQPoZglFNC",
        "colab_type": "code",
        "colab": {}
      },
      "source": [
        "X = [\n",
        "    [a, b, c],\n",
        "    [d, e, f],\n",
        "    [g, h, i],\n",
        "    [j, k, l]\n",
        "]\n",
        "# shape is 4x3\n",
        "\n",
        "#we could rearrange it to:\n",
        "X = [\n",
        "    [a, b],\n",
        "    [c, d],\n",
        "    [e, f],\n",
        "    [g, h],\n",
        "    [i, j],\n",
        "    [k, l]\n",
        "]"
      ],
      "execution_count": 0,
      "outputs": []
    },
    {
      "cell_type": "markdown",
      "metadata": {
        "id": "sTwAHd3blRsf",
        "colab_type": "text"
      },
      "source": [
        "Task: write a function that achieves what is demonstrated above, and changes:"
      ]
    },
    {
      "cell_type": "code",
      "metadata": {
        "id": "lLXDRW90lVMi",
        "colab_type": "code",
        "colab": {}
      },
      "source": [
        "P = [\n",
        "    [1, 2],\n",
        "    [3, 4],\n",
        "    [5, 6],\n",
        "    [7, 8],\n",
        "    [9, 10],\n",
        "    [11, 12]\n",
        "]\n",
        "\n",
        "# to this:\n",
        "\n",
        "P2 = [\n",
        "    [1, 2, 3],\n",
        "    [4, 5, 6],\n",
        "    [7, 8, 9],\n",
        "    [10, 11, 12]\n",
        "]"
      ],
      "execution_count": 0,
      "outputs": []
    },
    {
      "cell_type": "markdown",
      "metadata": {
        "id": "LiqxTZJalfyw",
        "colab_type": "text"
      },
      "source": [
        "YOU MIGHT NEED THESE:\n",
        "\n",
        "https://www.w3schools.com/python/ref_func_zip.asp  \n",
        "https://docs.python.org/3/library/stdtypes.html#list"
      ]
    },
    {
      "cell_type": "markdown",
      "metadata": {
        "id": "gpq6nPsCr65g",
        "colab_type": "text"
      },
      "source": [
        "### Solution (Ingus)"
      ]
    },
    {
      "cell_type": "code",
      "metadata": {
        "id": "phpsQaE4mjKN",
        "colab_type": "code",
        "colab": {}
      },
      "source": [
        "P = [\n",
        "    [1, 2],\n",
        "    [3, 4],\n",
        "    [5, 6],\n",
        "    [7, 8],\n",
        "    [9, 10],\n",
        "    [11, 12]\n",
        "]\n",
        "\n",
        "# not using numpy or any other library\n",
        "\n",
        "def reshape(array, x, y):\n",
        "  # initialize the new array\n",
        "  new_array = [[ 0 for i in range(x) ] for j in range(y)] \n",
        "  \n",
        "  # flatten the list\n",
        "  flattened_list = [item for sublist in array for item in sublist]\n",
        "  \n",
        "  # read the flattened list into the new array\n",
        "  #print (len(array))\n",
        "  #print (len(new_array))\n",
        "  for i in range(0, len(new_array)):\n",
        "    for j in range(0, len(new_array[0])):\n",
        "      new_array[i][j] = flattened_list[0]\n",
        "      flattened_list.pop(0)\n",
        "\n",
        "  return new_array\n",
        "  \n",
        "print(reshape(P, 3, 4))\n",
        "print(reshape(P, 12, 1))\n",
        "print(reshape(P, 1, 12))\n",
        "print(reshape(P, 6, 2))"
      ],
      "execution_count": 0,
      "outputs": []
    },
    {
      "cell_type": "markdown",
      "metadata": {
        "id": "f_u2pje_877b",
        "colab_type": "text"
      },
      "source": [
        "## PyByte #8a (dot product)"
      ]
    },
    {
      "cell_type": "markdown",
      "metadata": {
        "id": "VbONRFFE9B2n",
        "colab_type": "text"
      },
      "source": [
        "We explore the **dot product** and its sequel, **Matrix multiplication**. Think of torch.dot and start fantasizing about torch.matmul or torch.mm.\n",
        "\n",
        "If we have three vectors:  \n",
        "X = [a, b, c]  \n",
        "Y = [d, e, f]  \n",
        "Z = [g, h, i]  \n",
        "The dot product of X and Y and Z becomes:  \n",
        "dot_product = (a x d x g) + (b x e x h) + (c x f x i)\n",
        "\n",
        "Let's write a cute function that finds the dot product of any number of vectors.\n",
        "\n",
        "We need just one dynamic function that will take a set of vectors and return the dot product.\n",
        "\n",
        "We are removing the mystery behind torch.dot\n",
        "\n",
        "Resources:  \n",
        "https://www.w3schools.com/python/ref_func_zip.asp  \n",
        "https://docs.python.org/3/tutorial/datastructures.html#  \n",
        "https://docs.python.org/3/tutorial/datastructures.html#nested-list-comprehensions  \n",
        "https://docs.python.org/3/library/stdtypes.html#list  "
      ]
    },
    {
      "cell_type": "code",
      "metadata": {
        "id": "RPvBAGe599Nt",
        "colab_type": "code",
        "colab": {}
      },
      "source": [
        "X = [1, 2, 3]\n",
        "Y = [1, 2, 3]\n",
        "Z = [1, 2, 3]\n",
        "master_array0 = [X,Y,Z]"
      ],
      "execution_count": 0,
      "outputs": []
    },
    {
      "cell_type": "code",
      "metadata": {
        "id": "yKvJW2cJAsGY",
        "colab_type": "code",
        "colab": {}
      },
      "source": [
        "P = [2,   4,   5,   6,    7,    8]\n",
        "Q = [0.5, 0.5, 0.5, 0.5,  0.5,  0.5]\n",
        "R = [1,   0.5, 0.4, 0.33, 0.31, 0.25]\n",
        "master_array1 = [P,Q,R]"
      ],
      "execution_count": 0,
      "outputs": []
    },
    {
      "cell_type": "code",
      "metadata": {
        "id": "VNls9ZPqDnJR",
        "colab_type": "code",
        "colab": {}
      },
      "source": [
        "U = [2, 4, 6, 8]\n",
        "V = [8, 6, 4, 2]\n",
        "master_array2 = [U, V]"
      ],
      "execution_count": 0,
      "outputs": []
    },
    {
      "cell_type": "markdown",
      "metadata": {
        "id": "4oZDP6tnLA0M",
        "colab_type": "text"
      },
      "source": [
        "###Solution (Ingus)"
      ]
    },
    {
      "cell_type": "code",
      "metadata": {
        "id": "b4pNEpj0AvHf",
        "colab_type": "code",
        "colab": {
          "base_uri": "https://localhost:8080/",
          "height": 34
        },
        "outputId": "a4827003-bc85-4f0a-c64c-0ed7d1e33528"
      },
      "source": [
        "def dot_product(array):\n",
        "  dot_product = 0\n",
        "  for i in range(0, len(array[0])):\n",
        "    temp_sum = 1\n",
        "    for j in range(0, len(array)):\n",
        "      #print(len(array[i]))\n",
        "      temp_sum *= array[j][i]\n",
        "      #print(\"{}, {}, {}, {}\".format(j,i, array[j][i], temp_sum))\n",
        "    #print(temp_sum)\n",
        "    dot_product += temp_sum\n",
        "  return dot_product\n",
        "\n",
        "r0 = dot_product(master_array0)\n",
        "r1 = dot_product(master_array1)\n",
        "r2 = dot_product(master_array2)\n",
        "print(r0, r1, r2)"
      ],
      "execution_count": 7,
      "outputs": [
        {
          "output_type": "stream",
          "text": [
            "36 6.075 80\n"
          ],
          "name": "stdout"
        }
      ]
    },
    {
      "cell_type": "code",
      "metadata": {
        "id": "9ZxZmo9MCffT",
        "colab_type": "code",
        "colab": {}
      },
      "source": [
        "#randnums = np.random.randint(1,100,25)\n",
        "#randnums"
      ],
      "execution_count": 0,
      "outputs": []
    },
    {
      "cell_type": "markdown",
      "metadata": {
        "id": "H_c5iXJvwfkv",
        "colab_type": "text"
      },
      "source": [
        "## PyByte #9 (matrix multiplication)"
      ]
    },
    {
      "cell_type": "markdown",
      "metadata": {
        "id": "-9AmxpxzdWZ2",
        "colab_type": "text"
      },
      "source": [
        "X = [  \n",
        "  [a, b, c],  \n",
        "  [d, e, f]  \n",
        "]  \n",
        "Y = [    \n",
        "  [g, h],  \n",
        "  [i, j],  \n",
        "  [k, l]  \n",
        "]  \n",
        "Matrix multiplication would be derived as follows:  \n",
        "[(axg + bxi + cxk), (axh + bxj + cxl) (dxg + exi + fxk), (dxh + exj + fxl)]\n",
        "\n",
        "A Few Resources  \n",
        "\n",
        "https://docs.python.org/3/howto/functional.html  \n",
        "https://docs.python.org/3.3/library/functions.html#zip  \n",
        "https://docs.python.org/3.3/library/functions.html  \n",
        "\n",
        "**Task: Multiply the following 3 matrices:**\n",
        "- P and Q\n",
        "- R and P\n",
        "- P and R :)"
      ]
    },
    {
      "cell_type": "code",
      "metadata": {
        "id": "4g-00rSuktpy",
        "colab_type": "code",
        "colab": {}
      },
      "source": [
        "P = [[1, 2, 1],\n",
        "     [2, 1, 2]]\n",
        "\n",
        "Q = [[1, 1],\n",
        "     [2, 2],\n",
        "     [3, 3]]\n",
        "\n",
        "R = [[3, 3],\n",
        "     [1, 1]]\n",
        "\n",
        "Z = [[1,2,3,4,5],\n",
        "     [1,2,3,4,5]]\n",
        "\n",
        "D = [[1,2],\n",
        "     [1,2],\n",
        "     [1,2],\n",
        "     [1,2],\n",
        "     [1,2]]"
      ],
      "execution_count": 0,
      "outputs": []
    },
    {
      "cell_type": "markdown",
      "metadata": {
        "id": "akQhKHNtFEib",
        "colab_type": "text"
      },
      "source": [
        "### Solution (Ingus)"
      ]
    },
    {
      "cell_type": "code",
      "metadata": {
        "id": "YivWrJTjeOCs",
        "colab_type": "code",
        "colab": {}
      },
      "source": [
        "def mm(arr1, arr2):\n",
        "  if(len(arr1[0]) == len(arr2)):\n",
        "    print(\"Arrays can be multiplied\")\n",
        "\n",
        "    arr2_cols = len(arr2[0])\n",
        "    arr1_rows = len(arr1)\n",
        "    arr2_rows = len(arr2)\n",
        "\n",
        "    new_array = [[ 0 for i in range(arr2_cols) ] for j in range(arr1_rows)] \n",
        "\n",
        "    for i in range(0, arr1_rows):\n",
        "      for j in range(0, arr2_cols):\n",
        "        for k in range(0, arr2_rows):\n",
        "          new_array[i][j] += arr1[i][k] * arr2[k][j]\n",
        "    print(new_array)\n",
        "  else:\n",
        "    print(\"Arrays can NOT be multiplied\")\n",
        "\n",
        "mm(P, Q)\n",
        "mm(R, P)                               \n",
        "mm(P, R)\n",
        "mm(Z, D)\n",
        "mm(R, Z)"
      ],
      "execution_count": 0,
      "outputs": []
    },
    {
      "cell_type": "markdown",
      "metadata": {
        "id": "bc_qShGDa34h",
        "colab_type": "text"
      },
      "source": [
        "## DLDANCE #1 (array flip/transpose)"
      ]
    },
    {
      "cell_type": "markdown",
      "metadata": {
        "id": "o0A_V0yfbW7F",
        "colab_type": "text"
      },
      "source": [
        "### Description"
      ]
    },
    {
      "cell_type": "markdown",
      "metadata": {
        "id": "gZcAaMgmcGV0",
        "colab_type": "text"
      },
      "source": [
        "Alright! Today we are going to start a new initiative.  \n",
        "**THE DLDANCE (In the memorial of our favourite ddance :ddance:)**\n",
        "\n",
        "• In this initiative, you have to write something related to deep learning in a really nerdy way. Pick a topic which you think you are better in and show the world what you know about.  \n",
        "• This will help the community to learn something better at a pace.  \n",
        "• Make sure that the thing you are writing belongs to deep learning and will be helpful to solve a situation. eg like Data augmentation, Weight decay.  \n",
        "• Cover up a few basics and put a challenge to at the end. This will allow the individual to assess his/her knowledge.  \n",
        "and don't forget to do the ddance. :dddance::dddance::dddance:  "
      ]
    },
    {
      "cell_type": "markdown",
      "metadata": {
        "id": "cbVe7EXCbq4N",
        "colab_type": "text"
      },
      "source": [
        "Data Augmentation:  \n",
        "\n",
        "**Why we perform data augmentation?**\n",
        "\n",
        "Okay! Let’s just consider two situations  \n",
        "\n",
        "**1)** I have a lot of photos of comic heroes. To give them a tribute, I decided to create a classifier which will indeed help me in classifying my   superheroes. I felt so awesome about it and decided to take some steps. Pretrained model done, training almost is done and voila, I’ve got an amazing accuracy of 95%.\n",
        "•    Yeah! Time hit some heroes here. I came across an image of Spidey and he was hanging along with the wall upside down.  \n",
        "•    I tried it with my classifier and Hey!!! He said to me that I have a batman here. What tha heck! I have a 95% accuracy on my dataset, and you said that I’m hanging with a batman. Oh, come on!  \n",
        "**2)** I want to make a classifier to identify some famous girls. Yeah! Lets just hit some datasets now.  \n",
        "•    I’ve checked the dataset and found that it’s so small. I don’t think I can even train a classifier with that.  \n",
        "•    Anyways let us just try a pre-trained model. Duh? 54% Accuracy. I’m not sure if it can even differentiate between Megan fox and Selena. -_-  \n",
        "\n",
        "Both are kind of restricted with a condition. In situation one, when the person looked at the dataset carefully, he found that all the actors have their photo in only a single posture. While in situation number second, the person is facing a restriction due to the size of the dataset.\n",
        "Augmentation is a cure for such conditions. It allows an individual to transform or alter the state of the data but changing or manipulating orientations. It gives you some sort of superpowers to charge your dataset with more data and as you know, your neural network is only as good as the data you feed it. This will help your model to learn better.\n",
        "Given the plethora of data, we would expect that data augmentation techniques might be used to benefit not only classification tasks lacking enough data, but also help improve the current state of the art algorithms for classification.\n",
        "In the real world scenario, we may have a dataset of images taken in a limited set of conditions. But, our target application may exist in a variety of conditions, such as different orientation, location, scale, brightness etc. We account for these situations by training our neural network with additional synthetically modified data.\n",
        "And we can generate that synthetic parts by using transformations which is indeed is a key ingredient behind data augmentation.\n",
        "So, today we are going to talk about the unitary transformations performed across the datasets.\n",
        "Traditional transformation strategies:\n",
        "\n",
        "Yeah! Old school sounds so good.  \n",
        "Traditional transformations consist of using a combination of affine transformations to manipulate the training data which mostly includes:  \n",
        "•    Flip  \n",
        "•    Rotation  \n",
        "•    Scale  \n",
        "•    Crop  \n",
        "•    Translation  \n",
        "\n",
        "Let’s start digging one of them:  \n",
        "**Flip:**  \n",
        "It generally refers to a situation when you change the orientation of your image with exactly 180 degrees across the different axis.  \n",
        "•    If it’s X-Axis, then we are performing a horizontal flip.  \n",
        "•    If are dealing with Y-Axis, then we are doing a vertical flip.  \n",
        "Okay! Now let us start some reverse engineering to open a whole new perspective of transformation."
      ]
    },
    {
      "cell_type": "markdown",
      "metadata": {
        "id": "Gt2ErhCQcb8C",
        "colab_type": "text"
      },
      "source": [
        "### Exercise - implement image flip (horizontal and vertical)"
      ]
    },
    {
      "cell_type": "markdown",
      "metadata": {
        "id": "WAP5-qmCYLCQ",
        "colab_type": "text"
      },
      "source": [
        "### Solution"
      ]
    },
    {
      "cell_type": "code",
      "metadata": {
        "id": "07hv_iXqjcAu",
        "colab_type": "code",
        "colab": {}
      },
      "source": [
        "from matplotlib.image import imread, imsave\n",
        "\n",
        "def flip_horizontal(image_name, new_name):\n",
        "  img = imread(image_name)\n",
        "\n",
        "  cols = len(img)\n",
        "  rows = len(img[0])\n",
        "\n",
        "  # do the flipping\n",
        "  new_array = [[ 0 for i in range(rows) ] for j in range(cols)] \n",
        "  for i in range(0, cols):\n",
        "    for j in range(0, rows):\n",
        "      new_array[cols - 1 - i][j] = img[i][j]\n",
        "\n",
        "  imsave(new_name, new_array)\n",
        "\n",
        "def flip_vertical(image_name, new_name):\n",
        "  img = imread(image_name)\n",
        "\n",
        "  cols = len(img)\n",
        "  rows = len(img[0])\n",
        "\n",
        "  # do the flipping\n",
        "  new_array = [[ 0 for i in range(rows) ] for j in range(cols)] \n",
        "  for i in range(0, cols):\n",
        "    for j in range(0, rows):\n",
        "      new_array[i][rows - 1 - j] = img[i][j]\n",
        "\n",
        "  imsave(new_name, new_array)\n",
        "\n",
        "# 4x6.png is 4 px wide and 6 px high :)\n",
        "# you can upload any png and the flip will work.\n",
        "# haven't tested this on bmp/jpg/gif and other formats.\n",
        "flip_horizontal('4x6.png', '4x6_flip_hor.png')\n",
        "flip_vertical('4x6.png', '4x6_flip_vert.png')"
      ],
      "execution_count": 0,
      "outputs": []
    },
    {
      "cell_type": "code",
      "metadata": {
        "id": "3qXCDV165zNY",
        "colab_type": "code",
        "colab": {
          "base_uri": "https://localhost:8080/",
          "height": 286
        },
        "outputId": "25ec2aab-052e-4c8b-d442-6be2a72a54b9"
      },
      "source": [
        "image = plt.imread('4x6.png')\n",
        "plt.imshow(image)"
      ],
      "execution_count": 130,
      "outputs": [
        {
          "output_type": "execute_result",
          "data": {
            "text/plain": [
              "<matplotlib.image.AxesImage at 0x7f9716eefd30>"
            ]
          },
          "metadata": {
            "tags": []
          },
          "execution_count": 130
        },
        {
          "output_type": "display_data",
          "data": {
            "image/png": "[encoded data removed]",
            "text/plain": [
              "<Figure size 432x288 with 1 Axes>"
            ]
          },
          "metadata": {
            "tags": []
          }
        }
      ]
    },
    {
      "cell_type": "code",
      "metadata": {
        "id": "esi0P0vvx2Z8",
        "colab_type": "code",
        "colab": {
          "base_uri": "https://localhost:8080/",
          "height": 286
        },
        "outputId": "3e6db61f-1e8d-437c-a715-301ab0ede71e"
      },
      "source": [
        "image = plt.imread('4x6_flip_hor.png')\n",
        "plt.imshow(image)"
      ],
      "execution_count": 129,
      "outputs": [
        {
          "output_type": "execute_result",
          "data": {
            "text/plain": [
              "<matplotlib.image.AxesImage at 0x7f9716fcc7f0>"
            ]
          },
          "metadata": {
            "tags": []
          },
          "execution_count": 129
        },
        {
          "output_type": "display_data",
          "data": {
            "image/png": "[encoded data removed]",
            "text/plain": [
              "<Figure size 432x288 with 1 Axes>"
            ]
          },
          "metadata": {
            "tags": []
          }
        }
      ]
    },
    {
      "cell_type": "code",
      "metadata": {
        "id": "Oos53qI45zbI",
        "colab_type": "code",
        "colab": {
          "base_uri": "https://localhost:8080/",
          "height": 286
        },
        "outputId": "e50c0507-11df-4550-8dc3-6a3b4552f783"
      },
      "source": [
        "image = plt.imread('4x6_flip_vert.png')\n",
        "plt.imshow(image)"
      ],
      "execution_count": 131,
      "outputs": [
        {
          "output_type": "execute_result",
          "data": {
            "text/plain": [
              "<matplotlib.image.AxesImage at 0x7f9716ec0828>"
            ]
          },
          "metadata": {
            "tags": []
          },
          "execution_count": 131
        },
        {
          "output_type": "display_data",
          "data": {
            "image/png": "[encoded data removed]",
            "text/plain": [
              "<Figure size 432x288 with 1 Axes>"
            ]
          },
          "metadata": {
            "tags": []
          }
        }
      ]
    },
    {
      "cell_type": "markdown",
      "metadata": {
        "id": "3VGkjxeIFSYi",
        "colab_type": "text"
      },
      "source": [
        "## PyByte #10 (for the weekend)"
      ]
    },
    {
      "cell_type": "markdown",
      "metadata": {
        "id": "1YhLSyu5Fbas",
        "colab_type": "text"
      },
      "source": [
        "**PLAYGROUND(OPTIONAL)**\n",
        "\n",
        "Implement these four activation functions in python:\n",
        "- Sigmoid  \n",
        "- Softmax  \n",
        "- TanH  \n",
        "- ReLU\n",
        "\n",
        "That's for self evaluation.\n",
        "\n",
        "**THE REAL DEAL**\n",
        "\n",
        "In the spirit of the SHOWCASE challenge, we are going to delve deeper into images. This is going to be a bit tough but we can.  \n",
        "Download the image here:   \n",
        "https://raw.githubusercontent.com/ayivima/AI-SURFS/master/Red_Green_Blue_Classifier/img1.png  \n",
        "\n",
        "in your notebook.  \n",
        "Using core python, PIL, pandas, and/or  numpy, find out the following:\n",
        "1. How many pixels are in the image?\n",
        "2. Print out the first pixel as a matrix\n",
        "3. Print the shape of the first pixel in the image.\n",
        "4. What is the total number of data points in the image?\n",
        "\n",
        "**CLUES**\n",
        "\n",
        "A lot can be garnered from an image tensor's shape."
      ]
    },
    {
      "cell_type": "markdown",
      "metadata": {
        "id": "ulhBTGHCKZfs",
        "colab_type": "text"
      },
      "source": [
        "### Solution (activation functions) - incomplete"
      ]
    },
    {
      "cell_type": "code",
      "metadata": {
        "id": "6Y1nkSdHKirQ",
        "colab_type": "code",
        "colab": {}
      },
      "source": [
        "import torch\n",
        "import numpy as np\n",
        "\n",
        "L = [5, 6, 7, 4, 7]\n",
        "L4 = [0.2, 0.1, 0.3, 0.25, 0.05]\n",
        "\n",
        "# core Python\n",
        "def sigmoid(L):\n",
        "  sigm_list = []\n",
        "  for x in L:\n",
        "    sigm_list.append(1 / (1 + math.exp(-x)))\n",
        "  return sigm_list\n",
        "      \n",
        "# using Numpy\n",
        "def softmax(L):\n",
        "    expL = np.exp(L)\n",
        "    sumExpL = sum(expL)\n",
        "    result = []\n",
        "    for i in expL:\n",
        "        result.append(i * 1.0/sumExpL)\n",
        "    return result\n",
        "\n",
        "# using Torch\n",
        "def softmax2(x):\n",
        "    return torch.exp(x)/torch.sum(torch.exp(x), dim=1).view(-1, 1)\n",
        "  \n",
        "def tanh(L):\n",
        "  pass\n",
        "\n",
        "def relu(L):\n",
        "  pass"
      ],
      "execution_count": 0,
      "outputs": []
    },
    {
      "cell_type": "code",
      "metadata": {
        "id": "lA7FnKouNoB-",
        "colab_type": "code",
        "colab": {}
      },
      "source": [
        "sigmoid(L)"
      ],
      "execution_count": 0,
      "outputs": []
    },
    {
      "cell_type": "code",
      "metadata": {
        "id": "Y5gO8-oKMb8d",
        "colab_type": "code",
        "colab": {}
      },
      "source": [
        "softmax(L)"
      ],
      "execution_count": 0,
      "outputs": []
    },
    {
      "cell_type": "code",
      "metadata": {
        "id": "G1Rqyd-6Ny-l",
        "colab_type": "code",
        "colab": {}
      },
      "source": [
        "tanh(L)"
      ],
      "execution_count": 0,
      "outputs": []
    },
    {
      "cell_type": "code",
      "metadata": {
        "id": "U4n8lEK3NzFJ",
        "colab_type": "code",
        "colab": {}
      },
      "source": [
        "relu(L)"
      ],
      "execution_count": 0,
      "outputs": []
    },
    {
      "cell_type": "markdown",
      "metadata": {
        "id": "xIisp054KZqq",
        "colab_type": "text"
      },
      "source": [
        "### Solutions (image analysis)"
      ]
    },
    {
      "cell_type": "code",
      "metadata": {
        "id": "Oh9U1KgQKjEq",
        "colab_type": "code",
        "colab": {
          "base_uri": "https://localhost:8080/",
          "height": 102
        },
        "outputId": "6e60d6e4-b5f2-4b60-8fb9-e2095ae99065"
      },
      "source": [
        "import numpy as np\n",
        "import cv2\n",
        "\n",
        "def describe_image(image_name):\n",
        "  img = cv2.imread(image_name)\n",
        "  print(\"Total pixels:\", len(img) * len(img[0]))\n",
        "  print(\"First pixel as matrix:\", img[0][0])\n",
        "  print(\"First pixel shape:\", img[0][0].shape)\n",
        "  print(\"Total datapoints:\", img.size)\n",
        "  print(\"Image shape:\", img.shape)\n",
        "\n",
        "describe_image(\"img1.png\")"
      ],
      "execution_count": 87,
      "outputs": [
        {
          "output_type": "stream",
          "text": [
            "Total pixels: 2500\n",
            "First pixel as matrix: [ 81 166   0]\n",
            "First pixel shape: (3,)\n",
            "Total datapoints: 7500\n",
            "Image shape: (50, 50, 3)\n"
          ],
          "name": "stdout"
        }
      ]
    }
  ]
}
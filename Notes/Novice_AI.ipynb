{
  "nbformat": 4,
  "nbformat_minor": 0,
  "metadata": {
    "colab": {
      "name": "Novice-AI.ipynb",
      "version": "0.3.2",
      "provenance": [],
      "collapsed_sections": [
        "T8KSLMloBkRF",
        "9Bh8bvCXo9I1",
        "ftrHe7RrrPe4",
        "_Mo_P0GTtAnQ",
        "O9kK72m6ENIe",
        "XQ17JbLMDa4T",
        "QtW0W_QzDoED",
        "mCiLcK2A2kWA",
        "S5eXkfEeky-E",
        "gpq6nPsCr65g"
      ],
      "include_colab_link": true
    },
    "kernelspec": {
      "name": "python3",
      "display_name": "Python 3"
    }
  },
  "cells": [
    {
      "cell_type": "markdown",
      "metadata": {
        "id": "view-in-github",
        "colab_type": "text"
      },
      "source": [
        "<a href=\"https://colab.research.google.com/github/ingus-t/SPAI/blob/master/Notes/Novice_AI.ipynb\" target=\"_parent\"><img src=\"https://colab.research.google.com/assets/colab-badge.svg\" alt=\"Open In Colab\"/></a>"
      ]
    },
    {
      "cell_type": "code",
      "metadata": {
        "id": "Fo0XdTdDEfjm",
        "colab_type": "code",
        "colab": {}
      },
      "source": [
        "from functools import reduce\n",
        "import math"
      ],
      "execution_count": 0,
      "outputs": []
    },
    {
      "cell_type": "markdown",
      "metadata": {
        "id": "E4fTWloZ7guG",
        "colab_type": "text"
      },
      "source": [
        "# PyTorch Beast"
      ]
    },
    {
      "cell_type": "markdown",
      "metadata": {
        "id": "GhKIi9iq4qFp",
        "colab_type": "text"
      },
      "source": [
        "# Week 1\n",
        "- Quiz"
      ]
    },
    {
      "cell_type": "markdown",
      "metadata": {
        "id": "AnG7ENvkBw62",
        "colab_type": "text"
      },
      "source": [
        "# Week 2\n",
        "\n",
        "- Pseudocode and time complexity for 3 programming problems\n",
        "- First 20 videos of 5th chapter of - **Intro to PyTorch** https://classroom.udacity.com/courses/ud188\n",
        "- Stanford's CS230 - **Deep Learning** (Lecture 2,3,6)  http://cs230.stanford.edu/lecture/\n",
        "- PyByte exercises"
      ]
    },
    {
      "cell_type": "markdown",
      "metadata": {
        "id": "T8KSLMloBkRF",
        "colab_type": "text"
      },
      "source": [
        "## Pseudocode (for 3 programming problems)"
      ]
    },
    {
      "cell_type": "markdown",
      "metadata": {
        "id": "wXOwvCAJB92I",
        "colab_type": "text"
      },
      "source": [
        "Create a valid approach to solve these questions, write pseudocode and give its time complexity if possible. Don't code. We don't need your code at all.\n",
        "\n",
        "https://www.hackerearth.com/practice/basic-programming/input-output/basics-of-input-output/practice-problems/algorithm/seating-arrangement-1/\n",
        "https://www.hackerearth.com/practice/basic-programming/operators/basics-of-operators/practice-problems/algorithm/let-us-understand-computer-78476e7a/\n",
        "https://www.hackerearth.com/practice/basic-programming/complexity-analysis/time-and-space-complexity/practice-problems/algorithm/vowel-game-f1a1047c/\n",
        "\n",
        "\n",
        "What is time complexity?\n",
        "\n",
        "https://www.hackerearth.com/practice/basic-programming/complexity-analysis/time-and-space-complexity/tutorial/\n",
        "https://towardsdatascience.com/understanding-time-complexity-with-python-examples-2bda6e8158a7\n",
        "\n",
        "What is pseudocode?\n",
        "\n",
        "https://www.geeksforgeeks.org/how-to-write-a-pseudo-code/"
      ]
    },
    {
      "cell_type": "markdown",
      "metadata": {
        "id": "9Bh8bvCXo9I1",
        "colab_type": "text"
      },
      "source": [
        "## PyByte #1 (Data types and conversion)"
      ]
    },
    {
      "cell_type": "markdown",
      "metadata": {
        "id": "bs2RN9NupDxL",
        "colab_type": "text"
      },
      "source": [
        "1. What is this number, `156256362E-4`, in python?\n",
        "2. What will the outcome of  `int(\"4.567\")` be? Why did you get the outcome you got?\n",
        "3. Can you convert `\"abcdeghij\"` into a list of characters?\n",
        "4. What is the boolean equivalent of `\"a boy\"`?"
      ]
    },
    {
      "cell_type": "markdown",
      "metadata": {
        "id": "JxUgpcvTp65c",
        "colab_type": "text"
      },
      "source": [
        "### Extra information about data types and converson between them\n",
        "*  integer\n",
        "*  float\n",
        "*  string\n",
        "*  boolean\n",
        "*  tuples and lists\n",
        "*  dictionary\n",
        "*  set\n",
        "\n",
        "https://github.com/ayivima/AI-SURFS/blob/master/Python_Basics/Getting_Started.md"
      ]
    },
    {
      "cell_type": "markdown",
      "metadata": {
        "id": "LEuxWJyV08D_",
        "colab_type": "text"
      },
      "source": [
        "### Solution"
      ]
    },
    {
      "cell_type": "code",
      "metadata": {
        "id": "-IPoMD-TpmGY",
        "colab_type": "code",
        "colab": {}
      },
      "source": [
        "# 1. 15625.6362 (dot/comma is moved 4 positions to the left)\n",
        "print(156256362E-4)\n",
        "# 2. Error\n",
        "# 3. Yes\n",
        "str = \"abcdeghij\"\n",
        "def split(str): \n",
        "    return [char for char in str]  \n",
        "print(split(str)) \n",
        "# 4. 1?"
      ],
      "execution_count": 0,
      "outputs": []
    },
    {
      "cell_type": "markdown",
      "metadata": {
        "id": "ftrHe7RrrPe4",
        "colab_type": "text"
      },
      "source": [
        "## PyByte #3  (+ another pybyte)"
      ]
    },
    {
      "cell_type": "markdown",
      "metadata": {
        "id": "ZPtq5hIDrReZ",
        "colab_type": "text"
      },
      "source": [
        "Recollect these:\n",
        "\n",
        "`[1]` - **a scalar**\n",
        "\n",
        "`[1,2,3]` - **rank one tensor**, also called **vector**\n",
        "\n",
        "`[[1,2],[3,4],[5,6]]` - **rank two tensor**, also called **matrix or dyad**\n",
        "\n",
        "`[[[1,2],[3,4],[5,6]],[[1,2],[3,4],[5,6]]]` - **rank three tensor** also called triad\n",
        "\n",
        "Objectives:\n",
        "- List and tuple operations in python\n",
        "- List comprehensions\n",
        "- Deeper understanding of core tensor arithmetic concepts.\n"
      ]
    },
    {
      "cell_type": "markdown",
      "metadata": {
        "id": "bIuLTRblsLW_",
        "colab_type": "text"
      },
      "source": [
        "### Sum all the numbers in the triad"
      ]
    },
    {
      "cell_type": "code",
      "metadata": {
        "id": "17iCXQyEsPLT",
        "colab_type": "code",
        "colab": {}
      },
      "source": [
        "# The task is to sum all the numbers in the triad `a`.\n",
        "# Write two separate codes using `for...loop`,\n",
        "# And a second using `list comprehension`.\n",
        "# No external libraries.\n",
        "\n",
        "a = [[[1,2],[3,4],[5,6]],[[1,2],[3,4],[5,6]]]"
      ],
      "execution_count": 0,
      "outputs": []
    },
    {
      "cell_type": "markdown",
      "metadata": {
        "id": "ojndXyy39s1i",
        "colab_type": "text"
      },
      "source": [
        "### Solution"
      ]
    },
    {
      "cell_type": "code",
      "metadata": {
        "id": "bMoj4wlH8DIJ",
        "colab_type": "code",
        "colab": {}
      },
      "source": [
        "# using for loop\n",
        "def sum_numbers(array):\n",
        "  temp_sum = 0\n",
        "  for i in range(0, len(array)):\n",
        "    for j in range(0, len(array[0])):\n",
        "      for k in range(0, len(array[0][0])):\n",
        "        temp_sum += int(array[i][j][k])\n",
        "  return temp_sum\n",
        "sum_numbers(a)\n",
        "\n",
        "# using list comprehension"
      ],
      "execution_count": 0,
      "outputs": []
    },
    {
      "cell_type": "markdown",
      "metadata": {
        "id": "TGHrYMNOslz_",
        "colab_type": "text"
      },
      "source": [
        "### Array transformation (flattening)"
      ]
    },
    {
      "cell_type": "code",
      "metadata": {
        "id": "8S0MzfpPsoeY",
        "colab_type": "code",
        "colab": {}
      },
      "source": [
        "# We have an array of arrays of arrays stored in `arr`, `arr2`, `arr3` as shown below.\n",
        "# But, we want to transform that into a single array, which still has all the numbers in `arr`.\n",
        "# Let's attempt at writing code that does this transformation on the arrays.\n",
        "\n",
        "# Expected outputs:\n",
        "# [1,2,3,4]\n",
        "# [1,2,4]\n",
        "# [1.1, 1.2, 1.3, 1.4, 1.5, 1.6, 1.7, 1.8, 1.9, 2.0, 2.1, 2.2]\n",
        "\n",
        "arr = [[1,2],[3,4]]\n",
        "arr2 = [[1], [2], [4]]\n",
        "arr3 = [[[1.1, 1.2, 1.3], [1.4, 1.5, 1.6]],[[1.7, 1.8, 1.9],[2.0, 2.1, 2.2]]]"
      ],
      "execution_count": 0,
      "outputs": []
    },
    {
      "cell_type": "markdown",
      "metadata": {
        "id": "JjxO7YxM9yUd",
        "colab_type": "text"
      },
      "source": [
        "### Solution"
      ]
    },
    {
      "cell_type": "code",
      "metadata": {
        "id": "Qg_n7OeC9l8Z",
        "colab_type": "code",
        "colab": {}
      },
      "source": [
        "def flatten(array):\n",
        "  flattened_list = [item for sublist in array for item in sublist]\n",
        "  return flattened_list\n",
        "  \n",
        "print(flatten(arr))\n",
        "print(flatten(arr2))\n",
        "arr3 = flatten(arr3)\n",
        "print(flatten(arr3))"
      ],
      "execution_count": 0,
      "outputs": []
    },
    {
      "cell_type": "markdown",
      "metadata": {
        "id": "_Mo_P0GTtAnQ",
        "colab_type": "text"
      },
      "source": [
        "## PyByte #4 (Data structures and functions)"
      ]
    },
    {
      "cell_type": "markdown",
      "metadata": {
        "id": "3d9WBUyTtivM",
        "colab_type": "text"
      },
      "source": [
        "### Programmatically, find the number of lists in `a`, and the number of items in each sub-list:"
      ]
    },
    {
      "cell_type": "code",
      "metadata": {
        "id": "ClKgi-rKtnlQ",
        "colab_type": "code",
        "colab": {}
      },
      "source": [
        "# Expected output:\n",
        "# Number of lists = 3\n",
        "# number of items in lists = 3, 3, 4\n",
        "\n",
        "a = [[1,2,3],[4,5,6],[7,8,9,4]]\n",
        "\n",
        "# repeat it for the 3 following lists\n",
        "b = [[2,4,6],[8,10,12]]\n",
        "c = [[1,2],[3,4],[5,6],[7,8]]\n",
        "d = [[5],[6],[8]]"
      ],
      "execution_count": 0,
      "outputs": []
    },
    {
      "cell_type": "markdown",
      "metadata": {
        "id": "ZJv3uMJ_M0tm",
        "colab_type": "text"
      },
      "source": [
        "### Solution"
      ]
    },
    {
      "cell_type": "code",
      "metadata": {
        "id": "cdxtt3RDM2v1",
        "colab_type": "code",
        "colab": {}
      },
      "source": [
        "# Ingus - incomplete\n",
        "def sum_numbers(array):\n",
        "  for i in range(0, len(array)):\n",
        "    length_array = []\n",
        "    length = 0\n",
        "    for j in range(0, len(array[0])):\n",
        "      length += 1\n",
        "    length_array.append(length)\n",
        "    \n",
        "  print(len(array), length_array)\n",
        "\n",
        "sum_numbers(a)\n",
        "sum_numbers(b)\n",
        "sum_numbers(c)\n",
        "sum_numbers(d)"
      ],
      "execution_count": 0,
      "outputs": []
    },
    {
      "cell_type": "code",
      "metadata": {
        "id": "tMr2wVr5Rwp8",
        "colab_type": "code",
        "colab": {}
      },
      "source": [
        "# Hung\n",
        "def my_func(arr):\n",
        "  y = [len(ele) for ele in arr]\n",
        "  print( len(arr), y)\n",
        "\n",
        "my_func(a)\n",
        "my_func(b)\n",
        "my_func(c)\n",
        "my_func(d)"
      ],
      "execution_count": 0,
      "outputs": []
    },
    {
      "cell_type": "markdown",
      "metadata": {
        "id": "3qN4ZFsjuKj4",
        "colab_type": "text"
      },
      "source": [
        "### If you have completed the above tasks, go the extra mile of building a simple function that takes a matrix(list of lists), and returns a tuple containing two items (a, b), where `x` is the number of lists in the matrix, and `y` is the number of items contained in the sub-lists. Pass `b`, `c`, `d` through your function and print out the output."
      ]
    },
    {
      "cell_type": "markdown",
      "metadata": {
        "id": "FhjiC02ttNJx",
        "colab_type": "text"
      },
      "source": [
        "### Resources:\n",
        "\n",
        "- https://www.w3schools.com/python/python_functions.asp\n",
        "- https://www.w3schools.com/python/python_lambda.asp\n",
        "- https://www.w3schools.com/python/python_lists.asp\n",
        "- https://docs.python.org/3/library/stdtypes.html#sequence-types-list-tuple-range\n",
        "- https://www.geeksforgeeks.org/nested-list-comprehensions-in-python/"
      ]
    },
    {
      "cell_type": "markdown",
      "metadata": {
        "id": "O9kK72m6ENIe",
        "colab_type": "text"
      },
      "source": [
        "## Extra PyBytes"
      ]
    },
    {
      "cell_type": "markdown",
      "metadata": {
        "colab_type": "text",
        "id": "eafCx6WeoRm3"
      },
      "source": [
        "What does this do?"
      ]
    },
    {
      "cell_type": "code",
      "metadata": {
        "id": "LX4ynxw5EWMi",
        "colab_type": "code",
        "colab": {}
      },
      "source": [
        "numbers = [1,2,3,4,5]\n",
        "result = reduce(lambda a,b: a*b, numbers)\n",
        "result"
      ],
      "execution_count": 0,
      "outputs": []
    },
    {
      "cell_type": "markdown",
      "metadata": {
        "id": "wcQnD6u4ofXC",
        "colab_type": "text"
      },
      "source": [
        "### Solution"
      ]
    },
    {
      "cell_type": "code",
      "metadata": {
        "id": "OWUfPTdpoitA",
        "colab_type": "code",
        "colab": {}
      },
      "source": [
        "# It is factorial"
      ],
      "execution_count": 0,
      "outputs": []
    },
    {
      "cell_type": "markdown",
      "metadata": {
        "id": "XQ17JbLMDa4T",
        "colab_type": "text"
      },
      "source": [
        "## PyByte #5 (for the weekend)"
      ]
    },
    {
      "cell_type": "markdown",
      "metadata": {
        "id": "QtW0W_QzDoED",
        "colab_type": "text"
      },
      "source": [
        "### Use core python to find the shapes of the following."
      ]
    },
    {
      "cell_type": "code",
      "metadata": {
        "id": "8mkYMnR2Drz_",
        "colab_type": "code",
        "colab": {}
      },
      "source": [
        "# HINT: Start from the top-most array, find its length, then move to the next level and repeat till you reach the last level.\n",
        "# FOR EXAMPLE: shape of `k` below is `(2, 2, 2)`\n",
        "\n",
        "k = [\n",
        "    [[1,2],[1,2]],\n",
        "    [[1,2],[1,2]],\n",
        "]\n",
        "\n",
        "X = [\n",
        "    [[1, 2, 3, 5, 4], [2, 7, 3, 5, 4]],\n",
        "    [[3, 2, 0, 5, 4], [2, 7, 3, 5, 4]],\n",
        "    [[1, 2, 0, 5, 2], [2, 7, 1, 2, 4]]\n",
        "]\n",
        "\n",
        "Y = [\n",
        "    [1, 2, 3,],\n",
        "    [3, 2, 0,],\n",
        "    [1, 2, 0,],\n",
        "]"
      ],
      "execution_count": 0,
      "outputs": []
    },
    {
      "cell_type": "markdown",
      "metadata": {
        "id": "mCiLcK2A2kWA",
        "colab_type": "text"
      },
      "source": [
        "## List copying (shallow copy vs deep copy) by Kapil Chandorikar"
      ]
    },
    {
      "cell_type": "markdown",
      "metadata": {
        "id": "1vzwENK52hlR",
        "colab_type": "text"
      },
      "source": [
        "https://secureprivataischolar.slack.com/archives/CL5KWHXR6/p1563734565058400"
      ]
    },
    {
      "cell_type": "code",
      "metadata": {
        "id": "5hxliiBG2hwo",
        "colab_type": "code",
        "colab": {
          "base_uri": "https://localhost:8080/",
          "height": 51
        },
        "outputId": "133835f9-aefd-4d2e-a3ad-daa43225242a"
      },
      "source": [
        "list1 = [10, 20, 30]\n",
        "list2 = list1\n",
        "print(list1, list2)\n",
        "#([10, 20, 30], [10, 20, 30])\n",
        "\n",
        "list1[0] = 99999\n",
        "print(list2)\n",
        "#[99999, 20, 30]\n",
        "\n",
        "# Notice the elements of list2"
      ],
      "execution_count": 2,
      "outputs": [
        {
          "output_type": "stream",
          "text": [
            "[10, 20, 30] [10, 20, 30]\n",
            "[99999, 20, 30]\n"
          ],
          "name": "stdout"
        }
      ]
    },
    {
      "cell_type": "markdown",
      "metadata": {
        "id": "M6woaWW739BM",
        "colab_type": "text"
      },
      "source": [
        "When we use the assignment statement, reference is copied. We do not have two different lists, because both of them (list1 and list2) are referring to the same object in memory.\n",
        "\n",
        "• The correct way to copy a list is using the copy function."
      ]
    },
    {
      "cell_type": "code",
      "metadata": {
        "id": "L2pkRKnG37bm",
        "colab_type": "code",
        "colab": {
          "base_uri": "https://localhost:8080/",
          "height": 51
        },
        "outputId": "01fa3fa8-573b-4d91-89be-4f6873cc343e"
      },
      "source": [
        "list3 = list1.copy()\n",
        "# alternatively\n",
        "# import copy\n",
        "# list3 = copy.copy(list1)\n",
        "\n",
        "print(list1, list3)\n",
        "#([99999, 20, 30], [99999, 20, 30])\n",
        "\n",
        "list1[1] = 88888\n",
        "print(list3)\n",
        "#[99999, 20, 30]"
      ],
      "execution_count": 3,
      "outputs": [
        {
          "output_type": "stream",
          "text": [
            "[99999, 20, 30] [99999, 20, 30]\n",
            "[99999, 20, 30]\n"
          ],
          "name": "stdout"
        }
      ]
    },
    {
      "cell_type": "markdown",
      "metadata": {
        "id": "5Xyj5wl_3_55",
        "colab_type": "text"
      },
      "source": [
        "• This is referred to as creating a shallow copy. A new list object is created and references to all the list elements of list1 are inserted in the list3."
      ]
    },
    {
      "cell_type": "code",
      "metadata": {
        "id": "BQvezVL94BQ3",
        "colab_type": "code",
        "colab": {
          "base_uri": "https://localhost:8080/",
          "height": 51
        },
        "outputId": "ba58217d-9ec5-4f24-b00f-df82b8952a6a"
      },
      "source": [
        "list4 = [list3, 12345]\n",
        "print(list4)\n",
        "#[[99999, 20, 30], 12345]\n",
        "\n",
        "list3[1] = 88888\n",
        "\n",
        "print(list4)\n",
        "#[[99999, 88888, 30], 12345]"
      ],
      "execution_count": 4,
      "outputs": [
        {
          "output_type": "stream",
          "text": [
            "[[99999, 20, 30], 12345]\n",
            "[[99999, 88888, 30], 12345]\n"
          ],
          "name": "stdout"
        }
      ]
    },
    {
      "cell_type": "markdown",
      "metadata": {
        "id": "6SLNGLGt4DoP",
        "colab_type": "text"
      },
      "source": [
        "• If we have a list with its elements as objects, we need to use the deepcopy function, which recursively copies object from the original list to the new list."
      ]
    },
    {
      "cell_type": "code",
      "metadata": {
        "id": "Oz2VO6eP4ETf",
        "colab_type": "code",
        "colab": {}
      },
      "source": [
        "import copy\n",
        "list5 = copy.deepcopy(list4)\n",
        "list4[1] = 6789\n",
        "\n",
        "print(list5)\n",
        "#[[99999, 88888, 30], 6789]"
      ],
      "execution_count": 0,
      "outputs": []
    },
    {
      "cell_type": "markdown",
      "metadata": {
        "id": "Gb1M_hXKSm_z",
        "colab_type": "text"
      },
      "source": [
        "## PyByte #6"
      ]
    },
    {
      "cell_type": "markdown",
      "metadata": {
        "id": "A5YFTizpS6JQ",
        "colab_type": "text"
      },
      "source": [
        "Our next challenge is to write a function that derives the mean and the standard deviation of an array of numbers.\n",
        "\n",
        "REMEMBER, for\n",
        "\n",
        "X = [a, b, c],\n",
        "\n",
        "MEAN = (a + b + c)/3\n",
        "\n",
        "STANDARD DEVIATION = SQUARE ROOT OF ((a-MEAN)^2 + (b-MEAN)^2 + (c-MEAN)^2)/3\n",
        "where the denominator `3` represents the count of X\n",
        "\n",
        "After the functions are set, let's test them on these:"
      ]
    },
    {
      "cell_type": "code",
      "metadata": {
        "id": "16oJP1WkSnHF",
        "colab_type": "code",
        "colab": {}
      },
      "source": [
        "P = [3, 4, -2, -1, 9, -20, 7]\n",
        "Q = [10, 20, 0.5, 0.7]\n",
        "R = [9, 6, 5, 3, 2, 1]\n",
        "\n",
        "# Answers:\n",
        "# Array of numbers:[3, 4, -2, -1, 9, -20, 7], Mean:0.0, Standard Deviation:8.94427190999916\n",
        "# Array of numbers:[10, 20, 0.5, 0.7], Mean:7.8, Standard Deviation:8.02153351922187\n",
        "# Array of numbers:[9, 6, 5, 3, 2, 1], Mean:4.333333333333333, Standard Deviation:2.6874192494328497"
      ],
      "execution_count": 0,
      "outputs": []
    },
    {
      "cell_type": "markdown",
      "metadata": {
        "id": "FZ-Kst6ZxoSb",
        "colab_type": "text"
      },
      "source": [
        "### Solution"
      ]
    },
    {
      "cell_type": "code",
      "metadata": {
        "id": "oWq6HijWxqNx",
        "colab_type": "code",
        "colab": {}
      },
      "source": [
        "def standard_deviation(array):\n",
        "  length = len(array)\n",
        "  mean = reduce(lambda a, b : a + b, array)/ length\n",
        "  temp_sum = 0\n",
        "  for i in range(0, len(array)):\n",
        "    temp_sum += (array[i] - mean)**2\n",
        "  sd = math.sqrt(temp_sum / length)\n",
        "  return(sd)\n",
        "\n",
        "standard_deviation(P)"
      ],
      "execution_count": 0,
      "outputs": []
    },
    {
      "cell_type": "code",
      "metadata": {
        "id": "uy4x95zyx7NO",
        "colab_type": "code",
        "colab": {}
      },
      "source": [
        "standard_deviation(Q)"
      ],
      "execution_count": 0,
      "outputs": []
    },
    {
      "cell_type": "code",
      "metadata": {
        "id": "RzZZORJTx7Ui",
        "colab_type": "code",
        "colab": {}
      },
      "source": [
        "standard_deviation(R)"
      ],
      "execution_count": 0,
      "outputs": []
    },
    {
      "cell_type": "markdown",
      "metadata": {
        "id": "durgMRCu4a-R",
        "colab_type": "text"
      },
      "source": [
        "# Week 3\n",
        "- Complete rest of the videos from CNN section of UD188  \n",
        "- Revise lesson number 4 of UD188  \n",
        "- Complete the lecture 6, 7, 8, 9 of Stanford's CS231n http://cs231n.stanford.edu/  \n",
        "- Solve all the PyBytes of this week and keep contributing by creating your own.  \n",
        "- Join the magic buddy initiative which is going to be revealed right after five days.  "
      ]
    },
    {
      "cell_type": "markdown",
      "metadata": {
        "id": "S5eXkfEeky-E",
        "colab_type": "text"
      },
      "source": [
        "## PyByte #7 (continues from #6)\n",
        "\n",
        "What is the mystery behind `reshaping`, `view`, `resize`?  \n",
        "Our next challenge is to write a function that changes a matrix to a given shape."
      ]
    },
    {
      "cell_type": "code",
      "metadata": {
        "id": "GFsQPoZglFNC",
        "colab_type": "code",
        "colab": {}
      },
      "source": [
        "X = [\n",
        "    [a, b, c],\n",
        "    [d, e, f],\n",
        "    [g, h, i],\n",
        "    [j, k, l]\n",
        "]\n",
        "# shape is 4x3\n",
        "\n",
        "#we could rearrange it to:\n",
        "X = [\n",
        "    [a, b],\n",
        "    [c, d],\n",
        "    [e, f],\n",
        "    [g, h],\n",
        "    [i, j],\n",
        "    [k, l]\n",
        "]"
      ],
      "execution_count": 0,
      "outputs": []
    },
    {
      "cell_type": "markdown",
      "metadata": {
        "id": "sTwAHd3blRsf",
        "colab_type": "text"
      },
      "source": [
        "Task: write a function that achieves what is demonstrated above, and changes:"
      ]
    },
    {
      "cell_type": "code",
      "metadata": {
        "id": "lLXDRW90lVMi",
        "colab_type": "code",
        "colab": {}
      },
      "source": [
        "P = [\n",
        "    [1, 2],\n",
        "    [3, 4],\n",
        "    [5, 6],\n",
        "    [7, 8],\n",
        "    [9, 10],\n",
        "    [11, 12]\n",
        "]\n",
        "\n",
        "# to this:\n",
        "\n",
        "P2 = [\n",
        "    [1, 2, 3],\n",
        "    [4, 5, 6],\n",
        "    [7, 8, 9],\n",
        "    [10, 11, 12]\n",
        "]"
      ],
      "execution_count": 0,
      "outputs": []
    },
    {
      "cell_type": "markdown",
      "metadata": {
        "id": "LiqxTZJalfyw",
        "colab_type": "text"
      },
      "source": [
        "YOU MIGHT NEED THESE:\n",
        "\n",
        "https://www.w3schools.com/python/ref_func_zip.asp  \n",
        "https://docs.python.org/3/library/stdtypes.html#list"
      ]
    },
    {
      "cell_type": "markdown",
      "metadata": {
        "id": "gpq6nPsCr65g",
        "colab_type": "text"
      },
      "source": [
        "### Solution"
      ]
    },
    {
      "cell_type": "code",
      "metadata": {
        "id": "phpsQaE4mjKN",
        "colab_type": "code",
        "colab": {}
      },
      "source": [
        "P = [\n",
        "    [1, 2],\n",
        "    [3, 4],\n",
        "    [5, 6],\n",
        "    [7, 8],\n",
        "    [9, 10],\n",
        "    [11, 12]\n",
        "]\n",
        "\n",
        "# not using numpy or any other library\n",
        "\n",
        "def reshape(array, x, y):\n",
        "  # initialize the new array\n",
        "  new_array = [[ 0 for i in range(x) ] for j in range(y)] \n",
        "  \n",
        "  # flatten the list\n",
        "  flattened_list = [item for sublist in array for item in sublist]\n",
        "  \n",
        "  # read the flattened list into the new array\n",
        "  #print (len(array))\n",
        "  #print (len(new_array))\n",
        "  for i in range(0, len(new_array)):\n",
        "    for j in range(0, len(new_array[0])):\n",
        "      new_array[i][j] = flattened_list[0]\n",
        "      flattened_list.pop(0)\n",
        "\n",
        "  return new_array\n",
        "  \n",
        "print(reshape(P, 3, 4))\n",
        "print(reshape(P, 12, 1))\n",
        "print(reshape(P, 1, 12))\n",
        "print(reshape(P, 6, 2))"
      ],
      "execution_count": 0,
      "outputs": []
    },
    {
      "cell_type": "code",
      "metadata": {
        "id": "mI_5_YLCsFre",
        "colab_type": "code",
        "colab": {}
      },
      "source": [
        ""
      ],
      "execution_count": 0,
      "outputs": []
    }
  ]
}
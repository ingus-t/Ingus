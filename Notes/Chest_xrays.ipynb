{
  "nbformat": 4,
  "nbformat_minor": 0,
  "metadata": {
    "colab": {
      "name": "Chest_xrays",
      "version": "0.3.2",
      "provenance": [],
      "collapsed_sections": [
        "oHpLyaxkWGLx",
        "4gGGSt1HYava",
        "7NLhtqylPuFO",
        "nMfCQvlXPyRr"
      ],
      "toc_visible": true,
      "include_colab_link": true
    },
    "kernelspec": {
      "name": "python3",
      "display_name": "Python 3"
    }
  },
  "cells": [
    {
      "cell_type": "markdown",
      "metadata": {
        "id": "view-in-github",
        "colab_type": "text"
      },
      "source": [
        "<a href=\"https://colab.research.google.com/github/ingus-t/SPAI/blob/master/Notes/Chest_xrays.ipynb\" target=\"_parent\"><img src=\"https://colab.research.google.com/assets/colab-badge.svg\" alt=\"Open In Colab\"/></a>"
      ]
    },
    {
      "cell_type": "markdown",
      "metadata": {
        "id": "oHpLyaxkWGLx",
        "colab_type": "text"
      },
      "source": [
        "# Description"
      ]
    },
    {
      "cell_type": "markdown",
      "metadata": {
        "id": "fi292XM_ObWl",
        "colab_type": "text"
      },
      "source": [
        "**Dataset on Kaggle** https://www.kaggle.com/nih-chest-xrays/data  \n",
        "**CSV file:** https://nihcc.app.box.com/v/ChestXray-NIHCC/file/219760887468  \n",
        "**Research document for this dataset:** *ChestX-ray8: Hospital-scale Chest X-ray Database and Benchmarks on Weakly-Supervised Classification and Localization of Common Thorax Diseases* https://arxiv.org/abs/1705.02315"
      ]
    },
    {
      "cell_type": "markdown",
      "metadata": {
        "id": "Dx-pDJ1xCcXc",
        "colab_type": "text"
      },
      "source": [
        "**Class count for images with only 1 class:**\n",
        "```\n",
        "No Finding              60361\n",
        "Infiltration            9547\n",
        "Atelectasis             4215\n",
        "Effusion                3955\n",
        "Nodule                  2705\n",
        "Pneumothorax            2194\n",
        "Mass                    2139\n",
        "Consolidation           1310\n",
        "Pleural_Thickening      1126\n",
        "Cardiomegaly            1093\n",
        "Emphysema                892\n",
        "Fibrosis                 727\n",
        "Edema                    628\n",
        "Pneumonia                322\n",
        "Hernia                   110\n",
        "```\n",
        "\n",
        "**Total count for all classes**\n",
        "```\n",
        "No_Finding            60361\n",
        "Infiltration          19894\n",
        "Effusion              13317\n",
        "Atelectasis           11559\n",
        "Nodule                 6331\n",
        "Mass                   5782\n",
        "Pneumothorax           5302\n",
        "Consolidation          4667\n",
        "Pleural_Thickening     3385\n",
        "Cardiomegaly           2776\n",
        "Emphysema              2516\n",
        "Edema                  2303\n",
        "Fibrosis               1686\n",
        "Pneumonia              1431\n",
        "Hernia                  227\n",
        "```"
      ]
    },
    {
      "cell_type": "markdown",
      "metadata": {
        "id": "HiBk0jmGgMSl",
        "colab_type": "text"
      },
      "source": [
        "**Accuracy achieved by transfer learning, using Resnet50 model by paper authors**\n",
        "```\n",
        "Atelectasis     0.7069\n",
        "Cardiomegaly    0.8141\n",
        "Effusion        0.7362\n",
        "Infiltration    0.6128\n",
        "Mass            0.5609\n",
        "Nodule          0.7164\n",
        "Pneumonia       0.6333\n",
        "Pneumothorax    0.7891\n",
        "```\n",
        "\n"
      ]
    },
    {
      "cell_type": "markdown",
      "metadata": {
        "id": "4gGGSt1HYava",
        "colab_type": "text"
      },
      "source": [
        "# Script to download all 45 GB of images (no longer needed)\n",
        "- **no longer needed**. Download from Kaggle if you want the dataset locally  \n",
        "- Original function was for Python 2. In Python 3 **urlretrieve** method is moved to **request** module.  \n",
        "- **Run this on your PC**, not on Colab :)"
      ]
    },
    {
      "cell_type": "code",
      "metadata": {
        "id": "Jo8lrmfyYa5V",
        "colab_type": "code",
        "colab": {}
      },
      "source": [
        "# Download the 56 zip files in Images_png in batches\n",
        "import urllib.request\n",
        "\n",
        "# URLs for the zip files\n",
        "links = [\n",
        "    'https://nihcc.box.com/shared/static/vfk49d74nhbxq3nqjg0900w5nvkorp5c.gz',\n",
        "    'https://nihcc.box.com/shared/static/i28rlmbvmfjbl8p2n3ril0pptcmcu9d1.gz',\n",
        "    'https://nihcc.box.com/shared/static/f1t00wrtdk94satdfb9olcolqx20z2jp.gz',\n",
        "\t  'https://nihcc.box.com/shared/static/0aowwzs5lhjrceb3qp67ahp0rd1l1etg.gz',\n",
        "    'https://nihcc.box.com/shared/static/v5e3goj22zr6h8tzualxfsqlqaygfbsn.gz',\n",
        "\t  'https://nihcc.box.com/shared/static/asi7ikud9jwnkrnkj99jnpfkjdes7l6l.gz',\n",
        "\t  'https://nihcc.box.com/shared/static/jn1b4mw4n6lnh74ovmcjb8y48h8xj07n.gz',\n",
        "    'https://nihcc.box.com/shared/static/tvpxmn7qyrgl0w8wfh9kqfjskv6nmm1j.gz',\n",
        "\t  'https://nihcc.box.com/shared/static/upyy3ml7qdumlgk2rfcvlb9k6gvqq2pj.gz',\n",
        "\t  'https://nihcc.box.com/shared/static/l6nilvfa9cg3s28tqv1qc1olm3gnz54p.gz',\n",
        "\t  'https://nihcc.box.com/shared/static/hhq8fkdgvcari67vfhs7ppg2w6ni4jze.gz',\n",
        "\t  'https://nihcc.box.com/shared/static/ioqwiy20ihqwyr8pf4c24eazhh281pbu.gz'\n",
        "]\n",
        "\n",
        "for idx, link in enumerate(links):\n",
        "    fn = 'images_%02d.tar.gz' % (idx+1)\n",
        "    print ('downloading', fn, '...')\n",
        "    urllib.request.urlretrieve(link, fn)  # download the zip file\n",
        "print (\"Download complete. Please check the checksums\")"
      ],
      "execution_count": 0,
      "outputs": []
    },
    {
      "cell_type": "markdown",
      "metadata": {
        "id": "pV4uodHdWJW2",
        "colab_type": "text"
      },
      "source": [
        "# !!! Sample n images per class and copy to separate folders !!!"
      ]
    },
    {
      "cell_type": "code",
      "metadata": {
        "id": "B_J1fQLK7IPt",
        "colab_type": "code",
        "colab": {}
      },
      "source": [
        "import pandas as pd\n",
        "import matplotlib.pyplot as plt\n",
        "import numpy as np\n",
        "import shutil\n",
        "import os\n",
        "from google.colab import files"
      ],
      "execution_count": 0,
      "outputs": []
    },
    {
      "cell_type": "code",
      "metadata": {
        "id": "vyzhDqFSCuTJ",
        "colab_type": "code",
        "colab": {}
      },
      "source": [
        "df = pd.read_csv(\"/content/Data_Entry_2017.csv\") "
      ],
      "execution_count": 0,
      "outputs": []
    },
    {
      "cell_type": "code",
      "metadata": {
        "id": "xKEoB9y5Cr5E",
        "colab_type": "code",
        "colab": {}
      },
      "source": [
        "df.head(20)"
      ],
      "execution_count": 0,
      "outputs": []
    },
    {
      "cell_type": "code",
      "metadata": {
        "id": "pjhv-bcQ7ruz",
        "colab_type": "code",
        "colab": {}
      },
      "source": [
        "df.shape"
      ],
      "execution_count": 0,
      "outputs": []
    },
    {
      "cell_type": "code",
      "metadata": {
        "id": "eIXmb7kJ7t6l",
        "colab_type": "code",
        "colab": {}
      },
      "source": [
        "df.describe"
      ],
      "execution_count": 0,
      "outputs": []
    },
    {
      "cell_type": "code",
      "metadata": {
        "id": "Z7oW5JJS7z1B",
        "colab_type": "code",
        "colab": {}
      },
      "source": [
        "df.dtypes"
      ],
      "execution_count": 0,
      "outputs": []
    },
    {
      "cell_type": "code",
      "metadata": {
        "id": "tWTLPuw58fZT",
        "colab_type": "code",
        "colab": {}
      },
      "source": [
        "# class distribution\n",
        "# not what we need, it considers 'Hernia|Infiltration|Nodule' as 1 class, but it is actually 3.\n",
        "# This gives us a total of 836 different class combinations :)\n",
        "\n",
        "#df['Finding Labels'].value_counts()"
      ],
      "execution_count": 0,
      "outputs": []
    },
    {
      "cell_type": "code",
      "metadata": {
        "id": "yrb_c_LxVjij",
        "colab_type": "code",
        "colab": {}
      },
      "source": [
        "# find all instances of Hernia or any other condition\n",
        "\n",
        "#df[df['Finding Labels'] == 'Hernia'].shape[0]"
      ],
      "execution_count": 0,
      "outputs": []
    },
    {
      "cell_type": "code",
      "metadata": {
        "id": "-K_JasJa-Hi6",
        "colab_type": "code",
        "colab": {}
      },
      "source": [
        "# Find class distribution for all 15 classes: \n",
        "\n",
        "#df['Finding Labels'] = df['Finding Labels'].str.replace('No Finding','No_Finding')\n",
        "#df['Finding Labels'] = df['Finding Labels'].str.replace('|',' ')\n",
        "#df['Finding Labels'].str.split(expand=True).stack().value_counts()"
      ],
      "execution_count": 0,
      "outputs": []
    },
    {
      "cell_type": "code",
      "metadata": {
        "id": "I8EZYo7gBM_e",
        "colab_type": "code",
        "colab": {}
      },
      "source": [
        "all_classes = ['Cardiomegaly', 'No_Finding', 'Hernia', 'Infiltration', 'Nodule',\n",
        "           'Emphysema', 'Effusion', 'Atelectasis', 'Pleural_Thickening',\n",
        "           'Pneumothorax', 'Mass', 'Fibrosis', 'Consolidation', 'Edema',\n",
        "           'Pneumonia']\n",
        "\n",
        "chosen_classes = ['Cardiomegaly', 'No Finding', 'Emphysema', 'Effusion', 'Atelectasis', 'Pleural_Thickening', 'Nodule','Edema']\n",
        "\n",
        "# create the 8 new folders, 1 per chosen class\n",
        "for i in range(0, len(chosen_classes)):\n",
        "  print(chosen_classes[i])\n",
        "  os.makedirs(str(chosen_classes[i]))"
      ],
      "execution_count": 0,
      "outputs": []
    },
    {
      "cell_type": "code",
      "metadata": {
        "id": "A9QtYhSimAK3",
        "colab_type": "code",
        "colab": {}
      },
      "source": [
        "# SAMPLING FUNCTION\n",
        "# Distribution: 400, 100, 100 - not needed, \n",
        "# resizing                    - not needed, done on my PC with magick tool\n",
        "\n",
        "# take only the 2 columns we need\n",
        "df1 = df[['Image Index','Finding Labels']]\n",
        "\n",
        "# sample n random images from a specific class, resize them, and copy to train/test/valid folders\n",
        "def sample_images(df1, class_name, folder, count):\n",
        "  df_test = df1[df1['Finding Labels'] == class_name]\n",
        "  df_test = df_test.sample(n = count)\n",
        "  df_test = df_test[['Image Index']]\n",
        "  image_names = df_test.values\n",
        "\n",
        "  for i in range(0, count):\n",
        "\n",
        "    #folder = \"\"\n",
        "    #if i < 2:\n",
        "    #  folder = \"train/\" + class_name + \"/\"\n",
        "    #elif i < 3:\n",
        "    #  folder = \"test/\"\n",
        "    #else:\n",
        "    #  folder = \"valid/\"\n",
        "    \n",
        "    copy_from = \"scans/256x256/\"\n",
        "    copy_to   = \"scans/256x256/\" + class_name + \"/\"\n",
        "    # copy images to the folder\n",
        "    \n",
        "    #shutil.copy(os.path.join(copy_from, image_names[i]), os.path.join(copy_to, image_names[i]))\n",
        "    print(copy_from, copy_to)\n",
        "\n",
        "    pass\n",
        "  print(\"---\")\n",
        "\n",
        "# sample 8 classes\n",
        "for j in range(0, len(classes2)):\n",
        "  print(j, classes2[j], classes2[j])\n",
        "  sample_images(df1, classes2[j], classes2[j], 20)"
      ],
      "execution_count": 0,
      "outputs": []
    },
    {
      "cell_type": "markdown",
      "metadata": {
        "id": "UOkjIjR0VgAm",
        "colab_type": "text"
      },
      "source": [
        "###Download labels/image names as csv"
      ]
    },
    {
      "cell_type": "code",
      "metadata": {
        "id": "fSjhRN6TVHqb",
        "colab_type": "code",
        "colab": {}
      },
      "source": [
        "df1.to_csv('labels.csv') \n",
        "files.download('labels.csv')"
      ],
      "execution_count": 0,
      "outputs": []
    },
    {
      "cell_type": "markdown",
      "metadata": {
        "id": "7NLhtqylPuFO",
        "colab_type": "text"
      },
      "source": [
        "# Class distribution: single class images vs multi-class images"
      ]
    },
    {
      "cell_type": "code",
      "metadata": {
        "id": "Wh1BvsoE7GlA",
        "colab_type": "code",
        "colab": {}
      },
      "source": [
        "# name, occurences as the only class, total occurences (including multi-class images)\n",
        "distribution=[\n",
        "  [\"No Finding\",        60361,60361],\n",
        "  [\"Infiltration\",      9547, 19894],\n",
        "  [\"Atelectasis\",       4215, 11559],\n",
        "  [\"Effusion\",          3955, 13317],\n",
        "  [\"Nodule\",            2705, 6331],\n",
        "  [\"Pneumothorax\",      2194, 5302],\n",
        "  [\"Mass\",              2139, 5782],\n",
        "  [\"Consolidation\",     1310, 4667],\n",
        "  [\"Pleural_Thickening\",1126, 3385],\n",
        "  [\"Cardiomegaly\",      1093, 2776],\n",
        "  [\"Emphysema\",         892,  2516],\n",
        "  [\"Fibrosis\",          727,  1686],\n",
        "  [\"Edema\",             628,  2303],\n",
        "  [\"Pneumonia\",         322,  1431],\n",
        "  [\"Hernia\",            110,  227],\n",
        "]\n",
        "\n",
        "# put data in arrays so I can use them for x, y in matplotlib\n",
        "conditions, occurence_single, occurence_total, ratio = [], [] , [], []\n",
        "for i in range(0, len(distribution)):\n",
        "  conditions.append(distribution[i][0])\n",
        "  occurence_single.append(distribution[i][1])\n",
        "  occurence_total.append(distribution[i][2])\n",
        "  ratio.append(distribution[i][2] / distribution[i][1])"
      ],
      "execution_count": 0,
      "outputs": []
    },
    {
      "cell_type": "code",
      "metadata": {
        "id": "DM5RVR_7DT28",
        "colab_type": "code",
        "outputId": "93f4dc7d-e323-4310-ec93-39a0c9ae7fc0",
        "colab": {
          "base_uri": "https://localhost:8080/",
          "height": 365
        }
      },
      "source": [
        "x_labels = np.arange(len(conditions))\n",
        "\n",
        "indices = range(len(conditions))\n",
        "width = np.min(np.diff(indices))/5.\n",
        "\n",
        "plt.bar(indices-width/2., occurence_single, width, align='center', alpha=0.5)\n",
        "plt.bar(indices+width/2., occurence_total,  width, align='center', alpha=0.5)\n",
        "#plt.bar(indices+width/0.65, occurence_total, width, align='center', alpha=0.5)\n",
        "\n",
        "plt.xticks(x_labels, conditions, rotation='vertical')\n",
        "plt.ylabel('Occurence')\n",
        "plt.title('Class distribution: single class images vs multi-class images')\n",
        "\n",
        "plt.show()"
      ],
      "execution_count": 0,
      "outputs": [
        {
          "output_type": "display_data",
          "data": {
            "image/png": "[encoded data removed]",
            "text/plain": [
              "<Figure size 432x288 with 1 Axes>"
            ]
          },
          "metadata": {
            "tags": []
          }
        }
      ]
    },
    {
      "cell_type": "markdown",
      "metadata": {
        "id": "nMfCQvlXPyRr",
        "colab_type": "text"
      },
      "source": [
        "# Condition occurence\n",
        "How likely the condition is to appear as the only condition, or together with others  \n",
        "1 means it only appears by itself, as the only class  \n",
        "Bigger number means the class is more likely to appear in multi-class images."
      ]
    },
    {
      "cell_type": "code",
      "metadata": {
        "id": "zwTvUBgULocq",
        "colab_type": "code",
        "outputId": "242d7724-34ef-4bbb-f0ab-55166c77f9cc",
        "colab": {
          "base_uri": "https://localhost:8080/",
          "height": 365
        }
      },
      "source": [
        "x_labels = np.arange(len(conditions))\n",
        "plt.bar(conditions, ratio, align='center', alpha=0.5)\n",
        "plt.xticks(x_labels, conditions, rotation='vertical')\n",
        "plt.ylabel('Occurence')\n",
        "plt.title('Condition occurence')\n",
        "plt.show()"
      ],
      "execution_count": 0,
      "outputs": [
        {
          "output_type": "display_data",
          "data": {
            "image/png": "[encoded data removed]",
            "text/plain": [
              "<Figure size 432x288 with 1 Axes>"
            ]
          },
          "metadata": {
            "tags": []
          }
        }
      ]
    },
    {
      "cell_type": "code",
      "metadata": {
        "id": "_AuBsjudal0w",
        "colab_type": "code",
        "colab": {}
      },
      "source": [
        "df['Age'].sort_values(ascending=False).head(20)"
      ],
      "execution_count": 0,
      "outputs": []
    },
    {
      "cell_type": "markdown",
      "metadata": {
        "id": "Ps6A29lQCQ-t",
        "colab_type": "text"
      },
      "source": [
        ""
      ]
    },
    {
      "cell_type": "code",
      "metadata": {
        "id": "qfG7psPWCRGA",
        "colab_type": "code",
        "colab": {}
      },
      "source": [
        "import PIL\n",
        "from PIL import Image\n",
        "import numpy as np"
      ],
      "execution_count": 0,
      "outputs": []
    },
    {
      "cell_type": "code",
      "metadata": {
        "id": "SVAYHLopCZEZ",
        "colab_type": "code",
        "outputId": "1b7a6b8b-88a3-48eb-9c41-781dc23a67d8",
        "colab": {
          "base_uri": "https://localhost:8080/",
          "height": 34
        }
      },
      "source": [
        "image = Image.open('/content/00005717_000.png')\n",
        "\n",
        "np.array(image).shape\n",
        "\n",
        "#type(image)\n",
        "\n"
      ],
      "execution_count": 0,
      "outputs": [
        {
          "output_type": "execute_result",
          "data": {
            "text/plain": [
              "(1024, 1024, 4)"
            ]
          },
          "metadata": {
            "tags": []
          },
          "execution_count": 12
        }
      ]
    }
  ]
}
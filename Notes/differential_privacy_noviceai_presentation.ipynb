{
  "nbformat": 4,
  "nbformat_minor": 0,
  "metadata": {
    "colab": {
      "name": "differential-privacy-noviceai-presentation.ipynb",
      "version": "0.3.2",
      "provenance": [],
      "collapsed_sections": [],
      "toc_visible": true,
      "include_colab_link": true
    },
    "kernelspec": {
      "name": "python3",
      "display_name": "Python 3"
    }
  },
  "cells": [
    {
      "cell_type": "markdown",
      "metadata": {
        "id": "view-in-github",
        "colab_type": "text"
      },
      "source": [
        "<a href=\"https://colab.research.google.com/github/ingus-t/SPAI/blob/master/Notes/differential_privacy_noviceai_presentation.ipynb\" target=\"_parent\"><img src=\"https://colab.research.google.com/assets/colab-badge.svg\" alt=\"Open In Colab\"/></a>"
      ]
    },
    {
      "cell_type": "code",
      "metadata": {
        "id": "huAjPoczBrwu",
        "colab_type": "code",
        "colab": {
          "base_uri": "https://localhost:8080/",
          "height": 153
        },
        "outputId": "5d9f4ae3-51e4-4ec3-e75f-a5d76ea7926d"
      },
      "source": [
        "!pip install faker"
      ],
      "execution_count": 3,
      "outputs": [
        {
          "output_type": "stream",
          "text": [
            "Collecting faker\n",
            "\u001b[?25l  Downloading https://files.pythonhosted.org/packages/67/ed/94a23058daff92545869848ccbcaeb826bc79c6ba4459c7df31ebe1f196d/Faker-2.0.1-py2.py3-none-any.whl (878kB)\n",
            "\u001b[K     |████████████████████████████████| 880kB 4.7MB/s \n",
            "\u001b[?25hRequirement already satisfied: python-dateutil>=2.4 in /usr/local/lib/python3.6/dist-packages (from faker) (2.5.3)\n",
            "Requirement already satisfied: six>=1.10 in /usr/local/lib/python3.6/dist-packages (from faker) (1.12.0)\n",
            "Requirement already satisfied: text-unidecode==1.2 in /usr/local/lib/python3.6/dist-packages (from faker) (1.2)\n",
            "Installing collected packages: faker\n",
            "Successfully installed faker-2.0.1\n"
          ],
          "name": "stdout"
        }
      ]
    },
    {
      "cell_type": "code",
      "metadata": {
        "id": "tRUxJFMPMUov",
        "colab_type": "code",
        "colab": {}
      },
      "source": [
        "from faker import Faker\n",
        "import random\n",
        "from random import sample\n",
        "import re\n",
        "import copy"
      ],
      "execution_count": 0,
      "outputs": []
    },
    {
      "cell_type": "code",
      "metadata": {
        "id": "7B5WUG8nkD-7",
        "colab_type": "code",
        "colab": {}
      },
      "source": [
        "N  = 1000              # number of people in first dataset\n",
        "N2 = 10000             # number of people in second dataset"
      ],
      "execution_count": 0,
      "outputs": []
    },
    {
      "cell_type": "markdown",
      "metadata": {
        "id": "oH0fokpUaZCL",
        "colab_type": "text"
      },
      "source": [
        "### Introduction\n",
        "**!! All information is generated and fake. !!**\n",
        "\n",
        "**Dataset 1** includes public information about people from one small town Doorville somewhere in USA. Information comes from Facebook profiles/LinkedIn, online forums, phone books, etc.\n",
        "Let's say it's a small town (1000 people) with relatively many people of Hawaiian origin (4%).\n",
        "\n",
        "**Dataset 2** is Hospital database about patients and health conditions. It contains information about patients from Doorville, and also other towns in the area, where are no Hawaiian people. A total of 10000 people."
      ]
    },
    {
      "cell_type": "markdown",
      "metadata": {
        "id": "9j54gWi1O77G",
        "colab_type": "text"
      },
      "source": [
        "### Helper functions\n"
      ]
    },
    {
      "cell_type": "code",
      "metadata": {
        "id": "q0KcbjdsO-WJ",
        "colab_type": "code",
        "colab": {}
      },
      "source": [
        "def show_user_info(i, dataset):\n",
        "  print('ID:',i)\n",
        "  print('Name:',         dataset[i][0][0])\n",
        "  print('Race:',         dataset[i][0][1])\n",
        "  print('Address:',      dataset[i][0][2])\n",
        "  print('Email:',        dataset[i][0][3])\n",
        "  print('Company:',      dataset[i][0][4])\n",
        "  print('Phone number:', dataset[i][0][5])\n",
        "  print('Date of birth:',dataset[i][0][6])\n",
        "  print('Health:',       dataset[i][0][7],'\\n')\n",
        "\n",
        "def get_race_town(rnd):\n",
        "  if rnd > 95:\n",
        "    race = 'Hawaiian and Pacific islander'\n",
        "  elif rnd > 70:\n",
        "    race = 'African American'\n",
        "  else:\n",
        "    race = 'White'\n",
        "  return race\n",
        "\n",
        "def get_race_city(rnd):\n",
        "  if rnd > 98:\n",
        "    race = 'American Indian'\n",
        "  elif rnd > 50:\n",
        "    race = 'African American'\n",
        "  else:\n",
        "    race = 'White'\n",
        "  return race\n",
        "\n",
        "def get_health_report(rnd):\n",
        "  if rnd > 90:\n",
        "    health = 'Sensitive health condition'\n",
        "  else:\n",
        "    health = ''\n",
        "  return health"
      ],
      "execution_count": 0,
      "outputs": []
    },
    {
      "cell_type": "markdown",
      "metadata": {
        "id": "AOhy0nwYNp5Y",
        "colab_type": "text"
      },
      "source": [
        "### Dataset #1\n",
        "Public information.  \n",
        "For example, it could be taken from Facebook profiles."
      ]
    },
    {
      "cell_type": "code",
      "metadata": {
        "id": "bJu3_8WLB3xr",
        "colab_type": "code",
        "colab": {}
      },
      "source": [
        "fake = Faker()\n",
        "fake.seed(1475)     # seed so we can reproduce the results\n",
        "\n",
        "dataset1 = [[] for x in range(N)]\n",
        "for i in range(N):\n",
        "  name = fake.name()\n",
        "  rnd = random.randint(0,100)\n",
        "  rnd2 = random.randint(0,100)\n",
        "  dataset1[i].append([name,\n",
        "                   get_race_town(rnd),\n",
        "                   fake.address().replace(\"\\n\", \", \"),\n",
        "                   name.replace(\" \", \".\") + '@email.com',\n",
        "                   fake.company(),\n",
        "                   re.sub(r'(?:x).*', '', fake.phone_number()),  # we replace extra section for phone numbers, not important\n",
        "                   str(fake.date_of_birth(None, 18, 65)),\n",
        "                   get_health_report(rnd2)\n",
        "                   ])"
      ],
      "execution_count": 0,
      "outputs": []
    },
    {
      "cell_type": "code",
      "metadata": {
        "id": "ySz6eCQBHdfh",
        "colab_type": "code",
        "colab": {
          "base_uri": "https://localhost:8080/",
          "height": 357
        },
        "outputId": "5036adf7-3aea-42ea-b50c-c6379156177c"
      },
      "source": [
        "# show information about some random people\n",
        "x = random.randint(0,N)\n",
        "show_user_info(3, dataset1)\n",
        "show_user_info(x, dataset1)"
      ],
      "execution_count": 8,
      "outputs": [
        {
          "output_type": "stream",
          "text": [
            "ID: 3\n",
            "Name: Kelsey Garcia\n",
            "Race: African American\n",
            "Address: 963 Aguilar Common, North Heathershire, WV 60225\n",
            "Email: Kelsey.Garcia@email.com\n",
            "Company: Dillon-Larsen\n",
            "Phone number: +1-771-310-0928\n",
            "Date of birth: 1969-01-24\n",
            "Health:  \n",
            "\n",
            "ID: 508\n",
            "Name: Steven Vargas\n",
            "Race: White\n",
            "Address: 6922 Ramos Junction Suite 629, West Robert, CT 87381\n",
            "Email: Steven.Vargas@email.com\n",
            "Company: Owens, Smith and Hernandez\n",
            "Phone number: 362-790-5275\n",
            "Date of birth: 1969-12-12\n",
            "Health: Sensitive health condition \n",
            "\n"
          ],
          "name": "stdout"
        }
      ]
    },
    {
      "cell_type": "markdown",
      "metadata": {
        "id": "-3PyaPQRNtsL",
        "colab_type": "text"
      },
      "source": [
        "### Dataset #2\n",
        "Hospital information, names are hidden, data is expected to be safe\n"
      ]
    },
    {
      "cell_type": "code",
      "metadata": {
        "id": "zLxzbuCsNss6",
        "colab_type": "code",
        "colab": {}
      },
      "source": [
        "# add people from first dataset\n",
        "dataset_temp = sample(dataset1, int(N/2))\n",
        "dataset2 = copy.deepcopy(dataset_temp)\n",
        "\n",
        "# add N2 more people\n",
        "for i in range(int(N/2), N2):\n",
        "  dataset2.append([])\n",
        "  name = fake.name()\n",
        "  rnd = random.randint(0,100)\n",
        "  rnd2 = random.randint(0,100)\n",
        "  dataset2[i].append([name,\n",
        "                   get_race_city(rnd),\n",
        "                   fake.address().replace(\"\\n\", \", \"),\n",
        "                   name.replace(\" \", \".\") + '@email.com',\n",
        "                   fake.company(),\n",
        "                   re.sub(r'(?:x).*', '', fake.phone_number()), # we replace extra section for phone numbers, not important\n",
        "                   str(fake.date_of_birth(None, 18, 65)),\n",
        "                   get_health_report(rnd2)\n",
        "                   ])\n",
        "\n",
        "# remove most sensitive information, leave only year for the \n",
        "for i in range(0, N2):\n",
        "  dataset2[i][0][0] = ''\n",
        "  dataset2[i][0][2] = ''\n",
        "  dataset2[i][0][3] = ''\n",
        "  dataset2[i][0][4] = ''\n",
        "  dataset2[i][0][5] = ''\n",
        "  dataset2[i][0][6] = dataset2[i][0][6][0:4]"
      ],
      "execution_count": 0,
      "outputs": []
    },
    {
      "cell_type": "code",
      "metadata": {
        "id": "k7gOEPR8kXuH",
        "colab_type": "code",
        "colab": {}
      },
      "source": [
        "dataset1"
      ],
      "execution_count": 0,
      "outputs": []
    },
    {
      "cell_type": "code",
      "metadata": {
        "id": "1yuhK2-kkX0J",
        "colab_type": "code",
        "colab": {}
      },
      "source": [
        "dataset2"
      ],
      "execution_count": 0,
      "outputs": []
    },
    {
      "cell_type": "code",
      "metadata": {
        "id": "rHz5XwWGDB2q",
        "colab_type": "code",
        "colab": {
          "base_uri": "https://localhost:8080/",
          "height": 374
        },
        "outputId": "19096aec-8fd6-4f23-e194-1ac510abd882"
      },
      "source": [
        "# count Hawaiian people, and Hawaiian people with health issues\n",
        "h_people = 0\n",
        "h_people_with_health_issues = 0 \n",
        "\n",
        "# show Hawaiian people with sensitive health issues\n",
        "for i in range(0, N2):\n",
        "  if dataset2[i][0][1] == 'Hawaiian and Pacific islander':\n",
        "    h_people += 1\n",
        "  if dataset2[i][0][1] == 'Hawaiian and Pacific islander' and dataset2[i][0][7] == 'Sensitive health condition':\n",
        "    h_people_with_health_issues += 1\n",
        "    show_user_info(i, dataset2)\n",
        "\n",
        "h_people, h_people_with_health_issues"
      ],
      "execution_count": 10,
      "outputs": [
        {
          "output_type": "stream",
          "text": [
            "ID: 339\n",
            "Name: \n",
            "Race: Hawaiian and Pacific islander\n",
            "Address: \n",
            "Email: \n",
            "Company: \n",
            "Phone number: \n",
            "Date of birth: 1966\n",
            "Health: Sensitive health condition \n",
            "\n",
            "ID: 348\n",
            "Name: \n",
            "Race: Hawaiian and Pacific islander\n",
            "Address: \n",
            "Email: \n",
            "Company: \n",
            "Phone number: \n",
            "Date of birth: 1963\n",
            "Health: Sensitive health condition \n",
            "\n"
          ],
          "name": "stdout"
        },
        {
          "output_type": "execute_result",
          "data": {
            "text/plain": [
              "(22, 2)"
            ]
          },
          "metadata": {
            "tags": []
          },
          "execution_count": 10
        }
      ]
    },
    {
      "cell_type": "code",
      "metadata": {
        "id": "t65kGoXjv-W6",
        "colab_type": "code",
        "colab": {}
      },
      "source": [
        "# show information about some users\n",
        "x = random.randint(0, 100)\n",
        "#show_user_info(3, dataset2)\n",
        "#show_user_info(x, dataset2)"
      ],
      "execution_count": 0,
      "outputs": []
    },
    {
      "cell_type": "markdown",
      "metadata": {
        "id": "Qn1hQkfd-2Us",
        "colab_type": "text"
      },
      "source": [
        "### Possible data leak\n",
        "Imagine that the hospital releases statistics about health, by age group and race.\n",
        "\n",
        "There are so few **Hawaiian** people in the dataset, that singling this group out by age group, gender, or health condition has the risk of exposing who has specific health issues.\n",
        "\n",
        "In the example above, we have very few Hawaiian people with sensitive health issues.\n",
        "\n",
        "In this example we have a relatively large dataset (10 000) but privacy of small groups of people can easily be violated.\n",
        "\n",
        "Given the extremely small size of this group, singling it out in reports can expose more than we expect."
      ]
    }
  ]
}
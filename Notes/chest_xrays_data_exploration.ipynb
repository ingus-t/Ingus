{
  "nbformat": 4,
  "nbformat_minor": 0,
  "metadata": {
    "colab": {
      "name": "chest-xrays-data-exploration",
      "version": "0.3.2",
      "provenance": [],
      "collapsed_sections": [
        "4gGGSt1HYava"
      ],
      "toc_visible": true,
      "include_colab_link": true
    },
    "kernelspec": {
      "name": "python3",
      "display_name": "Python 3"
    }
  },
  "cells": [
    {
      "cell_type": "markdown",
      "metadata": {
        "id": "view-in-github",
        "colab_type": "text"
      },
      "source": [
        "<a href=\"https://colab.research.google.com/github/ingus-t/SPAI/blob/master/Notes/chest_xrays_data_exploration.ipynb\" target=\"_parent\"><img src=\"https://colab.research.google.com/assets/colab-badge.svg\" alt=\"Open In Colab\"/></a>"
      ]
    },
    {
      "cell_type": "markdown",
      "metadata": {
        "id": "oHpLyaxkWGLx",
        "colab_type": "text"
      },
      "source": [
        "# Introduction"
      ]
    },
    {
      "cell_type": "markdown",
      "metadata": {
        "id": "fi292XM_ObWl",
        "colab_type": "text"
      },
      "source": [
        "**Dataset on Kaggle** https://www.kaggle.com/nih-chest-xrays/data  \n",
        "**Research document for this dataset:** *ChestX-ray8: Hospital-scale Chest X-ray Database and Benchmarks on Weakly-Supervised Classification and Localization of Common Thorax Diseases* https://arxiv.org/abs/1705.02315"
      ]
    },
    {
      "cell_type": "markdown",
      "metadata": {
        "id": "Dx-pDJ1xCcXc",
        "colab_type": "text"
      },
      "source": [
        "**Class count for images with only 1 class:**\n",
        "```\n",
        "No Finding              60361\n",
        "Infiltration            9547\n",
        "Atelectasis             4215\n",
        "Effusion                3955\n",
        "Nodule                  2705\n",
        "Pneumothorax            2194\n",
        "Mass                    2139\n",
        "Consolidation           1310\n",
        "Pleural_Thickening      1126\n",
        "Cardiomegaly            1093\n",
        "Emphysema                892\n",
        "Fibrosis                 727\n",
        "Edema                    628\n",
        "Pneumonia                322\n",
        "Hernia                   110\n",
        "```\n",
        "\n",
        "**Total count for all classes**\n",
        "```\n",
        "No_Finding            60361\n",
        "Infiltration          19894\n",
        "Effusion              13317\n",
        "Atelectasis           11559\n",
        "Nodule                 6331\n",
        "Mass                   5782\n",
        "Pneumothorax           5302\n",
        "Consolidation          4667\n",
        "Pleural_Thickening     3385\n",
        "Cardiomegaly           2776\n",
        "Emphysema              2516\n",
        "Edema                  2303\n",
        "Fibrosis               1686\n",
        "Pneumonia              1431\n",
        "Hernia                  227\n",
        "```"
      ]
    },
    {
      "cell_type": "markdown",
      "metadata": {
        "id": "HiBk0jmGgMSl",
        "colab_type": "text"
      },
      "source": [
        "**Accuracy achieved by transfer learning, using Resnet50 model by paper authors**\n",
        "```\n",
        "Atelectasis     0.7069\n",
        "Cardiomegaly    0.8141\n",
        "Effusion        0.7362\n",
        "Infiltration    0.6128\n",
        "Mass            0.5609\n",
        "Nodule          0.7164\n",
        "Pneumonia       0.6333\n",
        "Pneumothorax    0.7891\n",
        "```\n",
        "\n"
      ]
    },
    {
      "cell_type": "code",
      "metadata": {
        "id": "w_5LIC4AU3nU",
        "colab_type": "code",
        "colab": {
          "base_uri": "https://localhost:8080/",
          "height": 34
        },
        "outputId": "36935257-ad5b-4510-8b96-5e5b8aa82a15"
      },
      "source": [
        "from google.colab import drive\n",
        "drive.mount('/content/drive')"
      ],
      "execution_count": 4,
      "outputs": [
        {
          "output_type": "stream",
          "text": [
            "Drive already mounted at /content/drive; to attempt to forcibly remount, call drive.mount(\"/content/drive\", force_remount=True).\n"
          ],
          "name": "stdout"
        }
      ]
    },
    {
      "cell_type": "markdown",
      "metadata": {
        "id": "pV4uodHdWJW2",
        "colab_type": "text"
      },
      "source": [
        "# Data exploration"
      ]
    },
    {
      "cell_type": "code",
      "metadata": {
        "id": "B_J1fQLK7IPt",
        "colab_type": "code",
        "colab": {}
      },
      "source": [
        "import pandas as pd\n",
        "import matplotlib.pyplot as plt\n",
        "import numpy as np\n",
        "import shutil\n",
        "import os\n",
        "from google.colab import files\n",
        "from collections import Counter\n",
        "import collections"
      ],
      "execution_count": 0,
      "outputs": []
    },
    {
      "cell_type": "code",
      "metadata": {
        "id": "vyzhDqFSCuTJ",
        "colab_type": "code",
        "colab": {}
      },
      "source": [
        "#df = pd.read_csv(\"/content/Data_Entry_2017.csv\")\n",
        "df = pd.read_csv(\"Data_Entry_2017.csv\") "
      ],
      "execution_count": 0,
      "outputs": []
    },
    {
      "cell_type": "code",
      "metadata": {
        "id": "xKEoB9y5Cr5E",
        "colab_type": "code",
        "outputId": "a2aa7f8f-2c61-479b-e639-91375fec9f8d",
        "colab": {
          "base_uri": "https://localhost:8080/",
          "height": 221
        }
      },
      "source": [
        "df.head(5)"
      ],
      "execution_count": 28,
      "outputs": [
        {
          "output_type": "execute_result",
          "data": {
            "text/html": [
              "<div>\n",
              "<style scoped>\n",
              "    .dataframe tbody tr th:only-of-type {\n",
              "        vertical-align: middle;\n",
              "    }\n",
              "\n",
              "    .dataframe tbody tr th {\n",
              "        vertical-align: top;\n",
              "    }\n",
              "\n",
              "    .dataframe thead th {\n",
              "        text-align: right;\n",
              "    }\n",
              "</style>\n",
              "<table border=\"1\" class=\"dataframe\">\n",
              "  <thead>\n",
              "    <tr style=\"text-align: right;\">\n",
              "      <th></th>\n",
              "      <th>Image Index</th>\n",
              "      <th>Finding Labels</th>\n",
              "      <th>Follow-up #</th>\n",
              "      <th>Patient ID</th>\n",
              "      <th>Patient Age</th>\n",
              "      <th>Patient Gender</th>\n",
              "      <th>View Position</th>\n",
              "      <th>OriginalImage[Width</th>\n",
              "      <th>Height]</th>\n",
              "      <th>OriginalImagePixelSpacing[x</th>\n",
              "      <th>y]</th>\n",
              "      <th>Unnamed: 11</th>\n",
              "    </tr>\n",
              "  </thead>\n",
              "  <tbody>\n",
              "    <tr>\n",
              "      <th>0</th>\n",
              "      <td>00000001_000.png</td>\n",
              "      <td>Cardiomegaly</td>\n",
              "      <td>0</td>\n",
              "      <td>1</td>\n",
              "      <td>58</td>\n",
              "      <td>M</td>\n",
              "      <td>PA</td>\n",
              "      <td>2682</td>\n",
              "      <td>2749</td>\n",
              "      <td>0.143</td>\n",
              "      <td>0.143</td>\n",
              "      <td>NaN</td>\n",
              "    </tr>\n",
              "    <tr>\n",
              "      <th>1</th>\n",
              "      <td>00000001_001.png</td>\n",
              "      <td>Cardiomegaly|Emphysema</td>\n",
              "      <td>1</td>\n",
              "      <td>1</td>\n",
              "      <td>58</td>\n",
              "      <td>M</td>\n",
              "      <td>PA</td>\n",
              "      <td>2894</td>\n",
              "      <td>2729</td>\n",
              "      <td>0.143</td>\n",
              "      <td>0.143</td>\n",
              "      <td>NaN</td>\n",
              "    </tr>\n",
              "    <tr>\n",
              "      <th>2</th>\n",
              "      <td>00000001_002.png</td>\n",
              "      <td>Cardiomegaly|Effusion</td>\n",
              "      <td>2</td>\n",
              "      <td>1</td>\n",
              "      <td>58</td>\n",
              "      <td>M</td>\n",
              "      <td>PA</td>\n",
              "      <td>2500</td>\n",
              "      <td>2048</td>\n",
              "      <td>0.168</td>\n",
              "      <td>0.168</td>\n",
              "      <td>NaN</td>\n",
              "    </tr>\n",
              "    <tr>\n",
              "      <th>3</th>\n",
              "      <td>00000002_000.png</td>\n",
              "      <td>No Finding</td>\n",
              "      <td>0</td>\n",
              "      <td>2</td>\n",
              "      <td>81</td>\n",
              "      <td>M</td>\n",
              "      <td>PA</td>\n",
              "      <td>2500</td>\n",
              "      <td>2048</td>\n",
              "      <td>0.171</td>\n",
              "      <td>0.171</td>\n",
              "      <td>NaN</td>\n",
              "    </tr>\n",
              "    <tr>\n",
              "      <th>4</th>\n",
              "      <td>00000003_000.png</td>\n",
              "      <td>Hernia</td>\n",
              "      <td>0</td>\n",
              "      <td>3</td>\n",
              "      <td>81</td>\n",
              "      <td>F</td>\n",
              "      <td>PA</td>\n",
              "      <td>2582</td>\n",
              "      <td>2991</td>\n",
              "      <td>0.143</td>\n",
              "      <td>0.143</td>\n",
              "      <td>NaN</td>\n",
              "    </tr>\n",
              "  </tbody>\n",
              "</table>\n",
              "</div>"
            ],
            "text/plain": [
              "        Image Index          Finding Labels  ...     y]  Unnamed: 11\n",
              "0  00000001_000.png            Cardiomegaly  ...  0.143          NaN\n",
              "1  00000001_001.png  Cardiomegaly|Emphysema  ...  0.143          NaN\n",
              "2  00000001_002.png   Cardiomegaly|Effusion  ...  0.168          NaN\n",
              "3  00000002_000.png              No Finding  ...  0.171          NaN\n",
              "4  00000003_000.png                  Hernia  ...  0.143          NaN\n",
              "\n",
              "[5 rows x 12 columns]"
            ]
          },
          "metadata": {
            "tags": []
          },
          "execution_count": 28
        }
      ]
    },
    {
      "cell_type": "code",
      "metadata": {
        "id": "pjhv-bcQ7ruz",
        "colab_type": "code",
        "outputId": "765f10da-f1f1-4e83-e5b7-443be8d08379",
        "colab": {
          "base_uri": "https://localhost:8080/",
          "height": 34
        }
      },
      "source": [
        "df.shape"
      ],
      "execution_count": 13,
      "outputs": [
        {
          "output_type": "execute_result",
          "data": {
            "text/plain": [
              "(112120, 12)"
            ]
          },
          "metadata": {
            "tags": []
          },
          "execution_count": 13
        }
      ]
    },
    {
      "cell_type": "code",
      "metadata": {
        "id": "Z7oW5JJS7z1B",
        "colab_type": "code",
        "colab": {
          "base_uri": "https://localhost:8080/",
          "height": 238
        },
        "outputId": "5cd611e0-5fc0-485e-f7cb-58fa25621067"
      },
      "source": [
        "df.dtypes"
      ],
      "execution_count": 14,
      "outputs": [
        {
          "output_type": "execute_result",
          "data": {
            "text/plain": [
              "Image Index                     object\n",
              "Finding Labels                  object\n",
              "Follow-up #                      int64\n",
              "Patient ID                       int64\n",
              "Patient Age                      int64\n",
              "Patient Gender                  object\n",
              "View Position                   object\n",
              "OriginalImage[Width              int64\n",
              "Height]                          int64\n",
              "OriginalImagePixelSpacing[x    float64\n",
              "y]                             float64\n",
              "Unnamed: 11                    float64\n",
              "dtype: object"
            ]
          },
          "metadata": {
            "tags": []
          },
          "execution_count": 14
        }
      ]
    },
    {
      "cell_type": "code",
      "metadata": {
        "id": "cyBP_YelJBQv",
        "colab_type": "code",
        "colab": {
          "base_uri": "https://localhost:8080/",
          "height": 297
        },
        "outputId": "482c74f7-8d0b-4984-c440-59884d7cc379"
      },
      "source": [
        "df.describe()"
      ],
      "execution_count": 88,
      "outputs": [
        {
          "output_type": "execute_result",
          "data": {
            "text/html": [
              "<div>\n",
              "<style scoped>\n",
              "    .dataframe tbody tr th:only-of-type {\n",
              "        vertical-align: middle;\n",
              "    }\n",
              "\n",
              "    .dataframe tbody tr th {\n",
              "        vertical-align: top;\n",
              "    }\n",
              "\n",
              "    .dataframe thead th {\n",
              "        text-align: right;\n",
              "    }\n",
              "</style>\n",
              "<table border=\"1\" class=\"dataframe\">\n",
              "  <thead>\n",
              "    <tr style=\"text-align: right;\">\n",
              "      <th></th>\n",
              "      <th>Follow-up #</th>\n",
              "      <th>Patient ID</th>\n",
              "      <th>Patient Age</th>\n",
              "      <th>OriginalImage[Width</th>\n",
              "      <th>Height]</th>\n",
              "      <th>OriginalImagePixelSpacing[x</th>\n",
              "      <th>y]</th>\n",
              "      <th>Unnamed: 11</th>\n",
              "    </tr>\n",
              "  </thead>\n",
              "  <tbody>\n",
              "    <tr>\n",
              "      <th>count</th>\n",
              "      <td>112120.000000</td>\n",
              "      <td>112120.000000</td>\n",
              "      <td>112120.000000</td>\n",
              "      <td>112120.000000</td>\n",
              "      <td>112120.000000</td>\n",
              "      <td>112120.000000</td>\n",
              "      <td>112120.000000</td>\n",
              "      <td>0.0</td>\n",
              "    </tr>\n",
              "    <tr>\n",
              "      <th>mean</th>\n",
              "      <td>8.573751</td>\n",
              "      <td>14346.381743</td>\n",
              "      <td>46.872578</td>\n",
              "      <td>2646.078844</td>\n",
              "      <td>2486.438842</td>\n",
              "      <td>0.155649</td>\n",
              "      <td>0.155649</td>\n",
              "      <td>NaN</td>\n",
              "    </tr>\n",
              "    <tr>\n",
              "      <th>std</th>\n",
              "      <td>15.406320</td>\n",
              "      <td>8403.876972</td>\n",
              "      <td>16.596968</td>\n",
              "      <td>341.246429</td>\n",
              "      <td>401.268227</td>\n",
              "      <td>0.016174</td>\n",
              "      <td>0.016174</td>\n",
              "      <td>NaN</td>\n",
              "    </tr>\n",
              "    <tr>\n",
              "      <th>min</th>\n",
              "      <td>0.000000</td>\n",
              "      <td>1.000000</td>\n",
              "      <td>1.000000</td>\n",
              "      <td>1143.000000</td>\n",
              "      <td>966.000000</td>\n",
              "      <td>0.115000</td>\n",
              "      <td>0.115000</td>\n",
              "      <td>NaN</td>\n",
              "    </tr>\n",
              "    <tr>\n",
              "      <th>25%</th>\n",
              "      <td>0.000000</td>\n",
              "      <td>7310.750000</td>\n",
              "      <td>35.000000</td>\n",
              "      <td>2500.000000</td>\n",
              "      <td>2048.000000</td>\n",
              "      <td>0.143000</td>\n",
              "      <td>0.143000</td>\n",
              "      <td>NaN</td>\n",
              "    </tr>\n",
              "    <tr>\n",
              "      <th>50%</th>\n",
              "      <td>3.000000</td>\n",
              "      <td>13993.000000</td>\n",
              "      <td>49.000000</td>\n",
              "      <td>2518.000000</td>\n",
              "      <td>2544.000000</td>\n",
              "      <td>0.143000</td>\n",
              "      <td>0.143000</td>\n",
              "      <td>NaN</td>\n",
              "    </tr>\n",
              "    <tr>\n",
              "      <th>75%</th>\n",
              "      <td>10.000000</td>\n",
              "      <td>20673.000000</td>\n",
              "      <td>59.000000</td>\n",
              "      <td>2992.000000</td>\n",
              "      <td>2991.000000</td>\n",
              "      <td>0.168000</td>\n",
              "      <td>0.168000</td>\n",
              "      <td>NaN</td>\n",
              "    </tr>\n",
              "    <tr>\n",
              "      <th>max</th>\n",
              "      <td>183.000000</td>\n",
              "      <td>30805.000000</td>\n",
              "      <td>95.000000</td>\n",
              "      <td>3827.000000</td>\n",
              "      <td>4715.000000</td>\n",
              "      <td>0.198800</td>\n",
              "      <td>0.198800</td>\n",
              "      <td>NaN</td>\n",
              "    </tr>\n",
              "  </tbody>\n",
              "</table>\n",
              "</div>"
            ],
            "text/plain": [
              "         Follow-up #     Patient ID  ...             y]  Unnamed: 11\n",
              "count  112120.000000  112120.000000  ...  112120.000000          0.0\n",
              "mean        8.573751   14346.381743  ...       0.155649          NaN\n",
              "std        15.406320    8403.876972  ...       0.016174          NaN\n",
              "min         0.000000       1.000000  ...       0.115000          NaN\n",
              "25%         0.000000    7310.750000  ...       0.143000          NaN\n",
              "50%         3.000000   13993.000000  ...       0.143000          NaN\n",
              "75%        10.000000   20673.000000  ...       0.168000          NaN\n",
              "max       183.000000   30805.000000  ...       0.198800          NaN\n",
              "\n",
              "[8 rows x 8 columns]"
            ]
          },
          "metadata": {
            "tags": []
          },
          "execution_count": 88
        }
      ]
    },
    {
      "cell_type": "code",
      "metadata": {
        "id": "yrb_c_LxVjij",
        "colab_type": "code",
        "outputId": "9d029304-537f-40dc-b9c2-fa5eb6f8f60b",
        "colab": {
          "base_uri": "https://localhost:8080/",
          "height": 34
        }
      },
      "source": [
        "# find count of Hernia or any other condition\n",
        "df[df['Finding Labels'] == 'Hernia'].shape[0]"
      ],
      "execution_count": 89,
      "outputs": [
        {
          "output_type": "execute_result",
          "data": {
            "text/plain": [
              "110"
            ]
          },
          "metadata": {
            "tags": []
          },
          "execution_count": 89
        }
      ]
    },
    {
      "cell_type": "markdown",
      "metadata": {
        "id": "K2uErvHVS8q1",
        "colab_type": "text"
      },
      "source": [
        "### Find all labels"
      ]
    },
    {
      "cell_type": "code",
      "metadata": {
        "id": "QZRlC6GTS-wE",
        "colab_type": "code",
        "colab": {}
      },
      "source": [
        "all_classes = ['Cardiomegaly', 'No_Finding', 'Hernia', 'Infiltration', 'Nodule',\n",
        "           'Emphysema', 'Effusion', 'Atelectasis', 'Pleural_Thickening',\n",
        "           'Pneumothorax', 'Mass', 'Fibrosis', 'Consolidation', 'Edema',\n",
        "           'Pneumonia']"
      ],
      "execution_count": 0,
      "outputs": []
    },
    {
      "cell_type": "markdown",
      "metadata": {
        "id": "7NLhtqylPuFO",
        "colab_type": "text"
      },
      "source": [
        "### Class distribution: single class images vs multi-class images"
      ]
    },
    {
      "cell_type": "code",
      "metadata": {
        "id": "Wh1BvsoE7GlA",
        "colab_type": "code",
        "colab": {}
      },
      "source": [
        "# name, occurences as the only class, total occurences (including multi-class images)\n",
        "distribution=[\n",
        "  [\"No Finding\",        60361,60361],\n",
        "  [\"Infiltration\",      9547, 19894],\n",
        "  [\"Atelectasis\",       4215, 11559],\n",
        "  [\"Effusion\",          3955, 13317],\n",
        "  [\"Nodule\",            2705, 6331],\n",
        "  [\"Pneumothorax\",      2194, 5302],\n",
        "  [\"Mass\",              2139, 5782],\n",
        "  [\"Consolidation\",     1310, 4667],\n",
        "  [\"Pleural_Thickening\",1126, 3385],\n",
        "  [\"Cardiomegaly\",      1093, 2776],\n",
        "  [\"Emphysema\",         892,  2516],\n",
        "  [\"Fibrosis\",          727,  1686],\n",
        "  [\"Edema\",             628,  2303],\n",
        "  [\"Pneumonia\",         322,  1431],\n",
        "  [\"Hernia\",            110,  227],\n",
        "]\n",
        "\n",
        "# put data in arrays so I can use them for x, y in matplotlib\n",
        "conditions, occurence_single, occurence_total, ratio = [], [] , [], []\n",
        "for i in range(0, len(distribution)):\n",
        "  conditions.append(distribution[i][0])\n",
        "  occurence_single.append(distribution[i][1])\n",
        "  occurence_total.append(distribution[i][2])\n",
        "  ratio.append(distribution[i][2] / distribution[i][1])"
      ],
      "execution_count": 0,
      "outputs": []
    },
    {
      "cell_type": "code",
      "metadata": {
        "id": "DM5RVR_7DT28",
        "colab_type": "code",
        "outputId": "9a07ec63-6268-40b0-fa6a-af014994bcc9",
        "colab": {
          "base_uri": "https://localhost:8080/",
          "height": 365
        }
      },
      "source": [
        "x_labels = np.arange(len(conditions))\n",
        "\n",
        "indices = range(len(conditions))\n",
        "width = np.min(np.diff(indices))/5.\n",
        "\n",
        "plt.bar(indices-width/2., occurence_single, width, align='center', alpha=0.5)\n",
        "plt.bar(indices+width/2., occurence_total,  width, align='center', alpha=0.5)\n",
        "#plt.bar(indices+width/0.65, occurence_total, width, align='center', alpha=0.5)\n",
        "\n",
        "plt.xticks(x_labels, conditions, rotation='vertical')\n",
        "plt.ylabel('Occurence')\n",
        "plt.title('Class distribution: single class images vs multi-class images')\n",
        "\n",
        "plt.show()"
      ],
      "execution_count": 87,
      "outputs": [
        {
          "output_type": "display_data",
          "data": {
            "image/png": "[encoded data removed]",
            "text/plain": [
              "<Figure size 432x288 with 1 Axes>"
            ]
          },
          "metadata": {
            "tags": []
          }
        }
      ]
    },
    {
      "cell_type": "markdown",
      "metadata": {
        "id": "cgWAHt4NyfGc",
        "colab_type": "text"
      },
      "source": [
        "### Actual class distribution for all 15 classes"
      ]
    },
    {
      "cell_type": "code",
      "metadata": {
        "id": "-K_JasJa-Hi6",
        "colab_type": "code",
        "colab": {}
      },
      "source": [
        "# Find class distribution for all 15 classes: \n",
        "df['Finding Labels'] = df['Finding Labels'].str.replace('|',' ')\n",
        "df['Finding Labels'].str.split(expand=True).stack().value_counts()"
      ],
      "execution_count": 0,
      "outputs": []
    },
    {
      "cell_type": "markdown",
      "metadata": {
        "id": "iCsSNi068mJt",
        "colab_type": "text"
      },
      "source": [
        "### Anomalies"
      ]
    },
    {
      "cell_type": "code",
      "metadata": {
        "id": "lgLE9vhO8pMI",
        "colab_type": "code",
        "colab": {}
      },
      "source": [
        "# There are people with age 148 and higher, display these anomalies\n",
        "df['Patient Age'].sort_values(ascending=False).head(30)"
      ],
      "execution_count": 0,
      "outputs": []
    },
    {
      "cell_type": "code",
      "metadata": {
        "id": "1-zkB76kHIvm",
        "colab_type": "code",
        "colab": {}
      },
      "source": [
        "#get mean age\n",
        "df['Patient Age'].mean()"
      ],
      "execution_count": 0,
      "outputs": []
    },
    {
      "cell_type": "code",
      "metadata": {
        "id": "VMMvK5UeG5MZ",
        "colab_type": "code",
        "colab": {}
      },
      "source": [
        "# replace values that are too large with the mean\n",
        "df['Patient Age'] = np.where(df['Patient Age'] > 95, 47, df['Patient Age'])"
      ],
      "execution_count": 0,
      "outputs": []
    },
    {
      "cell_type": "markdown",
      "metadata": {
        "id": "2af6Y69lxwUh",
        "colab_type": "text"
      },
      "source": [
        "### X-ray view position"
      ]
    },
    {
      "cell_type": "code",
      "metadata": {
        "id": "C2vo0grOxUw5",
        "colab_type": "code",
        "outputId": "70aa639f-1c12-4ede-c264-31c47df9cd21",
        "colab": {
          "base_uri": "https://localhost:8080/",
          "height": 34
        }
      },
      "source": [
        "count = Counter(df['View Position'])\n",
        "count"
      ],
      "execution_count": 18,
      "outputs": [
        {
          "output_type": "execute_result",
          "data": {
            "text/plain": [
              "Counter({'AP': 44810, 'PA': 67310})"
            ]
          },
          "metadata": {
            "tags": []
          },
          "execution_count": 18
        }
      ]
    },
    {
      "cell_type": "code",
      "metadata": {
        "id": "M93eEo0I3B_O",
        "colab_type": "code",
        "colab": {
          "base_uri": "https://localhost:8080/",
          "height": 327
        },
        "outputId": "6644d015-ad38-4d4f-bbd6-bd9775395c4d"
      },
      "source": [
        "pie = pd.DataFrame({'count': [count['AP'], count['PA']]}, index=['AP', 'PA'])\n",
        "pie.plot.pie(y='count', figsize=(5, 5))"
      ],
      "execution_count": 30,
      "outputs": [
        {
          "output_type": "execute_result",
          "data": {
            "text/plain": [
              "<matplotlib.axes._subplots.AxesSubplot at 0x7f1f6449beb8>"
            ]
          },
          "metadata": {
            "tags": []
          },
          "execution_count": 30
        },
        {
          "output_type": "display_data",
          "data": {
            "image/png": "[encoded data removed]",
            "text/plain": [
              "<Figure size 360x360 with 1 Axes>"
            ]
          },
          "metadata": {
            "tags": []
          }
        }
      ]
    },
    {
      "cell_type": "markdown",
      "metadata": {
        "id": "7Ky3JJz7txs3",
        "colab_type": "text"
      },
      "source": [
        "### Gender"
      ]
    },
    {
      "cell_type": "code",
      "metadata": {
        "id": "eIXmb7kJ7t6l",
        "colab_type": "code",
        "outputId": "ae24bc6d-f7ab-4743-c63a-ee13bbd0c674",
        "colab": {
          "base_uri": "https://localhost:8080/",
          "height": 283
        }
      },
      "source": [
        "a = dict(Counter(df['Patient Gender']))\n",
        "\n",
        "#draw the graph\n",
        "temp_df = pd.DataFrame({'gender': list(a.keys()), 'count': list(a.values())})\n",
        "ax = temp_df.plot.bar(x='gender', y='count', rot=0)"
      ],
      "execution_count": 32,
      "outputs": [
        {
          "output_type": "display_data",
          "data": {
            "image/png": "[encoded data removed]",
            "text/plain": [
              "<Figure size 432x288 with 1 Axes>"
            ]
          },
          "metadata": {
            "tags": []
          }
        }
      ]
    },
    {
      "cell_type": "markdown",
      "metadata": {
        "id": "zx7Q2VP88M1O",
        "colab_type": "text"
      },
      "source": [
        "### Age distribution"
      ]
    },
    {
      "cell_type": "code",
      "metadata": {
        "id": "ccUr6-2FxU1I",
        "colab_type": "code",
        "colab": {
          "base_uri": "https://localhost:8080/",
          "height": 340
        },
        "outputId": "2e0f90d6-d5e4-4693-edbc-360cdc48e507"
      },
      "source": [
        "unordered_dict = dict(Counter(df['Patient Age']))\n",
        "# make an ordered list, so the graph makes more sense\n",
        "ordered_list = collections.OrderedDict(sorted(unordered_dict.items()))\n",
        "\n",
        "#draw the graph\n",
        "temp_df = pd.DataFrame({'Age': list(ordered_list.keys()), 'Count': list(ordered_list.values())})\n",
        "ax = temp_df.plot.bar(x='Age', y='Count', figsize=(20,5))"
      ],
      "execution_count": 96,
      "outputs": [
        {
          "output_type": "display_data",
          "data": {
            "image/png": "[encoded data removed]",
            "text/plain": [
              "<Figure size 1440x360 with 1 Axes>"
            ]
          },
          "metadata": {
            "tags": []
          }
        }
      ]
    },
    {
      "cell_type": "code",
      "metadata": {
        "id": "btfp8FSpJRq-",
        "colab_type": "code",
        "colab": {}
      },
      "source": [
        "ordered_list.keys()"
      ],
      "execution_count": 0,
      "outputs": []
    },
    {
      "cell_type": "code",
      "metadata": {
        "id": "cW7Zyha3LkMG",
        "colab_type": "code",
        "colab": {}
      },
      "source": [
        "# male + age"
      ],
      "execution_count": 0,
      "outputs": []
    },
    {
      "cell_type": "code",
      "metadata": {
        "id": "_sFlRniELmtZ",
        "colab_type": "code",
        "colab": {}
      },
      "source": [
        "# female + age"
      ],
      "execution_count": 0,
      "outputs": []
    },
    {
      "cell_type": "markdown",
      "metadata": {
        "id": "QatpqbrJx-RI",
        "colab_type": "text"
      },
      "source": [
        "### Medical condition label distribution\n",
        "Not exactly what we need, it considers 'Hernia|Infiltration|Nodule' as 1 class, but it is actually 3.  \n",
        "This gives us a total of 836 different class combinations."
      ]
    },
    {
      "cell_type": "code",
      "metadata": {
        "id": "tWTLPuw58fZT",
        "colab_type": "code",
        "colab": {}
      },
      "source": [
        "df['Finding Labels'].value_counts()"
      ],
      "execution_count": 0,
      "outputs": []
    },
    {
      "cell_type": "markdown",
      "metadata": {
        "id": "nMfCQvlXPyRr",
        "colab_type": "text"
      },
      "source": [
        "### Condition occurence\n",
        "How likely the condition is to appear as the only condition, or together with others  \n",
        "1 means it only appears by itself, as the only class  \n",
        "Larger value indicates the class is more likely to appear in multi-class images.\n",
        "Pneumonia is the most likely to appear in multi-class images, while Infiltration is the least likely."
      ]
    },
    {
      "cell_type": "code",
      "metadata": {
        "id": "zwTvUBgULocq",
        "colab_type": "code",
        "outputId": "242d7724-34ef-4bbb-f0ab-55166c77f9cc",
        "colab": {
          "base_uri": "https://localhost:8080/",
          "height": 365
        }
      },
      "source": [
        "x_labels = np.arange(len(conditions))\n",
        "plt.bar(conditions, ratio, align='center', alpha=0.5)\n",
        "plt.xticks(x_labels, conditions, rotation='vertical')\n",
        "plt.ylabel('Occurence')\n",
        "plt.title('Condition occurence')\n",
        "plt.show()"
      ],
      "execution_count": 0,
      "outputs": [
        {
          "output_type": "display_data",
          "data": {
            "image/png": "[encoded data removed]",
            "text/plain": [
              "<Figure size 432x288 with 1 Axes>"
            ]
          },
          "metadata": {
            "tags": []
          }
        }
      ]
    },
    {
      "cell_type": "code",
      "metadata": {
        "id": "_AuBsjudal0w",
        "colab_type": "code",
        "colab": {}
      },
      "source": [
        "df['Age'].sort_values(ascending=False).head(20)"
      ],
      "execution_count": 0,
      "outputs": []
    },
    {
      "cell_type": "markdown",
      "metadata": {
        "id": "Ps6A29lQCQ-t",
        "colab_type": "text"
      },
      "source": [
        ""
      ]
    },
    {
      "cell_type": "code",
      "metadata": {
        "id": "qfG7psPWCRGA",
        "colab_type": "code",
        "colab": {}
      },
      "source": [
        "import PIL\n",
        "from PIL import Image\n",
        "import numpy as np"
      ],
      "execution_count": 0,
      "outputs": []
    },
    {
      "cell_type": "code",
      "metadata": {
        "id": "SVAYHLopCZEZ",
        "colab_type": "code",
        "colab": {}
      },
      "source": [
        "image = Image.open('00000001_000.png')\n",
        "\n",
        "np.array(image).shape\n",
        "\n",
        "\n",
        "image\n",
        "#a = np.array(image)\n",
        "\n",
        "#type(image)"
      ],
      "execution_count": 0,
      "outputs": []
    },
    {
      "cell_type": "markdown",
      "metadata": {
        "id": "ftpcJQpHOZwq",
        "colab_type": "text"
      },
      "source": [
        "### Check images from each class"
      ]
    },
    {
      "cell_type": "markdown",
      "metadata": {
        "id": "Wu9bLd2_yrKZ",
        "colab_type": "text"
      },
      "source": [
        "# Sampling function\n",
        "We decide which classes to use"
      ]
    },
    {
      "cell_type": "code",
      "metadata": {
        "id": "I8EZYo7gBM_e",
        "colab_type": "code",
        "colab": {}
      },
      "source": [
        "chosen_classes = ['Cardiomegaly', 'No Finding', 'Emphysema', 'Effusion', 'Atelectasis', 'Pleural_Thickening', 'Nodule','Edema']\n",
        "\n",
        "# create new folder for each chosen class\n",
        "for i in range(0, len(chosen_classes)):\n",
        "  print(chosen_classes[i])\n",
        "  os.makedirs(str(chosen_classes[i]))"
      ],
      "execution_count": 0,
      "outputs": []
    },
    {
      "cell_type": "code",
      "metadata": {
        "id": "A9QtYhSimAK3",
        "colab_type": "code",
        "colab": {}
      },
      "source": [
        "# SAMPLING FUNCTION\n",
        "\n",
        "# take only the 2 columns we need\n",
        "df1 = df[['Image Index','Finding Labels']]\n",
        "\n",
        "# sample n random images from a specific class, resize them, and copy to train/test/valid folders\n",
        "def sample_images(df1, class_name, count):\n",
        "  df_samples = df1[df1['Finding Labels'] == class_name]\n",
        "  df_samples = df_samples.sample(n = count)\n",
        "  df_samples = df_samples[['Image Index']]\n",
        "  image_names = df_samples.values\n",
        "\n",
        "  # resize if needed\n",
        "\n",
        "  # copy n images per class to specific folder\n",
        "  for i in range(0, count):\n",
        "    \n",
        "    copy_from = \"scans/256x256/\"\n",
        "    copy_to   = \"scans/256x256/\" + class_name + \"/\"\n",
        "    \n",
        "    shutil.copy(os.path.join(copy_from, image_names[i]), os.path.join(copy_to, image_names[i]))\n",
        "  print(\"---\")\n",
        "\n",
        "# sample 8 classes\n",
        "for j in range(0, len(chosen_classes)):\n",
        "  print(j, chosen_classes[j])\n",
        "  sample_images(df1, chosen_classes[j], 600)"
      ],
      "execution_count": 0,
      "outputs": []
    },
    {
      "cell_type": "markdown",
      "metadata": {
        "id": "UOkjIjR0VgAm",
        "colab_type": "text"
      },
      "source": [
        "###Download labels/image names as csv"
      ]
    },
    {
      "cell_type": "code",
      "metadata": {
        "id": "fSjhRN6TVHqb",
        "colab_type": "code",
        "colab": {}
      },
      "source": [
        "df1.to_csv('labels.csv') \n",
        "files.download('labels.csv')"
      ],
      "execution_count": 0,
      "outputs": []
    },
    {
      "cell_type": "markdown",
      "metadata": {
        "id": "4gGGSt1HYava",
        "colab_type": "text"
      },
      "source": [
        "# Script to download all 45 GB of images\n",
        "- **no longer needed**. Download from Kaggle if you want the dataset locally  \n",
        "- Original function was for Python 2. In Python 3 **urlretrieve** method is moved to **request** module.  \n",
        "- **Run this on your PC**, not on Colab :)"
      ]
    },
    {
      "cell_type": "code",
      "metadata": {
        "id": "Jo8lrmfyYa5V",
        "colab_type": "code",
        "colab": {}
      },
      "source": [
        "# Download the 56 zip files in Images_png in batches\n",
        "import urllib.request\n",
        "\n",
        "# URLs for the zip files\n",
        "links = [\n",
        "    'https://nihcc.box.com/shared/static/vfk49d74nhbxq3nqjg0900w5nvkorp5c.gz',\n",
        "    'https://nihcc.box.com/shared/static/i28rlmbvmfjbl8p2n3ril0pptcmcu9d1.gz',\n",
        "    'https://nihcc.box.com/shared/static/f1t00wrtdk94satdfb9olcolqx20z2jp.gz',\n",
        "\t  'https://nihcc.box.com/shared/static/0aowwzs5lhjrceb3qp67ahp0rd1l1etg.gz',\n",
        "    'https://nihcc.box.com/shared/static/v5e3goj22zr6h8tzualxfsqlqaygfbsn.gz',\n",
        "\t  'https://nihcc.box.com/shared/static/asi7ikud9jwnkrnkj99jnpfkjdes7l6l.gz',\n",
        "\t  'https://nihcc.box.com/shared/static/jn1b4mw4n6lnh74ovmcjb8y48h8xj07n.gz',\n",
        "    'https://nihcc.box.com/shared/static/tvpxmn7qyrgl0w8wfh9kqfjskv6nmm1j.gz',\n",
        "\t  'https://nihcc.box.com/shared/static/upyy3ml7qdumlgk2rfcvlb9k6gvqq2pj.gz',\n",
        "\t  'https://nihcc.box.com/shared/static/l6nilvfa9cg3s28tqv1qc1olm3gnz54p.gz',\n",
        "\t  'https://nihcc.box.com/shared/static/hhq8fkdgvcari67vfhs7ppg2w6ni4jze.gz',\n",
        "\t  'https://nihcc.box.com/shared/static/ioqwiy20ihqwyr8pf4c24eazhh281pbu.gz'\n",
        "]\n",
        "\n",
        "for idx, link in enumerate(links):\n",
        "    fn = 'images_%02d.tar.gz' % (idx+1)\n",
        "    print ('downloading', fn, '...')\n",
        "    urllib.request.urlretrieve(link, fn)  # download the zip file\n",
        "print (\"Download complete. Please check the checksums\")"
      ],
      "execution_count": 0,
      "outputs": []
    }
  ]
}
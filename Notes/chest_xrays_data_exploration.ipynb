{
  "nbformat": 4,
  "nbformat_minor": 0,
  "metadata": {
    "colab": {
      "name": "chest-xrays-data-exploration",
      "version": "0.3.2",
      "provenance": [],
      "collapsed_sections": [],
      "toc_visible": true,
      "include_colab_link": true
    },
    "kernelspec": {
      "name": "python3",
      "display_name": "Python 3"
    }
  },
  "cells": [
    {
      "cell_type": "markdown",
      "metadata": {
        "id": "view-in-github",
        "colab_type": "text"
      },
      "source": [
        "<a href=\"https://colab.research.google.com/github/ingus-t/SPAI/blob/master/Notes/chest_xrays_data_exploration.ipynb\" target=\"_parent\"><img src=\"https://colab.research.google.com/assets/colab-badge.svg\" alt=\"Open In Colab\"/></a>"
      ]
    },
    {
      "cell_type": "markdown",
      "metadata": {
        "id": "oHpLyaxkWGLx",
        "colab_type": "text"
      },
      "source": [
        "# Introduction"
      ]
    },
    {
      "cell_type": "markdown",
      "metadata": {
        "id": "fi292XM_ObWl",
        "colab_type": "text"
      },
      "source": [
        "**Dataset on Kaggle** https://www.kaggle.com/nih-chest-xrays/data  \n",
        "**Research document for this dataset:** *ChestX-ray8: Hospital-scale Chest X-ray Database and Benchmarks on Weakly-Supervised Classification and Localization of Common Thorax Diseases* https://arxiv.org/abs/1705.02315\n",
        "\n",
        "\n",
        "For this notebook to work - upload (drag&drop) the file Data_Entry_2017.csv on the left side (in Colab)"
      ]
    },
    {
      "cell_type": "markdown",
      "metadata": {
        "id": "Dx-pDJ1xCcXc",
        "colab_type": "text"
      },
      "source": [
        "**Class count for images with only 1 class:**\n",
        "```\n",
        "No Finding              60361\n",
        "Infiltration            9547\n",
        "Atelectasis             4215\n",
        "Effusion                3955\n",
        "Nodule                  2705\n",
        "Pneumothorax            2194\n",
        "Mass                    2139\n",
        "Consolidation           1310\n",
        "Pleural_Thickening      1126\n",
        "Cardiomegaly            1093\n",
        "Emphysema                892\n",
        "Fibrosis                 727\n",
        "Edema                    628\n",
        "Pneumonia                322\n",
        "Hernia                   110\n",
        "```\n",
        "\n",
        "**Total count for all classes**\n",
        "```\n",
        "No_Finding            60361\n",
        "Infiltration          19894\n",
        "Effusion              13317\n",
        "Atelectasis           11559\n",
        "Nodule                 6331\n",
        "Mass                   5782\n",
        "Pneumothorax           5302\n",
        "Consolidation          4667\n",
        "Pleural_Thickening     3385\n",
        "Cardiomegaly           2776\n",
        "Emphysema              2516\n",
        "Edema                  2303\n",
        "Fibrosis               1686\n",
        "Pneumonia              1431\n",
        "Hernia                  227\n",
        "```"
      ]
    },
    {
      "cell_type": "markdown",
      "metadata": {
        "id": "HiBk0jmGgMSl",
        "colab_type": "text"
      },
      "source": [
        "**Accuracy achieved by transfer learning, using Resnet50 model by paper authors**\n",
        "```\n",
        "Atelectasis     0.7069\n",
        "Cardiomegaly    0.8141\n",
        "Effusion        0.7362\n",
        "Infiltration    0.6128\n",
        "Mass            0.5609\n",
        "Nodule          0.7164\n",
        "Pneumonia       0.6333\n",
        "Pneumothorax    0.7891\n",
        "```\n",
        "\n"
      ]
    },
    {
      "cell_type": "markdown",
      "metadata": {
        "id": "pV4uodHdWJW2",
        "colab_type": "text"
      },
      "source": [
        "# Data exploration"
      ]
    },
    {
      "cell_type": "code",
      "metadata": {
        "id": "B_J1fQLK7IPt",
        "colab_type": "code",
        "colab": {}
      },
      "source": [
        "import pandas as pd\n",
        "import matplotlib.pyplot as plt\n",
        "import numpy as np\n",
        "import shutil\n",
        "import os\n",
        "from google.colab import files\n",
        "from collections import Counter\n",
        "import collections\n",
        "\n",
        "import matplotlib.pyplot as plt"
      ],
      "execution_count": 0,
      "outputs": []
    },
    {
      "cell_type": "code",
      "metadata": {
        "id": "vyzhDqFSCuTJ",
        "colab_type": "code",
        "colab": {}
      },
      "source": [
        "df = pd.read_csv(\"https://raw.githubusercontent.com/ingus-t/SPAI/master/resources/Data_Entry_2017.csv\") "
      ],
      "execution_count": 0,
      "outputs": []
    },
    {
      "cell_type": "code",
      "metadata": {
        "id": "xKEoB9y5Cr5E",
        "colab_type": "code",
        "outputId": "e732a974-07b2-4744-a21f-d313c9e1575d",
        "colab": {
          "base_uri": "https://localhost:8080/",
          "height": 221
        }
      },
      "source": [
        "df.head(5)"
      ],
      "execution_count": 3,
      "outputs": [
        {
          "output_type": "execute_result",
          "data": {
            "text/html": [
              "<div>\n",
              "<style scoped>\n",
              "    .dataframe tbody tr th:only-of-type {\n",
              "        vertical-align: middle;\n",
              "    }\n",
              "\n",
              "    .dataframe tbody tr th {\n",
              "        vertical-align: top;\n",
              "    }\n",
              "\n",
              "    .dataframe thead th {\n",
              "        text-align: right;\n",
              "    }\n",
              "</style>\n",
              "<table border=\"1\" class=\"dataframe\">\n",
              "  <thead>\n",
              "    <tr style=\"text-align: right;\">\n",
              "      <th></th>\n",
              "      <th>Image Index</th>\n",
              "      <th>Finding Labels</th>\n",
              "      <th>Follow-up #</th>\n",
              "      <th>Patient ID</th>\n",
              "      <th>Patient Age</th>\n",
              "      <th>Patient Gender</th>\n",
              "      <th>View Position</th>\n",
              "      <th>OriginalImage[Width</th>\n",
              "      <th>Height]</th>\n",
              "      <th>OriginalImagePixelSpacing[x</th>\n",
              "      <th>y]</th>\n",
              "      <th>Unnamed: 11</th>\n",
              "    </tr>\n",
              "  </thead>\n",
              "  <tbody>\n",
              "    <tr>\n",
              "      <th>0</th>\n",
              "      <td>00000001_000.png</td>\n",
              "      <td>Cardiomegaly</td>\n",
              "      <td>0</td>\n",
              "      <td>1</td>\n",
              "      <td>58</td>\n",
              "      <td>M</td>\n",
              "      <td>PA</td>\n",
              "      <td>2682</td>\n",
              "      <td>2749</td>\n",
              "      <td>0.143</td>\n",
              "      <td>0.143</td>\n",
              "      <td>NaN</td>\n",
              "    </tr>\n",
              "    <tr>\n",
              "      <th>1</th>\n",
              "      <td>00000001_001.png</td>\n",
              "      <td>Cardiomegaly|Emphysema</td>\n",
              "      <td>1</td>\n",
              "      <td>1</td>\n",
              "      <td>58</td>\n",
              "      <td>M</td>\n",
              "      <td>PA</td>\n",
              "      <td>2894</td>\n",
              "      <td>2729</td>\n",
              "      <td>0.143</td>\n",
              "      <td>0.143</td>\n",
              "      <td>NaN</td>\n",
              "    </tr>\n",
              "    <tr>\n",
              "      <th>2</th>\n",
              "      <td>00000001_002.png</td>\n",
              "      <td>Cardiomegaly|Effusion</td>\n",
              "      <td>2</td>\n",
              "      <td>1</td>\n",
              "      <td>58</td>\n",
              "      <td>M</td>\n",
              "      <td>PA</td>\n",
              "      <td>2500</td>\n",
              "      <td>2048</td>\n",
              "      <td>0.168</td>\n",
              "      <td>0.168</td>\n",
              "      <td>NaN</td>\n",
              "    </tr>\n",
              "    <tr>\n",
              "      <th>3</th>\n",
              "      <td>00000002_000.png</td>\n",
              "      <td>No Finding</td>\n",
              "      <td>0</td>\n",
              "      <td>2</td>\n",
              "      <td>81</td>\n",
              "      <td>M</td>\n",
              "      <td>PA</td>\n",
              "      <td>2500</td>\n",
              "      <td>2048</td>\n",
              "      <td>0.171</td>\n",
              "      <td>0.171</td>\n",
              "      <td>NaN</td>\n",
              "    </tr>\n",
              "    <tr>\n",
              "      <th>4</th>\n",
              "      <td>00000003_000.png</td>\n",
              "      <td>Hernia</td>\n",
              "      <td>0</td>\n",
              "      <td>3</td>\n",
              "      <td>81</td>\n",
              "      <td>F</td>\n",
              "      <td>PA</td>\n",
              "      <td>2582</td>\n",
              "      <td>2991</td>\n",
              "      <td>0.143</td>\n",
              "      <td>0.143</td>\n",
              "      <td>NaN</td>\n",
              "    </tr>\n",
              "  </tbody>\n",
              "</table>\n",
              "</div>"
            ],
            "text/plain": [
              "        Image Index          Finding Labels  ...     y]  Unnamed: 11\n",
              "0  00000001_000.png            Cardiomegaly  ...  0.143          NaN\n",
              "1  00000001_001.png  Cardiomegaly|Emphysema  ...  0.143          NaN\n",
              "2  00000001_002.png   Cardiomegaly|Effusion  ...  0.168          NaN\n",
              "3  00000002_000.png              No Finding  ...  0.171          NaN\n",
              "4  00000003_000.png                  Hernia  ...  0.143          NaN\n",
              "\n",
              "[5 rows x 12 columns]"
            ]
          },
          "metadata": {
            "tags": []
          },
          "execution_count": 3
        }
      ]
    },
    {
      "cell_type": "code",
      "metadata": {
        "id": "pjhv-bcQ7ruz",
        "colab_type": "code",
        "outputId": "35eeb829-2c80-4a26-c6c7-fb21be97cad9",
        "colab": {
          "base_uri": "https://localhost:8080/",
          "height": 34
        }
      },
      "source": [
        "df.shape"
      ],
      "execution_count": 4,
      "outputs": [
        {
          "output_type": "execute_result",
          "data": {
            "text/plain": [
              "(112120, 12)"
            ]
          },
          "metadata": {
            "tags": []
          },
          "execution_count": 4
        }
      ]
    },
    {
      "cell_type": "code",
      "metadata": {
        "id": "Z7oW5JJS7z1B",
        "colab_type": "code",
        "colab": {
          "base_uri": "https://localhost:8080/",
          "height": 238
        },
        "outputId": "a7ec0736-0a4e-485b-dfe3-6f929034cbba"
      },
      "source": [
        "df.dtypes"
      ],
      "execution_count": 5,
      "outputs": [
        {
          "output_type": "execute_result",
          "data": {
            "text/plain": [
              "Image Index                     object\n",
              "Finding Labels                  object\n",
              "Follow-up #                      int64\n",
              "Patient ID                       int64\n",
              "Patient Age                      int64\n",
              "Patient Gender                  object\n",
              "View Position                   object\n",
              "OriginalImage[Width              int64\n",
              "Height]                          int64\n",
              "OriginalImagePixelSpacing[x    float64\n",
              "y]                             float64\n",
              "Unnamed: 11                    float64\n",
              "dtype: object"
            ]
          },
          "metadata": {
            "tags": []
          },
          "execution_count": 5
        }
      ]
    },
    {
      "cell_type": "code",
      "metadata": {
        "id": "cyBP_YelJBQv",
        "colab_type": "code",
        "colab": {
          "base_uri": "https://localhost:8080/",
          "height": 297
        },
        "outputId": "86660c46-9702-4c85-c123-43b2eeeaec17"
      },
      "source": [
        "df.describe()"
      ],
      "execution_count": 6,
      "outputs": [
        {
          "output_type": "execute_result",
          "data": {
            "text/html": [
              "<div>\n",
              "<style scoped>\n",
              "    .dataframe tbody tr th:only-of-type {\n",
              "        vertical-align: middle;\n",
              "    }\n",
              "\n",
              "    .dataframe tbody tr th {\n",
              "        vertical-align: top;\n",
              "    }\n",
              "\n",
              "    .dataframe thead th {\n",
              "        text-align: right;\n",
              "    }\n",
              "</style>\n",
              "<table border=\"1\" class=\"dataframe\">\n",
              "  <thead>\n",
              "    <tr style=\"text-align: right;\">\n",
              "      <th></th>\n",
              "      <th>Follow-up #</th>\n",
              "      <th>Patient ID</th>\n",
              "      <th>Patient Age</th>\n",
              "      <th>OriginalImage[Width</th>\n",
              "      <th>Height]</th>\n",
              "      <th>OriginalImagePixelSpacing[x</th>\n",
              "      <th>y]</th>\n",
              "      <th>Unnamed: 11</th>\n",
              "    </tr>\n",
              "  </thead>\n",
              "  <tbody>\n",
              "    <tr>\n",
              "      <th>count</th>\n",
              "      <td>112120.000000</td>\n",
              "      <td>112120.000000</td>\n",
              "      <td>112120.000000</td>\n",
              "      <td>112120.000000</td>\n",
              "      <td>112120.000000</td>\n",
              "      <td>112120.000000</td>\n",
              "      <td>112120.000000</td>\n",
              "      <td>0.0</td>\n",
              "    </tr>\n",
              "    <tr>\n",
              "      <th>mean</th>\n",
              "      <td>8.573751</td>\n",
              "      <td>14346.381743</td>\n",
              "      <td>46.901463</td>\n",
              "      <td>2646.078844</td>\n",
              "      <td>2486.438842</td>\n",
              "      <td>0.155649</td>\n",
              "      <td>0.155649</td>\n",
              "      <td>NaN</td>\n",
              "    </tr>\n",
              "    <tr>\n",
              "      <th>std</th>\n",
              "      <td>15.406320</td>\n",
              "      <td>8403.876972</td>\n",
              "      <td>16.839923</td>\n",
              "      <td>341.246429</td>\n",
              "      <td>401.268227</td>\n",
              "      <td>0.016174</td>\n",
              "      <td>0.016174</td>\n",
              "      <td>NaN</td>\n",
              "    </tr>\n",
              "    <tr>\n",
              "      <th>min</th>\n",
              "      <td>0.000000</td>\n",
              "      <td>1.000000</td>\n",
              "      <td>1.000000</td>\n",
              "      <td>1143.000000</td>\n",
              "      <td>966.000000</td>\n",
              "      <td>0.115000</td>\n",
              "      <td>0.115000</td>\n",
              "      <td>NaN</td>\n",
              "    </tr>\n",
              "    <tr>\n",
              "      <th>25%</th>\n",
              "      <td>0.000000</td>\n",
              "      <td>7310.750000</td>\n",
              "      <td>35.000000</td>\n",
              "      <td>2500.000000</td>\n",
              "      <td>2048.000000</td>\n",
              "      <td>0.143000</td>\n",
              "      <td>0.143000</td>\n",
              "      <td>NaN</td>\n",
              "    </tr>\n",
              "    <tr>\n",
              "      <th>50%</th>\n",
              "      <td>3.000000</td>\n",
              "      <td>13993.000000</td>\n",
              "      <td>49.000000</td>\n",
              "      <td>2518.000000</td>\n",
              "      <td>2544.000000</td>\n",
              "      <td>0.143000</td>\n",
              "      <td>0.143000</td>\n",
              "      <td>NaN</td>\n",
              "    </tr>\n",
              "    <tr>\n",
              "      <th>75%</th>\n",
              "      <td>10.000000</td>\n",
              "      <td>20673.000000</td>\n",
              "      <td>59.000000</td>\n",
              "      <td>2992.000000</td>\n",
              "      <td>2991.000000</td>\n",
              "      <td>0.168000</td>\n",
              "      <td>0.168000</td>\n",
              "      <td>NaN</td>\n",
              "    </tr>\n",
              "    <tr>\n",
              "      <th>max</th>\n",
              "      <td>183.000000</td>\n",
              "      <td>30805.000000</td>\n",
              "      <td>414.000000</td>\n",
              "      <td>3827.000000</td>\n",
              "      <td>4715.000000</td>\n",
              "      <td>0.198800</td>\n",
              "      <td>0.198800</td>\n",
              "      <td>NaN</td>\n",
              "    </tr>\n",
              "  </tbody>\n",
              "</table>\n",
              "</div>"
            ],
            "text/plain": [
              "         Follow-up #     Patient ID  ...             y]  Unnamed: 11\n",
              "count  112120.000000  112120.000000  ...  112120.000000          0.0\n",
              "mean        8.573751   14346.381743  ...       0.155649          NaN\n",
              "std        15.406320    8403.876972  ...       0.016174          NaN\n",
              "min         0.000000       1.000000  ...       0.115000          NaN\n",
              "25%         0.000000    7310.750000  ...       0.143000          NaN\n",
              "50%         3.000000   13993.000000  ...       0.143000          NaN\n",
              "75%        10.000000   20673.000000  ...       0.168000          NaN\n",
              "max       183.000000   30805.000000  ...       0.198800          NaN\n",
              "\n",
              "[8 rows x 8 columns]"
            ]
          },
          "metadata": {
            "tags": []
          },
          "execution_count": 6
        }
      ]
    },
    {
      "cell_type": "code",
      "metadata": {
        "id": "yrb_c_LxVjij",
        "colab_type": "code",
        "outputId": "926efb6f-64a6-40d1-ed49-f91dc836a5fb",
        "colab": {
          "base_uri": "https://localhost:8080/",
          "height": 34
        }
      },
      "source": [
        "# find count of Hernia or any other condition\n",
        "df[df['Finding Labels'] == 'Hernia'].shape[0]"
      ],
      "execution_count": 7,
      "outputs": [
        {
          "output_type": "execute_result",
          "data": {
            "text/plain": [
              "110"
            ]
          },
          "metadata": {
            "tags": []
          },
          "execution_count": 7
        }
      ]
    },
    {
      "cell_type": "markdown",
      "metadata": {
        "id": "K2uErvHVS8q1",
        "colab_type": "text"
      },
      "source": [
        "### Find all labels"
      ]
    },
    {
      "cell_type": "code",
      "metadata": {
        "id": "QZRlC6GTS-wE",
        "colab_type": "code",
        "colab": {}
      },
      "source": [
        "all_classes = ['Cardiomegaly', 'No Finding', 'Hernia', 'Infiltration', 'Nodule',\n",
        "           'Emphysema', 'Effusion', 'Atelectasis', 'Pleural_Thickening',\n",
        "           'Pneumothorax', 'Mass', 'Fibrosis', 'Consolidation', 'Edema',\n",
        "           'Pneumonia']"
      ],
      "execution_count": 0,
      "outputs": []
    },
    {
      "cell_type": "markdown",
      "metadata": {
        "id": "7NLhtqylPuFO",
        "colab_type": "text"
      },
      "source": [
        "### Class distribution: single class images vs multi-class images"
      ]
    },
    {
      "cell_type": "code",
      "metadata": {
        "id": "Wh1BvsoE7GlA",
        "colab_type": "code",
        "colab": {}
      },
      "source": [
        "# name, occurences as the only class, total occurences (including multi-class images)\n",
        "distribution=[\n",
        "  [\"No Finding\",        60361,60361],\n",
        "  [\"Infiltration\",      9547, 19894],\n",
        "  [\"Atelectasis\",       4215, 11559],\n",
        "  [\"Effusion\",          3955, 13317],\n",
        "  [\"Nodule\",            2705, 6331],\n",
        "  [\"Pneumothorax\",      2194, 5302],\n",
        "  [\"Mass\",              2139, 5782],\n",
        "  [\"Consolidation\",     1310, 4667],\n",
        "  [\"Pleural_Thickening\",1126, 3385],\n",
        "  [\"Cardiomegaly\",      1093, 2776],\n",
        "  [\"Emphysema\",         892,  2516],\n",
        "  [\"Fibrosis\",          727,  1686],\n",
        "  [\"Edema\",             628,  2303],\n",
        "  [\"Pneumonia\",         322,  1431],\n",
        "  [\"Hernia\",            110,  227],\n",
        "]\n",
        "\n",
        "# put data in arrays so I can use them for x, y in matplotlib\n",
        "conditions, occurence_single, occurence_total, ratio = [], [] , [], []\n",
        "for i in range(0, len(distribution)):\n",
        "  conditions.append(distribution[i][0])\n",
        "  occurence_single.append(distribution[i][1])\n",
        "  occurence_total.append(distribution[i][2])\n",
        "  ratio.append(distribution[i][2] / distribution[i][1])"
      ],
      "execution_count": 0,
      "outputs": []
    },
    {
      "cell_type": "code",
      "metadata": {
        "id": "DM5RVR_7DT28",
        "colab_type": "code",
        "outputId": "5e7b028d-e1be-4d39-fd7c-83bfd1584c8b",
        "colab": {
          "base_uri": "https://localhost:8080/",
          "height": 365
        }
      },
      "source": [
        "x_labels = np.arange(len(conditions))\n",
        "\n",
        "indices = range(len(conditions))\n",
        "width = np.min(np.diff(indices))/5.\n",
        "\n",
        "plt.bar(indices-width/2., occurence_single, width, align='center', alpha=0.5)\n",
        "plt.bar(indices+width/2., occurence_total,  width, align='center', alpha=0.5)\n",
        "# Third column, not needed\n",
        "#plt.bar(indices+width/0.65, occurence_total, width, align='center', alpha=0.5)\n",
        "\n",
        "plt.xticks(x_labels, conditions, rotation='vertical')\n",
        "plt.ylabel('Occurence')\n",
        "plt.title('Class distribution: single class images vs multi-class images')\n",
        "\n",
        "plt.show()"
      ],
      "execution_count": 10,
      "outputs": [
        {
          "output_type": "display_data",
          "data": {
            "image/png": "[encoded data removed]",
            "text/plain": [
              "<Figure size 432x288 with 1 Axes>"
            ]
          },
          "metadata": {
            "tags": []
          }
        }
      ]
    },
    {
      "cell_type": "markdown",
      "metadata": {
        "id": "cgWAHt4NyfGc",
        "colab_type": "text"
      },
      "source": [
        "### Actual class distribution for all 15 classes"
      ]
    },
    {
      "cell_type": "code",
      "metadata": {
        "id": "-K_JasJa-Hi6",
        "colab_type": "code",
        "outputId": "bfa94b57-dd32-494c-c11c-bd582a98bf63",
        "colab": {
          "base_uri": "https://localhost:8080/",
          "height": 306
        }
      },
      "source": [
        "# Find class distribution for all 15 classes: \n",
        "df['Finding Labels'] = df['Finding Labels'].str.replace('|',' ')\n",
        "df['Finding Labels'].str.split(expand=True).stack().value_counts()"
      ],
      "execution_count": 11,
      "outputs": [
        {
          "output_type": "execute_result",
          "data": {
            "text/plain": [
              "Finding               60361\n",
              "No                    60361\n",
              "Infiltration          19894\n",
              "Effusion              13317\n",
              "Atelectasis           11559\n",
              "Nodule                 6331\n",
              "Mass                   5782\n",
              "Pneumothorax           5302\n",
              "Consolidation          4667\n",
              "Pleural_Thickening     3385\n",
              "Cardiomegaly           2776\n",
              "Emphysema              2516\n",
              "Edema                  2303\n",
              "Fibrosis               1686\n",
              "Pneumonia              1431\n",
              "Hernia                  227\n",
              "dtype: int64"
            ]
          },
          "metadata": {
            "tags": []
          },
          "execution_count": 11
        }
      ]
    },
    {
      "cell_type": "markdown",
      "metadata": {
        "id": "iCsSNi068mJt",
        "colab_type": "text"
      },
      "source": [
        "### Anomalies"
      ]
    },
    {
      "cell_type": "code",
      "metadata": {
        "id": "lgLE9vhO8pMI",
        "colab_type": "code",
        "colab": {
          "base_uri": "https://localhost:8080/",
          "height": 544
        },
        "outputId": "86bfc885-d2ff-4ce1-8d08-565706527b03"
      },
      "source": [
        "# There are people with age 148 and higher, display these anomalies\n",
        "df['Patient Age'].sort_values(ascending=False).head(30)"
      ],
      "execution_count": 12,
      "outputs": [
        {
          "output_type": "execute_result",
          "data": {
            "text/plain": [
              "46965     414\n",
              "86264     413\n",
              "91369     412\n",
              "20852     412\n",
              "85404     412\n",
              "84810     411\n",
              "104590    155\n",
              "101194    155\n",
              "98495     154\n",
              "95794     153\n",
              "74884     152\n",
              "78795     151\n",
              "58650     150\n",
              "62929     149\n",
              "55742     148\n",
              "48284     148\n",
              "58464      95\n",
              "578        94\n",
              "74736      94\n",
              "74735      94\n",
              "74733      94\n",
              "74734      94\n",
              "74737      94\n",
              "577        94\n",
              "576        94\n",
              "74732      93\n",
              "74729      93\n",
              "5358       93\n",
              "3761       93\n",
              "108422     93\n",
              "Name: Patient Age, dtype: int64"
            ]
          },
          "metadata": {
            "tags": []
          },
          "execution_count": 12
        }
      ]
    },
    {
      "cell_type": "code",
      "metadata": {
        "id": "1-zkB76kHIvm",
        "colab_type": "code",
        "colab": {
          "base_uri": "https://localhost:8080/",
          "height": 34
        },
        "outputId": "67c2b33e-7e4c-4ca2-9bc9-3278ef9bd0b8"
      },
      "source": [
        "#get mean age\n",
        "df['Patient Age'].mean()"
      ],
      "execution_count": 13,
      "outputs": [
        {
          "output_type": "execute_result",
          "data": {
            "text/plain": [
              "46.90146271851587"
            ]
          },
          "metadata": {
            "tags": []
          },
          "execution_count": 13
        }
      ]
    },
    {
      "cell_type": "code",
      "metadata": {
        "id": "VMMvK5UeG5MZ",
        "colab_type": "code",
        "colab": {}
      },
      "source": [
        "# replace values that are too large with the mean\n",
        "df['Patient Age'] = np.where(df['Patient Age'] > 95, 47, df['Patient Age'])"
      ],
      "execution_count": 0,
      "outputs": []
    },
    {
      "cell_type": "markdown",
      "metadata": {
        "id": "2af6Y69lxwUh",
        "colab_type": "text"
      },
      "source": [
        "### X-ray view position"
      ]
    },
    {
      "cell_type": "code",
      "metadata": {
        "id": "C2vo0grOxUw5",
        "colab_type": "code",
        "outputId": "ccbe68f2-4be0-44ce-e90a-5efcf7bbde0a",
        "colab": {
          "base_uri": "https://localhost:8080/",
          "height": 34
        }
      },
      "source": [
        "count = Counter(df['View Position'])\n",
        "count"
      ],
      "execution_count": 15,
      "outputs": [
        {
          "output_type": "execute_result",
          "data": {
            "text/plain": [
              "Counter({'AP': 44810, 'PA': 67310})"
            ]
          },
          "metadata": {
            "tags": []
          },
          "execution_count": 15
        }
      ]
    },
    {
      "cell_type": "code",
      "metadata": {
        "id": "M93eEo0I3B_O",
        "colab_type": "code",
        "colab": {
          "base_uri": "https://localhost:8080/",
          "height": 327
        },
        "outputId": "97a25638-07d7-4bbf-f22f-fc0121218bd1"
      },
      "source": [
        "pie = pd.DataFrame({'count': [count['AP'], count['PA']]}, index=['AP', 'PA'])\n",
        "pie.plot.pie(y='count', figsize=(5, 5))"
      ],
      "execution_count": 16,
      "outputs": [
        {
          "output_type": "execute_result",
          "data": {
            "text/plain": [
              "<matplotlib.axes._subplots.AxesSubplot at 0x7faf22689c50>"
            ]
          },
          "metadata": {
            "tags": []
          },
          "execution_count": 16
        },
        {
          "output_type": "display_data",
          "data": {
            "image/png": "[encoded data removed]",
            "text/plain": [
              "<Figure size 360x360 with 1 Axes>"
            ]
          },
          "metadata": {
            "tags": []
          }
        }
      ]
    },
    {
      "cell_type": "markdown",
      "metadata": {
        "id": "VY5JHeOlfJGJ",
        "colab_type": "text"
      },
      "source": [
        "### AP/PA distribution for every condition"
      ]
    },
    {
      "cell_type": "code",
      "metadata": {
        "id": "WrRTQLzERnbJ",
        "colab_type": "code",
        "colab": {
          "base_uri": "https://localhost:8080/",
          "height": 1000
        },
        "outputId": "dd3e9689-b845-4c5c-c021-44548c324c7e"
      },
      "source": [
        "xray_orientation = [\"PA\",\"AP\"]\n",
        "def draw_multiplot(g, num_columns, figsize_for_one_row=None):\n",
        "    # call 'next(g)' to get past the first 'yield'\n",
        "    next(g)\n",
        "    # default to 15-inch rows, with square subplots\n",
        "    if figsize_for_one_row is None:\n",
        "        figsize_for_one_row = (15, 15/num_columns)\n",
        "    try:\n",
        "        while True:\n",
        "            # call plt.figure once per row\n",
        "            plt.figure(figsize=figsize_for_one_row)\n",
        "            for col in range(num_columns):\n",
        "                ax = plt.subplot(1, num_columns, col+1)\n",
        "                next(g)\n",
        "    except StopIteration:\n",
        "        pass\n",
        "\n",
        "def draw_plot():\n",
        "    for condition in all_classes:\n",
        "        df_test = df[df['Finding Labels'] == condition]\n",
        "        pa = len(df_test[df_test[\"View Position\"] == 'PA'])\n",
        "        ap = len(df_test[df_test[\"View Position\"] == 'AP'])\n",
        "\n",
        "        print(pa,ap,condition)\n",
        "        y_axis = [pa,ap]\n",
        "        total = pa+ap\n",
        "        pa_percentage = str(round(pa/total * 100,2))\n",
        "        ap_percentage = str(round(ap/total * 100,2))\n",
        "\n",
        "        yield\n",
        "        plt_string = \"PA:  \" + str(pa) + \"\\nAP:  \" + str(ap) + \"\\nPA:  \" + pa_percentage + \"%\\nAP:  \" + ap_percentage + \"%\"\n",
        "        plt.pie(y_axis, labels=xray_orientation)\n",
        "        plt.title(condition)\n",
        "        plt.legend(loc='lower left')\n",
        "        plt.text(-1, 0.6, plt_string, color='black', ha='right', va='baseline', size=12)\n",
        "\n",
        "draw_multiplot(draw_plot(), 3)"
      ],
      "execution_count": 57,
      "outputs": [
        {
          "output_type": "stream",
          "text": [
            "746 347 Cardiomegaly\n",
            "39302 21059 No Finding\n",
            "98 12 Hernia\n",
            "5270 4277 Infiltration\n",
            "1924 781 Nodule\n",
            "525 367 Emphysema\n",
            "2086 1869 Effusion\n",
            "2210 2005 Atelectasis\n",
            "875 251 Pleural_Thickening\n",
            "1506 688 Pneumothorax\n",
            "1367 772 Mass\n",
            "648 79 Fibrosis\n",
            "346 964 Consolidation\n",
            "51 577 Edema\n",
            "176 146 Pneumonia\n"
          ],
          "name": "stdout"
        },
        {
          "output_type": "display_data",
          "data": {
            "image/png": "[encoded data removed]",
            "text/plain": [
              "<Figure size 1080x360 with 3 Axes>"
            ]
          },
          "metadata": {
            "tags": []
          }
        },
        {
          "output_type": "display_data",
          "data": {
            "image/png": "[encoded data removed]",
            "text/plain": [
              "<Figure size 1080x360 with 3 Axes>"
            ]
          },
          "metadata": {
            "tags": []
          }
        },
        {
          "output_type": "display_data",
          "data": {
            "image/png": "[encoded data removed]",
            "text/plain": [
              "<Figure size 1080x360 with 3 Axes>"
            ]
          },
          "metadata": {
            "tags": []
          }
        },
        {
          "output_type": "display_data",
          "data": {
            "image/png": "[encoded data removed]",
            "text/plain": [
              "<Figure size 1080x360 with 3 Axes>"
            ]
          },
          "metadata": {
            "tags": []
          }
        },
        {
          "output_type": "display_data",
          "data": {
            "image/png": "[encoded data removed]",
            "text/plain": [
              "<Figure size 1080x360 with 3 Axes>"
            ]
          },
          "metadata": {
            "tags": []
          }
        }
      ]
    },
    {
      "cell_type": "markdown",
      "metadata": {
        "id": "7Ky3JJz7txs3",
        "colab_type": "text"
      },
      "source": [
        "### Gender"
      ]
    },
    {
      "cell_type": "code",
      "metadata": {
        "id": "eIXmb7kJ7t6l",
        "colab_type": "code",
        "outputId": "10f23f00-652c-4a28-d2b7-e1e207df5620",
        "colab": {
          "base_uri": "https://localhost:8080/",
          "height": 255
        }
      },
      "source": [
        "a = dict(Counter(df['Patient Gender']))\n",
        "\n",
        "#draw the graph\n",
        "temp_df = pd.DataFrame({'gender': list(a.keys()), 'Genders': list(a.values())})\n",
        "ax = temp_df.plot.pie(x='gender', y='Genders', rot=0)"
      ],
      "execution_count": 55,
      "outputs": [
        {
          "output_type": "display_data",
          "data": {
            "image/png": "[encoded data removed]",
            "text/plain": [
              "<Figure size 432x288 with 1 Axes>"
            ]
          },
          "metadata": {
            "tags": []
          }
        }
      ]
    },
    {
      "cell_type": "markdown",
      "metadata": {
        "id": "zx7Q2VP88M1O",
        "colab_type": "text"
      },
      "source": [
        "### Age distribution"
      ]
    },
    {
      "cell_type": "code",
      "metadata": {
        "id": "ccUr6-2FxU1I",
        "colab_type": "code",
        "colab": {
          "base_uri": "https://localhost:8080/",
          "height": 340
        },
        "outputId": "f323995f-d397-4fe5-ac19-88c7547e6550"
      },
      "source": [
        "unordered_dict = dict(Counter(df['Patient Age']))\n",
        "# make an ordered list, so the graph makes more sense\n",
        "ordered_list = collections.OrderedDict(sorted(unordered_dict.items()))\n",
        "\n",
        "#draw the graph\n",
        "temp_df = pd.DataFrame({'Age': list(ordered_list.keys()), 'Count': list(ordered_list.values())})\n",
        "ax = temp_df.plot.bar(x='Age', y='Count', figsize=(20,5))"
      ],
      "execution_count": 19,
      "outputs": [
        {
          "output_type": "display_data",
          "data": {
            "image/png": "[encoded data removed]",
            "text/plain": [
              "<Figure size 1440x360 with 1 Axes>"
            ]
          },
          "metadata": {
            "tags": []
          }
        }
      ]
    },
    {
      "cell_type": "code",
      "metadata": {
        "id": "btfp8FSpJRq-",
        "colab_type": "code",
        "colab": {
          "base_uri": "https://localhost:8080/",
          "height": 54
        },
        "outputId": "8e8f3eb5-4b1e-4788-b91e-cc628e6bc82a"
      },
      "source": [
        "ordered_list.keys()"
      ],
      "execution_count": 20,
      "outputs": [
        {
          "output_type": "execute_result",
          "data": {
            "text/plain": [
              "odict_keys([1, 2, 3, 4, 5, 6, 7, 8, 9, 10, 11, 12, 13, 14, 15, 16, 17, 18, 19, 20, 21, 22, 23, 24, 25, 26, 27, 28, 29, 30, 31, 32, 33, 34, 35, 36, 37, 38, 39, 40, 41, 42, 43, 44, 45, 46, 47, 48, 49, 50, 51, 52, 53, 54, 55, 56, 57, 58, 59, 60, 61, 62, 63, 64, 65, 66, 67, 68, 69, 70, 71, 72, 73, 74, 75, 76, 77, 78, 79, 80, 81, 82, 83, 84, 85, 86, 87, 88, 89, 90, 91, 92, 93, 94, 95])"
            ]
          },
          "metadata": {
            "tags": []
          },
          "execution_count": 20
        }
      ]
    },
    {
      "cell_type": "code",
      "metadata": {
        "id": "cW7Zyha3LkMG",
        "colab_type": "code",
        "colab": {}
      },
      "source": [
        "# male + age"
      ],
      "execution_count": 0,
      "outputs": []
    },
    {
      "cell_type": "code",
      "metadata": {
        "id": "_sFlRniELmtZ",
        "colab_type": "code",
        "colab": {}
      },
      "source": [
        "# female + age"
      ],
      "execution_count": 0,
      "outputs": []
    },
    {
      "cell_type": "markdown",
      "metadata": {
        "id": "QatpqbrJx-RI",
        "colab_type": "text"
      },
      "source": [
        "### Medical condition label distribution\n",
        "Not exactly what we need, it considers 'Hernia|Infiltration|Nodule' as 1 class, but it is actually 3.  \n",
        "This gives us a total of 836 different class combinations."
      ]
    },
    {
      "cell_type": "code",
      "metadata": {
        "id": "tWTLPuw58fZT",
        "colab_type": "code",
        "colab": {
          "base_uri": "https://localhost:8080/",
          "height": 1000
        },
        "outputId": "1b8fbfd2-f47d-466f-8b01-6c4a778f4005"
      },
      "source": [
        "df['Finding Labels'].value_counts()"
      ],
      "execution_count": 23,
      "outputs": [
        {
          "output_type": "execute_result",
          "data": {
            "text/plain": [
              "No Finding                                                                                              60361\n",
              "Infiltration                                                                                             9547\n",
              "Atelectasis                                                                                              4215\n",
              "Effusion                                                                                                 3955\n",
              "Nodule                                                                                                   2705\n",
              "Pneumothorax                                                                                             2194\n",
              "Mass                                                                                                     2139\n",
              "Effusion Infiltration                                                                                    1603\n",
              "Atelectasis Infiltration                                                                                 1350\n",
              "Consolidation                                                                                            1310\n",
              "Atelectasis Effusion                                                                                     1165\n",
              "Pleural_Thickening                                                                                       1126\n",
              "Cardiomegaly                                                                                             1093\n",
              "Emphysema                                                                                                 892\n",
              "Infiltration Nodule                                                                                       829\n",
              "Atelectasis Effusion Infiltration                                                                         737\n",
              "Fibrosis                                                                                                  727\n",
              "Edema                                                                                                     628\n",
              "Cardiomegaly Effusion                                                                                     484\n",
              "Consolidation Infiltration                                                                                441\n",
              "Infiltration Mass                                                                                         420\n",
              "Effusion Pneumothorax                                                                                     403\n",
              "Effusion Mass                                                                                             402\n",
              "Atelectasis Consolidation                                                                                 398\n",
              "Mass Nodule                                                                                               394\n",
              "Edema Infiltration                                                                                        392\n",
              "Infiltration Pneumothorax                                                                                 345\n",
              "Emphysema Pneumothorax                                                                                    337\n",
              "Consolidation Effusion                                                                                    337\n",
              "Pneumonia                                                                                                 322\n",
              "                                                                                                        ...  \n",
              "Edema Effusion Emphysema Infiltration                                                                       1\n",
              "Cardiomegaly Edema Nodule                                                                                   1\n",
              "Cardiomegaly Consolidation Effusion Infiltration Mass Pleural_Thickening                                    1\n",
              "Hernia Infiltration Pneumothorax                                                                            1\n",
              "Effusion Pneumothorax Pneumonia                                                                             1\n",
              "Cardiomegaly Consolidation Mass                                                                             1\n",
              "Atelectasis Consolidation Effusion Emphysema Pneumothorax                                                   1\n",
              "Effusion Emphysema Infiltration Mass                                                                        1\n",
              "Cardiomegaly Effusion Nodule Infiltration                                                                   1\n",
              "Emphysema Mass Nodule Pleural_Thickening                                                                    1\n",
              "Fibrosis Hernia Mass                                                                                        1\n",
              "Atelectasis Cardiomegaly Edema Infiltration                                                                 1\n",
              "Atelectasis Consolidation Infiltration Pleural_Thickening Pneumothorax                                      1\n",
              "Emphysema Fibrosis Infiltration Pneumothorax                                                                1\n",
              "Atelectasis Effusion Hernia Infiltration                                                                    1\n",
              "Atelectasis Consolidation Effusion Fibrosis Infiltration Mass Nodule Pleural_Thickening Pneumothorax        1\n",
              "Pneumothorax Mass                                                                                           1\n",
              "Atelectasis Cardiomegaly Consolidation Effusion Infiltration Mass                                           1\n",
              "Effusion Mass Pneumonia Pneumothorax                                                                        1\n",
              "Infiltration Pneumothorax Pneumonia                                                                         1\n",
              "Edema Infiltration Nodule Pleural_Thickening                                                                1\n",
              "Effusion Hernia Pneumonia                                                                                   1\n",
              "Atelectasis Consolidation Edema Mass Pleural_Thickening                                                     1\n",
              "Atelectasis Cardiomegaly Effusion Fibrosis Infiltration                                                     1\n",
              "Edema Mass Pleural_Thickening                                                                               1\n",
              "Emphysema Infiltration Mass Nodule Pleural_Thickening                                                       1\n",
              "Atelectasis Fibrosis Infiltration Nodule                                                                    1\n",
              "Atelectasis Cardiomegaly Pneumothorax                                                                       1\n",
              "Effusion Emphysema Nodule Pleural_Thickening                                                                1\n",
              "Edema Fibrosis Infiltration Mass Nodule                                                                     1\n",
              "Name: Finding Labels, Length: 836, dtype: int64"
            ]
          },
          "metadata": {
            "tags": []
          },
          "execution_count": 23
        }
      ]
    },
    {
      "cell_type": "markdown",
      "metadata": {
        "id": "nMfCQvlXPyRr",
        "colab_type": "text"
      },
      "source": [
        "### Condition occurence\n",
        "How likely the condition is to appear as the only condition, or together with others  \n",
        "1 means it only appears by itself, as the only class  \n",
        "Larger value indicates the class is more likely to appear in multi-class images.\n",
        "Pneumonia is the most likely to appear in multi-class images, while Infiltration is the least likely."
      ]
    },
    {
      "cell_type": "code",
      "metadata": {
        "id": "zwTvUBgULocq",
        "colab_type": "code",
        "outputId": "f0a6a507-79cd-4159-f9ed-7f3343f4ffa0",
        "colab": {
          "base_uri": "https://localhost:8080/",
          "height": 365
        }
      },
      "source": [
        "x_labels = np.arange(len(conditions))\n",
        "plt.bar(conditions, ratio, align='center', alpha=0.5)\n",
        "plt.xticks(x_labels, conditions, rotation='vertical')\n",
        "plt.ylabel('Occurence')\n",
        "plt.title('Condition occurence')\n",
        "plt.show()"
      ],
      "execution_count": 24,
      "outputs": [
        {
          "output_type": "display_data",
          "data": {
            "image/png": "[encoded data removed]",
            "text/plain": [
              "<Figure size 432x288 with 1 Axes>"
            ]
          },
          "metadata": {
            "tags": []
          }
        }
      ]
    },
    {
      "cell_type": "code",
      "metadata": {
        "id": "_AuBsjudal0w",
        "colab_type": "code",
        "colab": {
          "base_uri": "https://localhost:8080/",
          "height": 374
        },
        "outputId": "c8197bd2-4647-4afd-cfb4-2d5db6092447"
      },
      "source": [
        "df['Patient Age'].sort_values(ascending=False).head(20)"
      ],
      "execution_count": 25,
      "outputs": [
        {
          "output_type": "execute_result",
          "data": {
            "text/plain": [
              "58464     95\n",
              "74737     94\n",
              "74736     94\n",
              "576       94\n",
              "74735     94\n",
              "74734     94\n",
              "577       94\n",
              "578       94\n",
              "74733     94\n",
              "74732     93\n",
              "3762      93\n",
              "39016     93\n",
              "74731     93\n",
              "74730     93\n",
              "74729     93\n",
              "108422    93\n",
              "3761      93\n",
              "5358      93\n",
              "584       92\n",
              "231       92\n",
              "Name: Patient Age, dtype: int64"
            ]
          },
          "metadata": {
            "tags": []
          },
          "execution_count": 25
        }
      ]
    },
    {
      "cell_type": "markdown",
      "metadata": {
        "id": "Ps6A29lQCQ-t",
        "colab_type": "text"
      },
      "source": [
        ""
      ]
    },
    {
      "cell_type": "markdown",
      "metadata": {
        "id": "ftpcJQpHOZwq",
        "colab_type": "text"
      },
      "source": [
        "### Check images from each class"
      ]
    },
    {
      "cell_type": "code",
      "metadata": {
        "id": "qfG7psPWCRGA",
        "colab_type": "code",
        "colab": {}
      },
      "source": [
        "import PIL\n",
        "from PIL import Image\n",
        "import numpy as np"
      ],
      "execution_count": 0,
      "outputs": []
    },
    {
      "cell_type": "code",
      "metadata": {
        "id": "SVAYHLopCZEZ",
        "colab_type": "code",
        "colab": {}
      },
      "source": [
        "#image = Image.open('00000001_000.png')\n",
        "#np.array(image).shape\n",
        "#image\n",
        "#a = np.array(image)\n",
        "#type(image)"
      ],
      "execution_count": 0,
      "outputs": []
    },
    {
      "cell_type": "markdown",
      "metadata": {
        "id": "Wu9bLd2_yrKZ",
        "colab_type": "text"
      },
      "source": [
        "# Sampling function\n",
        "We decide which classes to use"
      ]
    },
    {
      "cell_type": "markdown",
      "metadata": {
        "id": "BVTxnxb8ecye",
        "colab_type": "text"
      },
      "source": [
        "### Create new folder for each chosen class"
      ]
    },
    {
      "cell_type": "code",
      "metadata": {
        "id": "I8EZYo7gBM_e",
        "colab_type": "code",
        "colab": {}
      },
      "source": [
        "chosen_classes = ['Cardiomegaly', 'No Finding', 'Emphysema', 'Effusion', 'Atelectasis', 'Pleural_Thickening', 'Nodule','Edema']\n",
        "for i in range(0, len(chosen_classes)):\n",
        "  pass\n",
        "  #os.makedirs(\"./1024x1024/train/\" + str(chosen_classes[i]))\n",
        "  #os.makedirs(\"./1024x1024/test/\"  + str(chosen_classes[i]))\n",
        "  #os.makedirs(\"./1024x1024/valid/\" + str(chosen_classes[i]))          # <---- enable to create folders"
      ],
      "execution_count": 0,
      "outputs": []
    },
    {
      "cell_type": "markdown",
      "metadata": {
        "id": "LBcbECwDgDLI",
        "colab_type": "text"
      },
      "source": [
        "### Sampling function"
      ]
    },
    {
      "cell_type": "code",
      "metadata": {
        "id": "A9QtYhSimAK3",
        "colab_type": "code",
        "colab": {}
      },
      "source": [
        "# take only the 2 columns we need\n",
        "df1 = df[['Image Index','Finding Labels','View Position']]\n",
        "\n",
        "# sample n random images from a specific class, resize them, and copy to train/test/valid folders\n",
        "def sample_images(df1, class_name, count):\n",
        "  if class_name == 'Cardiomegaly':\n",
        "    df_test = df1[df1['Finding Labels'] == 'Cardiomegaly']\n",
        "  else:\n",
        "    df_test = df1[df1['Finding Labels'] == class_name]\n",
        "    df_test = df_test[df_test[\"View Position\"] == \"PA\"]\n",
        "\n",
        "  df_test = df_test.sample(n = count)\n",
        "  df_test = df_test[['Image Index']]\n",
        "\n",
        "  image_names = df_test.values\n",
        "\n",
        "  for i in range(0, count):\n",
        "    if i < 100:\n",
        "      folder = \"valid/\" + class_name + \"/\"\n",
        "    elif i < 200:\n",
        "      folder = \"test/\"  + class_name + \"/\"\n",
        "    else:\n",
        "      folder = \"train/\" + class_name + \"/\"\n",
        "    \n",
        "\t# clean up image names\n",
        "    image_name = str(image_names[i])\n",
        "    image_name = image_name.replace(\"[\", \"\")\n",
        "    image_name = image_name.replace(\"]\", \"\")\n",
        "    image_name = image_name.replace(\"'\", \"\")\n",
        "\t\n",
        "\t# progress message, so we know something is happening\n",
        "    if i % 400 == 0:\n",
        "      print(i,\"We are copying images from:\", class_name)\n",
        "    \t\n",
        "\t# copy images to the folder\t\n",
        "    copy_from = \"./1024x1024/\" + image_name\n",
        "    copy_to   = \"./zipthis/\" + folder + image_name\n",
        "    #print(copy_from, copy_to)\n",
        "    #shutil.copy(os.path.join(copy_from), os.path.join(copy_to))   # <---- enable to copy images into folders\n",
        "  print(\"---\")"
      ],
      "execution_count": 0,
      "outputs": []
    },
    {
      "cell_type": "markdown",
      "metadata": {
        "id": "qwz8wYzkfW8O",
        "colab_type": "text"
      },
      "source": [
        "### Prepare the sampled images"
      ]
    },
    {
      "cell_type": "code",
      "metadata": {
        "id": "XJqEJjICfUXf",
        "colab_type": "code",
        "colab": {
          "base_uri": "https://localhost:8080/",
          "height": 153
        },
        "outputId": "f0e2b877-2b00-445c-fe5d-354d157506f3"
      },
      "source": [
        "for j in range(0, len(chosen_classes)):\n",
        "  print(j+1, \"/\", len(chosen_classes),\", sampling:\", chosen_classes[j])\n",
        "  count = 0\n",
        "  if chosen_classes[j] == 'Cardiomegaly':\n",
        "    count = 1093\n",
        "  else:\n",
        "    count = 1500\n",
        "  pass\n",
        "  #sample_images(df1, chosen_classes[j], count)"
      ],
      "execution_count": 30,
      "outputs": [
        {
          "output_type": "stream",
          "text": [
            "1 / 8 , sampling: Cardiomegaly\n",
            "2 / 8 , sampling: No Finding\n",
            "3 / 8 , sampling: Emphysema\n",
            "4 / 8 , sampling: Effusion\n",
            "5 / 8 , sampling: Atelectasis\n",
            "6 / 8 , sampling: Pleural_Thickening\n",
            "7 / 8 , sampling: Nodule\n",
            "8 / 8 , sampling: Edema\n"
          ],
          "name": "stdout"
        }
      ]
    },
    {
      "cell_type": "markdown",
      "metadata": {
        "id": "UOkjIjR0VgAm",
        "colab_type": "text"
      },
      "source": [
        "###Download labels/image names as csv"
      ]
    },
    {
      "cell_type": "code",
      "metadata": {
        "id": "fSjhRN6TVHqb",
        "colab_type": "code",
        "colab": {}
      },
      "source": [
        "df1.to_csv('labels.csv') \n",
        "files.download('labels.csv')"
      ],
      "execution_count": 0,
      "outputs": []
    },
    {
      "cell_type": "markdown",
      "metadata": {
        "id": "4gGGSt1HYava",
        "colab_type": "text"
      },
      "source": [
        "# Script to download all 45 GB of images\n",
        "- **no longer needed**. Download from Kaggle if you want the dataset locally  \n",
        "- Original function was for Python 2. In Python 3 **urlretrieve** method is moved to **request** module.  \n",
        "- **Run this on your PC**, not on Colab :)"
      ]
    },
    {
      "cell_type": "code",
      "metadata": {
        "id": "Jo8lrmfyYa5V",
        "colab_type": "code",
        "colab": {}
      },
      "source": [
        "# Download the 56 zip files in Images_png in batches\n",
        "import urllib.request\n",
        "\n",
        "def download_all_images():\n",
        "  # URLs for the zip files\n",
        "  links = [\n",
        "      'https://nihcc.box.com/shared/static/vfk49d74nhbxq3nqjg0900w5nvkorp5c.gz',\n",
        "      'https://nihcc.box.com/shared/static/i28rlmbvmfjbl8p2n3ril0pptcmcu9d1.gz',\n",
        "      'https://nihcc.box.com/shared/static/f1t00wrtdk94satdfb9olcolqx20z2jp.gz',\n",
        "      'https://nihcc.box.com/shared/static/0aowwzs5lhjrceb3qp67ahp0rd1l1etg.gz',\n",
        "      'https://nihcc.box.com/shared/static/v5e3goj22zr6h8tzualxfsqlqaygfbsn.gz',\n",
        "      'https://nihcc.box.com/shared/static/asi7ikud9jwnkrnkj99jnpfkjdes7l6l.gz',\n",
        "      'https://nihcc.box.com/shared/static/jn1b4mw4n6lnh74ovmcjb8y48h8xj07n.gz',\n",
        "      'https://nihcc.box.com/shared/static/tvpxmn7qyrgl0w8wfh9kqfjskv6nmm1j.gz',\n",
        "      'https://nihcc.box.com/shared/static/upyy3ml7qdumlgk2rfcvlb9k6gvqq2pj.gz',\n",
        "      'https://nihcc.box.com/shared/static/l6nilvfa9cg3s28tqv1qc1olm3gnz54p.gz',\n",
        "      'https://nihcc.box.com/shared/static/hhq8fkdgvcari67vfhs7ppg2w6ni4jze.gz',\n",
        "      'https://nihcc.box.com/shared/static/ioqwiy20ihqwyr8pf4c24eazhh281pbu.gz'\n",
        "  ]\n",
        "\n",
        "  for idx, link in enumerate(links):\n",
        "      fn = 'images_%02d.tar.gz' % (idx+1)\n",
        "      print ('downloading', fn, '...')\n",
        "      urllib.request.urlretrieve(link, fn)  # download the zip file\n",
        "  print (\"Download complete. Please check the checksums\")"
      ],
      "execution_count": 0,
      "outputs": []
    }
  ]
}